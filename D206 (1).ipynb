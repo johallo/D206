{
 "cells": [
  {
   "cell_type": "code",
   "execution_count": 6,
   "id": "bfca3533-fd43-4ed9-95b2-7029fc20d643",
   "metadata": {},
   "outputs": [],
   "source": [
    "import pandas as pd\n"
   ]
  },
  {
   "cell_type": "code",
   "execution_count": 1,
   "id": "5ae95061-fc31-45d6-b8fb-4f449a874372",
   "metadata": {},
   "outputs": [
    {
     "ename": "NameError",
     "evalue": "name 'pd' is not defined",
     "output_type": "error",
     "traceback": [
      "\u001b[1;31m---------------------------------------------------------------------------\u001b[0m",
      "\u001b[1;31mNameError\u001b[0m                                 Traceback (most recent call last)",
      "\u001b[1;32m~\\AppData\\Local\\Temp\\ipykernel_29468\\1361340595.py\u001b[0m in \u001b[0;36m<module>\u001b[1;34m\u001b[0m\n\u001b[1;32m----> 1\u001b[1;33m \u001b[0mdata\u001b[0m \u001b[1;33m=\u001b[0m \u001b[0mpd\u001b[0m\u001b[1;33m.\u001b[0m\u001b[0mread_csv\u001b[0m\u001b[1;33m(\u001b[0m\u001b[1;34m'churn_raw_data.csv'\u001b[0m\u001b[1;33m)\u001b[0m\u001b[1;33m\u001b[0m\u001b[1;33m\u001b[0m\u001b[0m\n\u001b[0m",
      "\u001b[1;31mNameError\u001b[0m: name 'pd' is not defined"
     ]
    }
   ],
   "source": [
    "data = pd.read_csv('churn_raw_data.csv')"
   ]
  },
  {
   "cell_type": "code",
   "execution_count": null,
   "id": "28145f7b",
   "metadata": {},
   "outputs": [],
   "source": []
  },
  {
   "cell_type": "code",
   "execution_count": 8,
   "id": "a6447828-77f9-4167-89af-cb3965da44f3",
   "metadata": {},
   "outputs": [
    {
     "data": {
      "text/html": [
       "<div>\n",
       "<style scoped>\n",
       "    .dataframe tbody tr th:only-of-type {\n",
       "        vertical-align: middle;\n",
       "    }\n",
       "\n",
       "    .dataframe tbody tr th {\n",
       "        vertical-align: top;\n",
       "    }\n",
       "\n",
       "    .dataframe thead th {\n",
       "        text-align: right;\n",
       "    }\n",
       "</style>\n",
       "<table border=\"1\" class=\"dataframe\">\n",
       "  <thead>\n",
       "    <tr style=\"text-align: right;\">\n",
       "      <th></th>\n",
       "      <th>Unnamed: 0</th>\n",
       "      <th>CaseOrder</th>\n",
       "      <th>Customer_id</th>\n",
       "      <th>Interaction</th>\n",
       "      <th>City</th>\n",
       "      <th>State</th>\n",
       "      <th>County</th>\n",
       "      <th>Zip</th>\n",
       "      <th>Lat</th>\n",
       "      <th>Lng</th>\n",
       "      <th>...</th>\n",
       "      <th>MonthlyCharge</th>\n",
       "      <th>Bandwidth_GB_Year</th>\n",
       "      <th>item1</th>\n",
       "      <th>item2</th>\n",
       "      <th>item3</th>\n",
       "      <th>item4</th>\n",
       "      <th>item5</th>\n",
       "      <th>item6</th>\n",
       "      <th>item7</th>\n",
       "      <th>item8</th>\n",
       "    </tr>\n",
       "  </thead>\n",
       "  <tbody>\n",
       "    <tr>\n",
       "      <th>0</th>\n",
       "      <td>1</td>\n",
       "      <td>1</td>\n",
       "      <td>K409198</td>\n",
       "      <td>aa90260b-4141-4a24-8e36-b04ce1f4f77b</td>\n",
       "      <td>Point Baker</td>\n",
       "      <td>AK</td>\n",
       "      <td>Prince of Wales-Hyder</td>\n",
       "      <td>99927</td>\n",
       "      <td>56.25100</td>\n",
       "      <td>-133.37571</td>\n",
       "      <td>...</td>\n",
       "      <td>171.449762</td>\n",
       "      <td>904.536110</td>\n",
       "      <td>5</td>\n",
       "      <td>5</td>\n",
       "      <td>5</td>\n",
       "      <td>3</td>\n",
       "      <td>4</td>\n",
       "      <td>4</td>\n",
       "      <td>3</td>\n",
       "      <td>4</td>\n",
       "    </tr>\n",
       "    <tr>\n",
       "      <th>1</th>\n",
       "      <td>2</td>\n",
       "      <td>2</td>\n",
       "      <td>S120509</td>\n",
       "      <td>fb76459f-c047-4a9d-8af9-e0f7d4ac2524</td>\n",
       "      <td>West Branch</td>\n",
       "      <td>MI</td>\n",
       "      <td>Ogemaw</td>\n",
       "      <td>48661</td>\n",
       "      <td>44.32893</td>\n",
       "      <td>-84.24080</td>\n",
       "      <td>...</td>\n",
       "      <td>242.948015</td>\n",
       "      <td>800.982766</td>\n",
       "      <td>3</td>\n",
       "      <td>4</td>\n",
       "      <td>3</td>\n",
       "      <td>3</td>\n",
       "      <td>4</td>\n",
       "      <td>3</td>\n",
       "      <td>4</td>\n",
       "      <td>4</td>\n",
       "    </tr>\n",
       "    <tr>\n",
       "      <th>2</th>\n",
       "      <td>3</td>\n",
       "      <td>3</td>\n",
       "      <td>K191035</td>\n",
       "      <td>344d114c-3736-4be5-98f7-c72c281e2d35</td>\n",
       "      <td>Yamhill</td>\n",
       "      <td>OR</td>\n",
       "      <td>Yamhill</td>\n",
       "      <td>97148</td>\n",
       "      <td>45.35589</td>\n",
       "      <td>-123.24657</td>\n",
       "      <td>...</td>\n",
       "      <td>159.440398</td>\n",
       "      <td>2054.706961</td>\n",
       "      <td>4</td>\n",
       "      <td>4</td>\n",
       "      <td>2</td>\n",
       "      <td>4</td>\n",
       "      <td>4</td>\n",
       "      <td>3</td>\n",
       "      <td>3</td>\n",
       "      <td>3</td>\n",
       "    </tr>\n",
       "    <tr>\n",
       "      <th>3</th>\n",
       "      <td>4</td>\n",
       "      <td>4</td>\n",
       "      <td>D90850</td>\n",
       "      <td>abfa2b40-2d43-4994-b15a-989b8c79e311</td>\n",
       "      <td>Del Mar</td>\n",
       "      <td>CA</td>\n",
       "      <td>San Diego</td>\n",
       "      <td>92014</td>\n",
       "      <td>32.96687</td>\n",
       "      <td>-117.24798</td>\n",
       "      <td>...</td>\n",
       "      <td>120.249493</td>\n",
       "      <td>2164.579412</td>\n",
       "      <td>4</td>\n",
       "      <td>4</td>\n",
       "      <td>4</td>\n",
       "      <td>2</td>\n",
       "      <td>5</td>\n",
       "      <td>4</td>\n",
       "      <td>3</td>\n",
       "      <td>3</td>\n",
       "    </tr>\n",
       "    <tr>\n",
       "      <th>4</th>\n",
       "      <td>5</td>\n",
       "      <td>5</td>\n",
       "      <td>K662701</td>\n",
       "      <td>68a861fd-0d20-4e51-a587-8a90407ee574</td>\n",
       "      <td>Needville</td>\n",
       "      <td>TX</td>\n",
       "      <td>Fort Bend</td>\n",
       "      <td>77461</td>\n",
       "      <td>29.38012</td>\n",
       "      <td>-95.80673</td>\n",
       "      <td>...</td>\n",
       "      <td>150.761216</td>\n",
       "      <td>271.493436</td>\n",
       "      <td>4</td>\n",
       "      <td>4</td>\n",
       "      <td>4</td>\n",
       "      <td>3</td>\n",
       "      <td>4</td>\n",
       "      <td>4</td>\n",
       "      <td>4</td>\n",
       "      <td>5</td>\n",
       "    </tr>\n",
       "  </tbody>\n",
       "</table>\n",
       "<p>5 rows × 52 columns</p>\n",
       "</div>"
      ],
      "text/plain": [
       "   Unnamed: 0  CaseOrder Customer_id                           Interaction  \\\n",
       "0           1          1     K409198  aa90260b-4141-4a24-8e36-b04ce1f4f77b   \n",
       "1           2          2     S120509  fb76459f-c047-4a9d-8af9-e0f7d4ac2524   \n",
       "2           3          3     K191035  344d114c-3736-4be5-98f7-c72c281e2d35   \n",
       "3           4          4      D90850  abfa2b40-2d43-4994-b15a-989b8c79e311   \n",
       "4           5          5     K662701  68a861fd-0d20-4e51-a587-8a90407ee574   \n",
       "\n",
       "          City State                 County    Zip       Lat        Lng  ...  \\\n",
       "0  Point Baker    AK  Prince of Wales-Hyder  99927  56.25100 -133.37571  ...   \n",
       "1  West Branch    MI                 Ogemaw  48661  44.32893  -84.24080  ...   \n",
       "2      Yamhill    OR                Yamhill  97148  45.35589 -123.24657  ...   \n",
       "3      Del Mar    CA              San Diego  92014  32.96687 -117.24798  ...   \n",
       "4    Needville    TX              Fort Bend  77461  29.38012  -95.80673  ...   \n",
       "\n",
       "   MonthlyCharge Bandwidth_GB_Year item1 item2  item3  item4 item5 item6  \\\n",
       "0     171.449762        904.536110     5     5      5      3     4     4   \n",
       "1     242.948015        800.982766     3     4      3      3     4     3   \n",
       "2     159.440398       2054.706961     4     4      2      4     4     3   \n",
       "3     120.249493       2164.579412     4     4      4      2     5     4   \n",
       "4     150.761216        271.493436     4     4      4      3     4     4   \n",
       "\n",
       "   item7 item8  \n",
       "0      3     4  \n",
       "1      4     4  \n",
       "2      3     3  \n",
       "3      3     3  \n",
       "4      4     5  \n",
       "\n",
       "[5 rows x 52 columns]"
      ]
     },
     "execution_count": 8,
     "metadata": {},
     "output_type": "execute_result"
    }
   ],
   "source": [
    "data.head()"
   ]
  },
  {
   "cell_type": "code",
   "execution_count": 11,
   "id": "f576a88d-fcaf-486d-8075-3b7c0af01827",
   "metadata": {},
   "outputs": [],
   "source": [
    "import numpy as np"
   ]
  },
  {
   "cell_type": "code",
   "execution_count": 12,
   "id": "b8b7635f-85d1-4774-9f4c-9fc18ac90958",
   "metadata": {},
   "outputs": [],
   "source": [
    "##email outlier"
   ]
  },
  {
   "cell_type": "code",
   "execution_count": 13,
   "id": "b503c701-0c0f-43e7-87aa-9773a28b0fb8",
   "metadata": {},
   "outputs": [],
   "source": [
    "from scipy import stats"
   ]
  },
  {
   "cell_type": "code",
   "execution_count": 15,
   "id": "5f175c31-e30b-487c-bb67-e8bc1a53340b",
   "metadata": {},
   "outputs": [],
   "source": [
    "data_frame = pd.read_csv('churn_raw_data.csv')"
   ]
  },
  {
   "cell_type": "code",
   "execution_count": 16,
   "id": "462eb7d9-8dc2-479c-9bf3-294d365d3f0e",
   "metadata": {},
   "outputs": [],
   "source": [
    "data_frame['Email_z'] = stats.zscore(data_frame['Email'])"
   ]
  },
  {
   "cell_type": "code",
   "execution_count": 17,
   "id": "6c990d57-afe2-4d44-bcee-3b0156c0c1ec",
   "metadata": {},
   "outputs": [],
   "source": [
    "graph = pd.DataFrame({\"Email_z\":data_frame.loc[:,\"Email_z\"]})"
   ]
  },
  {
   "cell_type": "code",
   "execution_count": 18,
   "id": "799946a2-0e74-46be-9473-6a32d19d408c",
   "metadata": {},
   "outputs": [
    {
     "data": {
      "text/plain": [
       "array([[<AxesSubplot:title={'center':'Email_z'}>]], dtype=object)"
      ]
     },
     "execution_count": 18,
     "metadata": {},
     "output_type": "execute_result"
    },
    {
     "data": {
      "image/png": "[encoded data removed]",
      "text/plain": [
       "<Figure size 640x480 with 1 Axes>"
      ]
     },
     "metadata": {},
     "output_type": "display_data"
    }
   ],
   "source": [
    "graph.hist()"
   ]
  },
  {
   "cell_type": "code",
   "execution_count": 19,
   "id": "5767a518-1f1b-47cd-8044-ec8fcd949e8f",
   "metadata": {},
   "outputs": [],
   "source": [
    "##Population outlier"
   ]
  },
  {
   "cell_type": "code",
   "execution_count": 20,
   "id": "d3d03db1-1000-4b58-bf6d-407e99040c0a",
   "metadata": {},
   "outputs": [],
   "source": [
    "data_frame['Population_z'] = stats.zscore(data_frame['Population'])"
   ]
  },
  {
   "cell_type": "code",
   "execution_count": 21,
   "id": "9906a88d-b756-477c-996c-de9a1dc808e6",
   "metadata": {},
   "outputs": [],
   "source": [
    "graph = pd.DataFrame({\"Population_z\":data_frame.loc[:,\"Population_z\"]})"
   ]
  },
  {
   "cell_type": "code",
   "execution_count": 22,
   "id": "673c96b2-a3d4-4d91-9f33-eb98a8d3ed1f",
   "metadata": {},
   "outputs": [
    {
     "data": {
      "text/plain": [
       "array([[<AxesSubplot:title={'center':'Population_z'}>]], dtype=object)"
      ]
     },
     "execution_count": 22,
     "metadata": {},
     "output_type": "execute_result"
    },
    {
     "data": {
      "image/png": "[encoded data removed]",
      "text/plain": [
       "<Figure size 640x480 with 1 Axes>"
      ]
     },
     "metadata": {},
     "output_type": "display_data"
    }
   ],
   "source": [
    "graph.hist()"
   ]
  },
  {
   "cell_type": "code",
   "execution_count": 23,
   "id": "bb7ad967-e03c-49d1-b529-8b96c1942161",
   "metadata": {},
   "outputs": [],
   "source": [
    "##Children outlier"
   ]
  },
  {
   "cell_type": "code",
   "execution_count": 26,
   "id": "0035bb8e-ba56-45fa-8c05-27784a8c8ef5",
   "metadata": {},
   "outputs": [],
   "source": [
    "data_frame['Children_z'] = stats.zscore(data_frame['Children'])"
   ]
  },
  {
   "cell_type": "code",
   "execution_count": 27,
   "id": "61f82716-afea-470c-ab17-4d3a97f316d3",
   "metadata": {},
   "outputs": [],
   "source": [
    "graph = pd.DataFrame({\"Children_z\":data_frame.loc[:,\"Children\"]})"
   ]
  },
  {
   "cell_type": "code",
   "execution_count": 28,
   "id": "20c45858-bcbf-4e0e-9f05-84dc817c1c6a",
   "metadata": {},
   "outputs": [
    {
     "data": {
      "text/plain": [
       "array([[<AxesSubplot:title={'center':'Children_z'}>]], dtype=object)"
      ]
     },
     "execution_count": 28,
     "metadata": {},
     "output_type": "execute_result"
    },
    {
     "data": {
      "image/png": "[encoded data removed]",
      "text/plain": [
       "<Figure size 640x480 with 1 Axes>"
      ]
     },
     "metadata": {},
     "output_type": "display_data"
    }
   ],
   "source": [
    "graph.hist()"
   ]
  },
  {
   "cell_type": "code",
   "execution_count": 29,
   "id": "b0f20e14-c721-49b8-aa91-10d86018c05c",
   "metadata": {},
   "outputs": [],
   "source": [
    "##Age outlier"
   ]
  },
  {
   "cell_type": "code",
   "execution_count": 30,
   "id": "282ae390-976d-491f-bacb-02c26deed361",
   "metadata": {},
   "outputs": [],
   "source": [
    "data_frame['Age_z'] = stats.zscore(data_frame['Age'])"
   ]
  },
  {
   "cell_type": "code",
   "execution_count": 31,
   "id": "81ce4275-ed01-417f-85ae-d4edb33c81c7",
   "metadata": {},
   "outputs": [],
   "source": [
    "graph = pd.DataFrame({\"Age_z\":data_frame.loc[:,\"Age\"]})"
   ]
  },
  {
   "cell_type": "code",
   "execution_count": 32,
   "id": "8407c321-cb27-4bcf-88fd-6f4567fa4ccc",
   "metadata": {},
   "outputs": [
    {
     "data": {
      "text/plain": [
       "array([[<AxesSubplot:title={'center':'Age_z'}>]], dtype=object)"
      ]
     },
     "execution_count": 32,
     "metadata": {},
     "output_type": "execute_result"
    },
    {
     "data": {
      "image/png": "[encoded data removed]",
      "text/plain": [
       "<Figure size 640x480 with 1 Axes>"
      ]
     },
     "metadata": {},
     "output_type": "display_data"
    }
   ],
   "source": [
    "graph.hist()"
   ]
  },
  {
   "cell_type": "code",
   "execution_count": 33,
   "id": "f7103a12-58de-4681-b47c-1f09e471088b",
   "metadata": {},
   "outputs": [],
   "source": [
    "##Income outlier"
   ]
  },
  {
   "cell_type": "code",
   "execution_count": 34,
   "id": "222e944e-935d-426c-be00-c3fdc9b3bf03",
   "metadata": {},
   "outputs": [],
   "source": [
    "data_frame['Income_z'] = stats.zscore(data_frame['Income'])"
   ]
  },
  {
   "cell_type": "code",
   "execution_count": 35,
   "id": "e0627726-572f-4c07-be36-c18547c5ab93",
   "metadata": {},
   "outputs": [],
   "source": [
    "graph = pd.DataFrame({\"Income_z\":data_frame.loc[:,\"Income\"]})"
   ]
  },
  {
   "cell_type": "code",
   "execution_count": 36,
   "id": "5eef4f36-6586-493d-b4cc-44f4d40bccb6",
   "metadata": {},
   "outputs": [
    {
     "data": {
      "text/plain": [
       "array([[<AxesSubplot:title={'center':'Income_z'}>]], dtype=object)"
      ]
     },
     "execution_count": 36,
     "metadata": {},
     "output_type": "execute_result"
    },
    {
     "data": {
      "image/png": "[encoded data removed]",
      "text/plain": [
       "<Figure size 640x480 with 1 Axes>"
      ]
     },
     "metadata": {},
     "output_type": "display_data"
    }
   ],
   "source": [
    "graph.hist()"
   ]
  },
  {
   "cell_type": "code",
   "execution_count": 37,
   "id": "cf125116-d4e2-42d3-9528-3ea957423e44",
   "metadata": {},
   "outputs": [],
   "source": [
    "##Outage_sec_perweek outlier"
   ]
  },
  {
   "cell_type": "code",
   "execution_count": 38,
   "id": "f1e1f6cc-bf0b-4fd3-9f87-e83e9d150a94",
   "metadata": {},
   "outputs": [],
   "source": [
    "data_frame['Outage_sec_perweek_z'] =stats.zscore(data_frame['Outage_sec_perweek'])"
   ]
  },
  {
   "cell_type": "code",
   "execution_count": 39,
   "id": "0b2a149d-cb65-4251-a649-69efaa8263ef",
   "metadata": {},
   "outputs": [],
   "source": [
    "graph =pd.DataFrame({\"Outage_sec_perweek_z\":data_frame.loc[:,\"Outage_sec_perweek\"]})"
   ]
  },
  {
   "cell_type": "code",
   "execution_count": 40,
   "id": "2da9b358-5db3-417a-8c23-7f367848f912",
   "metadata": {},
   "outputs": [
    {
     "data": {
      "text/plain": [
       "array([[<AxesSubplot:title={'center':'Outage_sec_perweek_z'}>]],\n",
       "      dtype=object)"
      ]
     },
     "execution_count": 40,
     "metadata": {},
     "output_type": "execute_result"
    },
    {
     "data": {
      "image/png": "[encoded data removed]",
      "text/plain": [
       "<Figure size 640x480 with 1 Axes>"
      ]
     },
     "metadata": {},
     "output_type": "display_data"
    }
   ],
   "source": [
    "graph.hist()"
   ]
  },
  {
   "cell_type": "code",
   "execution_count": 41,
   "id": "36e9d31b-2456-4a67-a8c1-413058732921",
   "metadata": {},
   "outputs": [],
   "source": [
    "##Contacts outlier"
   ]
  },
  {
   "cell_type": "code",
   "execution_count": 42,
   "id": "ec3ffea7-2d25-4c42-9ac2-24698a8fb5f1",
   "metadata": {},
   "outputs": [],
   "source": [
    "data_frame['Contacts_z'] = stats.zscore(data_frame['Contacts'])"
   ]
  },
  {
   "cell_type": "code",
   "execution_count": 43,
   "id": "7d1f6f23-c871-40ae-95dc-1aae990959b5",
   "metadata": {},
   "outputs": [],
   "source": [
    "graph = pd.DataFrame({\"Contacts_z\":data_frame.loc[:,\"Contacts\"]})"
   ]
  },
  {
   "cell_type": "code",
   "execution_count": 44,
   "id": "1c905eb4-5291-454b-aaf1-0158a8e344c7",
   "metadata": {},
   "outputs": [
    {
     "data": {
      "text/plain": [
       "array([[<AxesSubplot:title={'center':'Contacts_z'}>]], dtype=object)"
      ]
     },
     "execution_count": 44,
     "metadata": {},
     "output_type": "execute_result"
    },
    {
     "data": {
      "image/png": "[encoded data removed]",
      "text/plain": [
       "<Figure size 640x480 with 1 Axes>"
      ]
     },
     "metadata": {},
     "output_type": "display_data"
    }
   ],
   "source": [
    "graph.hist()"
   ]
  },
  {
   "cell_type": "code",
   "execution_count": 45,
   "id": "25ed6833-a350-4840-bb05-7c769beb29ca",
   "metadata": {},
   "outputs": [],
   "source": [
    "##Yearly_equip_failure outlier"
   ]
  },
  {
   "cell_type": "code",
   "execution_count": 46,
   "id": "902af6b2-59db-4345-806d-d88a99ae31d1",
   "metadata": {},
   "outputs": [],
   "source": [
    "data_frame['Yearly_equip_failure_z'] = stats.zscore(data_frame['Yearly_equip_failure'])"
   ]
  },
  {
   "cell_type": "code",
   "execution_count": 47,
   "id": "3b199010-ad40-4f05-ba6f-232d88fdbeb0",
   "metadata": {},
   "outputs": [],
   "source": [
    "graph =pd.DataFrame({\"Yearly_equip_failure_z\":data_frame.loc[:,\"Yearly_equip_failure\"]})"
   ]
  },
  {
   "cell_type": "code",
   "execution_count": 48,
   "id": "1ba2f080-4bba-4ed2-b22e-1c23eb7610a0",
   "metadata": {},
   "outputs": [
    {
     "data": {
      "text/plain": [
       "array([[<AxesSubplot:title={'center':'Yearly_equip_failure_z'}>]],\n",
       "      dtype=object)"
      ]
     },
     "execution_count": 48,
     "metadata": {},
     "output_type": "execute_result"
    },
    {
     "data": {
      "image/png": "[encoded data removed]",
      "text/plain": [
       "<Figure size 640x480 with 1 Axes>"
      ]
     },
     "metadata": {},
     "output_type": "display_data"
    }
   ],
   "source": [
    "graph.hist()"
   ]
  },
  {
   "cell_type": "code",
   "execution_count": 49,
   "id": "5a6ee6d7-0b61-44da-aac1-5751831fcb46",
   "metadata": {},
   "outputs": [],
   "source": [
    "##Tenure outlier"
   ]
  },
  {
   "cell_type": "code",
   "execution_count": 50,
   "id": "fb5f46c7-fb8c-45d7-b37f-3804a0c96fa1",
   "metadata": {},
   "outputs": [],
   "source": [
    "data_frame['Tenure_z'] = stats.zscore(data_frame['Tenure'])"
   ]
  },
  {
   "cell_type": "code",
   "execution_count": 51,
   "id": "7b08402a-79bb-40ac-912f-9c7c5b3f3e51",
   "metadata": {},
   "outputs": [],
   "source": [
    "graph = pd.DataFrame({\"Tenure_z\":data_frame.loc[:,\"Tenure\"]})"
   ]
  },
  {
   "cell_type": "code",
   "execution_count": 52,
   "id": "3aeba6ec-a76c-4e5d-ad83-7113dda4053a",
   "metadata": {},
   "outputs": [
    {
     "data": {
      "text/plain": [
       "array([[<AxesSubplot:title={'center':'Tenure_z'}>]], dtype=object)"
      ]
     },
     "execution_count": 52,
     "metadata": {},
     "output_type": "execute_result"
    },
    {
     "data": {
      "image/png": "[encoded data removed]",
      "text/plain": [
       "<Figure size 640x480 with 1 Axes>"
      ]
     },
     "metadata": {},
     "output_type": "display_data"
    }
   ],
   "source": [
    "graph.hist()"
   ]
  },
  {
   "cell_type": "code",
   "execution_count": 53,
   "id": "a81f0b6a-3b6c-4858-b164-fe8f6a76a690",
   "metadata": {},
   "outputs": [],
   "source": [
    "##MonthlyCharge outlier"
   ]
  },
  {
   "cell_type": "code",
   "execution_count": 54,
   "id": "b7dc1e14-dec5-4722-b8ab-b1c36f057c27",
   "metadata": {},
   "outputs": [],
   "source": [
    "data_frame['MonthlyCharge_z'] = stats.zscore(data_frame['MonthlyCharge'])"
   ]
  },
  {
   "cell_type": "code",
   "execution_count": 55,
   "id": "6e5effb9-289f-4907-a6da-b84231777f3f",
   "metadata": {},
   "outputs": [],
   "source": [
    "graph = pd.DataFrame({\"MonthlyCharge_z\":data_frame.loc[:,\"MonthlyCharge\"]})"
   ]
  },
  {
   "cell_type": "code",
   "execution_count": 56,
   "id": "f2bbc204-8cc8-4fe3-ac50-941fc82acfb7",
   "metadata": {},
   "outputs": [
    {
     "data": {
      "text/plain": [
       "array([[<AxesSubplot:title={'center':'MonthlyCharge_z'}>]], dtype=object)"
      ]
     },
     "execution_count": 56,
     "metadata": {},
     "output_type": "execute_result"
    },
    {
     "data": {
      "image/png": "[encoded data removed]",
      "text/plain": [
       "<Figure size 640x480 with 1 Axes>"
      ]
     },
     "metadata": {},
     "output_type": "display_data"
    }
   ],
   "source": [
    "graph.hist()"
   ]
  },
  {
   "cell_type": "code",
   "execution_count": 57,
   "id": "0bf6a7ce-a7ca-408e-bc34-29ee1b9aa287",
   "metadata": {},
   "outputs": [],
   "source": [
    "##Bandwidth_GB_Year outlier"
   ]
  },
  {
   "cell_type": "code",
   "execution_count": 58,
   "id": "bc63c28e-e5d5-46af-bd33-160a829b0f9c",
   "metadata": {},
   "outputs": [],
   "source": [
    "data_frame['Bandwidth_GB_Year_z'] = stats.zscore(data_frame['Bandwidth_GB_Year'])"
   ]
  },
  {
   "cell_type": "code",
   "execution_count": 59,
   "id": "fb513922-3a4f-49d5-90ad-3e3b8cedab51",
   "metadata": {},
   "outputs": [],
   "source": [
    "graph =pd.DataFrame({\"Bandwidth_GB_Year_z\":data_frame.loc[:,\"Bandwidth_GB_Year\"]})"
   ]
  },
  {
   "cell_type": "code",
   "execution_count": 70,
   "id": "4a9f4dd5-0662-4dbc-b480-bd5a75033b42",
   "metadata": {},
   "outputs": [
    {
     "data": {
      "text/plain": [
       "array([[<AxesSubplot:title={'center':'Bandwidth_GB_Year_z'}>]],\n",
       "      dtype=object)"
      ]
     },
     "execution_count": 70,
     "metadata": {},
     "output_type": "execute_result"
    },
    {
     "data": {
      "image/png": "[encoded data removed]",
      "text/plain": [
       "<Figure size 640x480 with 1 Axes>"
      ]
     },
     "metadata": {},
     "output_type": "display_data"
    }
   ],
   "source": [
    "graph.hist()"
   ]
  },
  {
   "cell_type": "code",
   "execution_count": 71,
   "id": "7184dbe7-1aa6-4294-9c0e-1ec2d53e285e",
   "metadata": {},
   "outputs": [
    {
     "name": "stdout",
     "output_type": "stream",
     "text": [
      "0        No\n",
      "1       Yes\n",
      "2        No\n",
      "3        No\n",
      "4       Yes\n",
      "       ... \n",
      "9995     No\n",
      "9996     No\n",
      "9997     No\n",
      "9998     No\n",
      "9999     No\n",
      "Name: Churn, Length: 10000, dtype: object\n"
     ]
    }
   ],
   "source": [
    "print(data_frame[\"Churn\"])"
   ]
  },
  {
   "cell_type": "code",
   "execution_count": 72,
   "id": "648cc3f5-4712-47a0-a7c5-8acf99e9286e",
   "metadata": {},
   "outputs": [],
   "source": [
    "dict_churn = {\"Churn_num\": {'Yes': 1, 'No': 0}}"
   ]
  },
  {
   "cell_type": "code",
   "execution_count": 73,
   "id": "501fd6c5-e26b-4b1d-8451-1e886148637a",
   "metadata": {},
   "outputs": [],
   "source": [
    "data_frame[\"Churn_num\"] = data_frame[\"Churn\"]"
   ]
  },
  {
   "cell_type": "code",
   "execution_count": 74,
   "id": "47dc2ca2-2d3a-42f2-8bde-f08a3613112c",
   "metadata": {},
   "outputs": [],
   "source": [
    "data_frame.replace(dict_churn, inplace = True)"
   ]
  },
  {
   "cell_type": "code",
   "execution_count": 75,
   "id": "5e7d295b-b1be-4fb3-b340-e290c67e584d",
   "metadata": {},
   "outputs": [
    {
     "name": "stdout",
     "output_type": "stream",
     "text": [
      "0       0\n",
      "1       1\n",
      "2       0\n",
      "3       0\n",
      "4       1\n",
      "       ..\n",
      "9995    0\n",
      "9996    0\n",
      "9997    0\n",
      "9998    0\n",
      "9999    0\n",
      "Name: Churn_num, Length: 10000, dtype: int64\n"
     ]
    }
   ],
   "source": [
    "print(data_frame[\"Churn_num\"])"
   ]
  },
  {
   "cell_type": "code",
   "execution_count": 78,
   "id": "99ffbc19-0912-4e9e-b6bd-dc7e7bf9a9cf",
   "metadata": {},
   "outputs": [
    {
     "name": "stdout",
     "output_type": "stream",
     "text": [
      "0                      Master's Degree\n",
      "1          Regular High School Diploma\n",
      "2          Regular High School Diploma\n",
      "3                     Doctorate Degree\n",
      "4                      Master's Degree\n",
      "                     ...              \n",
      "9995    Some College, Less than 1 Year\n",
      "9996       Regular High School Diploma\n",
      "9997       Nursery School to 8th Grade\n",
      "9998                 Bachelor's Degree\n",
      "9999     GED or Alternative Credential\n",
      "Name: Education, Length: 10000, dtype: object\n"
     ]
    }
   ],
   "source": [
    "print(data_frame[\"Education\"])"
   ]
  },
  {
   "cell_type": "code",
   "execution_count": 102,
   "id": "bba9f0dc-7b35-481a-b03b-493c7f080bb1",
   "metadata": {},
   "outputs": [
    {
     "name": "stdout",
     "output_type": "stream",
     "text": [
      "0        4\n",
      "1        0\n",
      "2        0\n",
      "3       11\n",
      "4        4\n",
      "        ..\n",
      "9995     6\n",
      "9996     0\n",
      "9997     7\n",
      "9998     1\n",
      "9999     8\n",
      "Name: Education_num, Length: 10000, dtype: int64\n"
     ]
    }
   ],
   "source": [
    "dict_ed = {\"Education_num\":{\"Regular High School Diploma\": 0, \"Bachelor's Degree\": 1,\n",
    "\"Some College, 1 or More Years, No Degree\": 2, \"9th Grade to 12th Grade, No Diploma\":3,\n",
    "\"Master's Degree\": 4, \"Associate's Degree\": 5, \"Some College, Less than 1 Year\": 6,\"Nursery School to 8th Grade\": 7,\n",
    "\"GED or Alternative Credential\": 8, \"Professional School Degree\": 9,\n",
    "\"No Schooling Completed\": 10, \"Doctorate Degree\": 11}}\n",
    "data_frame[\"Education_num\"] = data_frame[\"Education\"]\n",
    "data_frame.replace(dict_ed, inplace = True)\n",
    "print(data_frame[\"Education_num\"])"
   ]
  },
  {
   "cell_type": "code",
   "execution_count": 80,
   "id": "a6a14250-cd25-4300-b672-d17d31130d92",
   "metadata": {},
   "outputs": [
    {
     "data": {
      "text/plain": [
       "Unnamed: 0                 0\n",
       "CaseOrder                  0\n",
       "Customer_id                0\n",
       "Interaction                0\n",
       "City                       0\n",
       "                       ...  \n",
       "Tenure_z               10000\n",
       "MonthlyCharge_z            0\n",
       "Bandwidth_GB_Year_z    10000\n",
       "Churn_num                  0\n",
       "Education_num              0\n",
       "Length: 65, dtype: int64"
      ]
     },
     "execution_count": 80,
     "metadata": {},
     "output_type": "execute_result"
    }
   ],
   "source": [
    "data_frame.isna().sum()"
   ]
  },
  {
   "cell_type": "code",
   "execution_count": 81,
   "id": "e832108d-4e6c-42bc-a3a5-9cf70f3174f6",
   "metadata": {},
   "outputs": [],
   "source": [
    "import pandas as pd"
   ]
  },
  {
   "cell_type": "code",
   "execution_count": 85,
   "id": "6e97217c-cfbd-4296-b675-61128756408c",
   "metadata": {},
   "outputs": [],
   "source": [
    "data_frame = pd.read_csv('churn_raw_data.csv')"
   ]
  },
  {
   "cell_type": "code",
   "execution_count": 103,
   "id": "64a5a70f-8d3c-420b-89b8-e1264dab13b0",
   "metadata": {},
   "outputs": [
    {
     "name": "stdout",
     "output_type": "stream",
     "text": [
      "      Unnamed: 0  CaseOrder Customer_id                           Interaction  \\\n",
      "0              1          1     K409198  aa90260b-4141-4a24-8e36-b04ce1f4f77b   \n",
      "1              2          2     S120509  fb76459f-c047-4a9d-8af9-e0f7d4ac2524   \n",
      "2              3          3     K191035  344d114c-3736-4be5-98f7-c72c281e2d35   \n",
      "3              4          4      D90850  abfa2b40-2d43-4994-b15a-989b8c79e311   \n",
      "4              5          5     K662701  68a861fd-0d20-4e51-a587-8a90407ee574   \n",
      "...          ...        ...         ...                                   ...   \n",
      "9995        9996       9996     M324793  45deb5a2-ae04-4518-bf0b-c82db8dbe4a4   \n",
      "9996        9997       9997     D861732  6e96b921-0c09-4993-bbda-a1ac6411061a   \n",
      "9997        9998       9998     I243405  e8307ddf-9a01-4fff-bc59-4742e03fd24f   \n",
      "9998        9999       9999     I641617  3775ccfc-0052-4107-81ae-9657f81ecdf3   \n",
      "9999       10000      10000      T38070  9de5fb6e-bd33-4995-aec8-f01d0172a499   \n",
      "\n",
      "              City State                 County    Zip       Lat        Lng  \\\n",
      "0      Point Baker    AK  Prince of Wales-Hyder  99927  56.25100 -133.37571   \n",
      "1      West Branch    MI                 Ogemaw  48661  44.32893  -84.24080   \n",
      "2          Yamhill    OR                Yamhill  97148  45.35589 -123.24657   \n",
      "3          Del Mar    CA              San Diego  92014  32.96687 -117.24798   \n",
      "4        Needville    TX              Fort Bend  77461  29.38012  -95.80673   \n",
      "...            ...   ...                    ...    ...       ...        ...   \n",
      "9995   Mount Holly    VT                Rutland   5758  43.43391  -72.78734   \n",
      "9996   Clarksville    TN             Montgomery  37042  36.56907  -87.41694   \n",
      "9997      Mobeetie    TX                Wheeler  79061  35.52039 -100.44180   \n",
      "9998    Carrollton    GA                Carroll  30117  33.58016  -85.13241   \n",
      "9999  Clarkesville    GA              Habersham  30523  34.70783  -83.53648   \n",
      "\n",
      "      ...  Bandwidth_GB_Year item1 item2 item3  item4  item5 item6 item7  \\\n",
      "0     ...         904.536110     5     5     5      3      4     4     3   \n",
      "1     ...         800.982766     3     4     3      3      4     3     4   \n",
      "2     ...        2054.706961     4     4     2      4      4     3     3   \n",
      "3     ...        2164.579412     4     4     4      2      5     4     3   \n",
      "4     ...         271.493436     4     4     4      3      4     4     4   \n",
      "...   ...                ...   ...   ...   ...    ...    ...   ...   ...   \n",
      "9995  ...        6511.253000     3     2     3      3      4     3     2   \n",
      "9996  ...        5695.952000     4     5     5      4      4     5     2   \n",
      "9997  ...        4159.306000     4     4     4      4      4     4     4   \n",
      "9998  ...        6468.457000     4     4     6      4      3     3     5   \n",
      "9999  ...        5857.586000     2     2     3      3      3     3     4   \n",
      "\n",
      "      item8 Education_num  \n",
      "0         4             4  \n",
      "1         4             0  \n",
      "2         3             0  \n",
      "3         3            11  \n",
      "4         5             4  \n",
      "...     ...           ...  \n",
      "9995      3             6  \n",
      "9996      5             0  \n",
      "9997      5             7  \n",
      "9998      4             1  \n",
      "9999      1             8  \n",
      "\n",
      "[10000 rows x 53 columns]\n"
     ]
    }
   ],
   "source": [
    "print(data_frame)"
   ]
  },
  {
   "cell_type": "code",
   "execution_count": 2,
   "id": "707ad99e-9425-46f1-814a-e1de7168622d",
   "metadata": {},
   "outputs": [
    {
     "name": "stdout",
     "output_type": "stream",
     "text": [
      "      Unnamed: 0  CaseOrder Customer_id                           Interaction  \\\n",
      "0              1          1     K409198  aa90260b-4141-4a24-8e36-b04ce1f4f77b   \n",
      "1              2          2     S120509  fb76459f-c047-4a9d-8af9-e0f7d4ac2524   \n",
      "2              3          3     K191035  344d114c-3736-4be5-98f7-c72c281e2d35   \n",
      "3              4          4      D90850  abfa2b40-2d43-4994-b15a-989b8c79e311   \n",
      "4              5          5     K662701  68a861fd-0d20-4e51-a587-8a90407ee574   \n",
      "...          ...        ...         ...                                   ...   \n",
      "9995        9996       9996     M324793  45deb5a2-ae04-4518-bf0b-c82db8dbe4a4   \n",
      "9996        9997       9997     D861732  6e96b921-0c09-4993-bbda-a1ac6411061a   \n",
      "9997        9998       9998     I243405  e8307ddf-9a01-4fff-bc59-4742e03fd24f   \n",
      "9998        9999       9999     I641617  3775ccfc-0052-4107-81ae-9657f81ecdf3   \n",
      "9999       10000      10000      T38070  9de5fb6e-bd33-4995-aec8-f01d0172a499   \n",
      "\n",
      "              City State                 County    Zip       Lat        Lng  \\\n",
      "0      Point Baker    AK  Prince of Wales-Hyder  99927  56.25100 -133.37571   \n",
      "1      West Branch    MI                 Ogemaw  48661  44.32893  -84.24080   \n",
      "2          Yamhill    OR                Yamhill  97148  45.35589 -123.24657   \n",
      "3          Del Mar    CA              San Diego  92014  32.96687 -117.24798   \n",
      "4        Needville    TX              Fort Bend  77461  29.38012  -95.80673   \n",
      "...            ...   ...                    ...    ...       ...        ...   \n",
      "9995   Mount Holly    VT                Rutland   5758  43.43391  -72.78734   \n",
      "9996   Clarksville    TN             Montgomery  37042  36.56907  -87.41694   \n",
      "9997      Mobeetie    TX                Wheeler  79061  35.52039 -100.44180   \n",
      "9998    Carrollton    GA                Carroll  30117  33.58016  -85.13241   \n",
      "9999  Clarkesville    GA              Habersham  30523  34.70783  -83.53648   \n",
      "\n",
      "      ...  MonthlyCharge Bandwidth_GB_Year item1 item2  item3  item4 item5  \\\n",
      "0     ...     171.449762        904.536110     5     5      5      3     4   \n",
      "1     ...     242.948015        800.982766     3     4      3      3     4   \n",
      "2     ...     159.440398       2054.706961     4     4      2      4     4   \n",
      "3     ...     120.249493       2164.579412     4     4      4      2     5   \n",
      "4     ...     150.761216        271.493436     4     4      4      3     4   \n",
      "...   ...            ...               ...   ...   ...    ...    ...   ...   \n",
      "9995  ...     159.828800       6511.253000     3     2      3      3     4   \n",
      "9996  ...     208.856400       5695.952000     4     5      5      4     4   \n",
      "9997  ...     168.220900       4159.306000     4     4      4      4     4   \n",
      "9998  ...     252.628600       6468.457000     4     4      6      4     3   \n",
      "9999  ...     218.371000       5857.586000     2     2      3      3     3   \n",
      "\n",
      "     item6  item7 item8  \n",
      "0        4      3     4  \n",
      "1        3      4     4  \n",
      "2        3      3     3  \n",
      "3        4      3     3  \n",
      "4        4      4     5  \n",
      "...    ...    ...   ...  \n",
      "9995     3      2     3  \n",
      "9996     5      2     5  \n",
      "9997     4      4     5  \n",
      "9998     3      5     4  \n",
      "9999     3      4     1  \n",
      "\n",
      "[10000 rows x 52 columns]\n"
     ]
    }
   ],
   "source": [
    "import pandas as pd\n",
    "data_frame = pd.read_csv('churn_raw_data.csv')\n",
    "print(data_frame)\n"
   ]
  },
  {
   "cell_type": "code",
   "execution_count": 5,
   "id": "11dee4a8",
   "metadata": {},
   "outputs": [
    {
     "data": {
      "text/plain": [
       "Unnamed: 0                 0\n",
       "CaseOrder                  0\n",
       "Customer_id                0\n",
       "Interaction                0\n",
       "City                       0\n",
       "State                      0\n",
       "County                     0\n",
       "Zip                        0\n",
       "Lat                        0\n",
       "Lng                        0\n",
       "Population                 0\n",
       "Area                       0\n",
       "Timezone                   0\n",
       "Job                        0\n",
       "Children                2495\n",
       "Age                     2475\n",
       "Education                  0\n",
       "Employment                 0\n",
       "Income                  2490\n",
       "Marital                    0\n",
       "Gender                     0\n",
       "Churn                      0\n",
       "Outage_sec_perweek         0\n",
       "Email                      0\n",
       "Contacts                   0\n",
       "Yearly_equip_failure       0\n",
       "Techie                  2477\n",
       "Contract                   0\n",
       "Port_modem                 0\n",
       "Tablet                     0\n",
       "InternetService            0\n",
       "Phone                   1026\n",
       "Multiple                   0\n",
       "OnlineSecurity             0\n",
       "OnlineBackup               0\n",
       "DeviceProtection           0\n",
       "TechSupport              991\n",
       "StreamingTV                0\n",
       "StreamingMovies            0\n",
       "PaperlessBilling           0\n",
       "PaymentMethod              0\n",
       "Tenure                   931\n",
       "MonthlyCharge              0\n",
       "Bandwidth_GB_Year       1021\n",
       "item1                      0\n",
       "item2                      0\n",
       "item3                      0\n",
       "item4                      0\n",
       "item5                      0\n",
       "item6                      0\n",
       "item7                      0\n",
       "item8                      0\n",
       "dtype: int64"
      ]
     },
     "execution_count": 5,
     "metadata": {},
     "output_type": "execute_result"
    }
   ],
   "source": [
    "data_frame.isna().sum()"
   ]
  },
  {
   "cell_type": "code",
   "execution_count": 6,
   "id": "3effa9fb",
   "metadata": {},
   "outputs": [
    {
     "data": {
      "text/html": [
       "<div>\n",
       "<style scoped>\n",
       "    .dataframe tbody tr th:only-of-type {\n",
       "        vertical-align: middle;\n",
       "    }\n",
       "\n",
       "    .dataframe tbody tr th {\n",
       "        vertical-align: top;\n",
       "    }\n",
       "\n",
       "    .dataframe thead th {\n",
       "        text-align: right;\n",
       "    }\n",
       "</style>\n",
       "<table border=\"1\" class=\"dataframe\">\n",
       "  <thead>\n",
       "    <tr style=\"text-align: right;\">\n",
       "      <th></th>\n",
       "      <th>Unnamed: 0</th>\n",
       "      <th>CaseOrder</th>\n",
       "      <th>Customer_id</th>\n",
       "      <th>Interaction</th>\n",
       "      <th>City</th>\n",
       "      <th>State</th>\n",
       "      <th>County</th>\n",
       "      <th>Zip</th>\n",
       "      <th>Lat</th>\n",
       "      <th>Lng</th>\n",
       "      <th>...</th>\n",
       "      <th>MonthlyCharge</th>\n",
       "      <th>Bandwidth_GB_Year</th>\n",
       "      <th>item1</th>\n",
       "      <th>item2</th>\n",
       "      <th>item3</th>\n",
       "      <th>item4</th>\n",
       "      <th>item5</th>\n",
       "      <th>item6</th>\n",
       "      <th>item7</th>\n",
       "      <th>item8</th>\n",
       "    </tr>\n",
       "  </thead>\n",
       "  <tbody>\n",
       "    <tr>\n",
       "      <th>0</th>\n",
       "      <td>1</td>\n",
       "      <td>1</td>\n",
       "      <td>K409198</td>\n",
       "      <td>aa90260b-4141-4a24-8e36-b04ce1f4f77b</td>\n",
       "      <td>Point Baker</td>\n",
       "      <td>AK</td>\n",
       "      <td>Prince of Wales-Hyder</td>\n",
       "      <td>99927</td>\n",
       "      <td>56.25100</td>\n",
       "      <td>-133.37571</td>\n",
       "      <td>...</td>\n",
       "      <td>171.449762</td>\n",
       "      <td>904.536110</td>\n",
       "      <td>5</td>\n",
       "      <td>5</td>\n",
       "      <td>5</td>\n",
       "      <td>3</td>\n",
       "      <td>4</td>\n",
       "      <td>4</td>\n",
       "      <td>3</td>\n",
       "      <td>4</td>\n",
       "    </tr>\n",
       "    <tr>\n",
       "      <th>1</th>\n",
       "      <td>2</td>\n",
       "      <td>2</td>\n",
       "      <td>S120509</td>\n",
       "      <td>fb76459f-c047-4a9d-8af9-e0f7d4ac2524</td>\n",
       "      <td>West Branch</td>\n",
       "      <td>MI</td>\n",
       "      <td>Ogemaw</td>\n",
       "      <td>48661</td>\n",
       "      <td>44.32893</td>\n",
       "      <td>-84.24080</td>\n",
       "      <td>...</td>\n",
       "      <td>242.948015</td>\n",
       "      <td>800.982766</td>\n",
       "      <td>3</td>\n",
       "      <td>4</td>\n",
       "      <td>3</td>\n",
       "      <td>3</td>\n",
       "      <td>4</td>\n",
       "      <td>3</td>\n",
       "      <td>4</td>\n",
       "      <td>4</td>\n",
       "    </tr>\n",
       "    <tr>\n",
       "      <th>2</th>\n",
       "      <td>3</td>\n",
       "      <td>3</td>\n",
       "      <td>K191035</td>\n",
       "      <td>344d114c-3736-4be5-98f7-c72c281e2d35</td>\n",
       "      <td>Yamhill</td>\n",
       "      <td>OR</td>\n",
       "      <td>Yamhill</td>\n",
       "      <td>97148</td>\n",
       "      <td>45.35589</td>\n",
       "      <td>-123.24657</td>\n",
       "      <td>...</td>\n",
       "      <td>159.440398</td>\n",
       "      <td>2054.706961</td>\n",
       "      <td>4</td>\n",
       "      <td>4</td>\n",
       "      <td>2</td>\n",
       "      <td>4</td>\n",
       "      <td>4</td>\n",
       "      <td>3</td>\n",
       "      <td>3</td>\n",
       "      <td>3</td>\n",
       "    </tr>\n",
       "    <tr>\n",
       "      <th>3</th>\n",
       "      <td>4</td>\n",
       "      <td>4</td>\n",
       "      <td>D90850</td>\n",
       "      <td>abfa2b40-2d43-4994-b15a-989b8c79e311</td>\n",
       "      <td>Del Mar</td>\n",
       "      <td>CA</td>\n",
       "      <td>San Diego</td>\n",
       "      <td>92014</td>\n",
       "      <td>32.96687</td>\n",
       "      <td>-117.24798</td>\n",
       "      <td>...</td>\n",
       "      <td>120.249493</td>\n",
       "      <td>2164.579412</td>\n",
       "      <td>4</td>\n",
       "      <td>4</td>\n",
       "      <td>4</td>\n",
       "      <td>2</td>\n",
       "      <td>5</td>\n",
       "      <td>4</td>\n",
       "      <td>3</td>\n",
       "      <td>3</td>\n",
       "    </tr>\n",
       "    <tr>\n",
       "      <th>4</th>\n",
       "      <td>5</td>\n",
       "      <td>5</td>\n",
       "      <td>K662701</td>\n",
       "      <td>68a861fd-0d20-4e51-a587-8a90407ee574</td>\n",
       "      <td>Needville</td>\n",
       "      <td>TX</td>\n",
       "      <td>Fort Bend</td>\n",
       "      <td>77461</td>\n",
       "      <td>29.38012</td>\n",
       "      <td>-95.80673</td>\n",
       "      <td>...</td>\n",
       "      <td>150.761216</td>\n",
       "      <td>271.493436</td>\n",
       "      <td>4</td>\n",
       "      <td>4</td>\n",
       "      <td>4</td>\n",
       "      <td>3</td>\n",
       "      <td>4</td>\n",
       "      <td>4</td>\n",
       "      <td>4</td>\n",
       "      <td>5</td>\n",
       "    </tr>\n",
       "  </tbody>\n",
       "</table>\n",
       "<p>5 rows × 52 columns</p>\n",
       "</div>"
      ],
      "text/plain": [
       "   Unnamed: 0  CaseOrder Customer_id                           Interaction  \\\n",
       "0           1          1     K409198  aa90260b-4141-4a24-8e36-b04ce1f4f77b   \n",
       "1           2          2     S120509  fb76459f-c047-4a9d-8af9-e0f7d4ac2524   \n",
       "2           3          3     K191035  344d114c-3736-4be5-98f7-c72c281e2d35   \n",
       "3           4          4      D90850  abfa2b40-2d43-4994-b15a-989b8c79e311   \n",
       "4           5          5     K662701  68a861fd-0d20-4e51-a587-8a90407ee574   \n",
       "\n",
       "          City State                 County    Zip       Lat        Lng  ...  \\\n",
       "0  Point Baker    AK  Prince of Wales-Hyder  99927  56.25100 -133.37571  ...   \n",
       "1  West Branch    MI                 Ogemaw  48661  44.32893  -84.24080  ...   \n",
       "2      Yamhill    OR                Yamhill  97148  45.35589 -123.24657  ...   \n",
       "3      Del Mar    CA              San Diego  92014  32.96687 -117.24798  ...   \n",
       "4    Needville    TX              Fort Bend  77461  29.38012  -95.80673  ...   \n",
       "\n",
       "   MonthlyCharge Bandwidth_GB_Year item1 item2  item3  item4 item5 item6  \\\n",
       "0     171.449762        904.536110     5     5      5      3     4     4   \n",
       "1     242.948015        800.982766     3     4      3      3     4     3   \n",
       "2     159.440398       2054.706961     4     4      2      4     4     3   \n",
       "3     120.249493       2164.579412     4     4      4      2     5     4   \n",
       "4     150.761216        271.493436     4     4      4      3     4     4   \n",
       "\n",
       "   item7 item8  \n",
       "0      3     4  \n",
       "1      4     4  \n",
       "2      3     3  \n",
       "3      3     3  \n",
       "4      4     5  \n",
       "\n",
       "[5 rows x 52 columns]"
      ]
     },
     "execution_count": 6,
     "metadata": {},
     "output_type": "execute_result"
    }
   ],
   "source": [
    "data_frame[\"Age\"].fillna(data_frame[\"Age\"].mean(), inplace = True)\n",
    "data_frame[\"Tenure\"].fillna(data_frame[\"Tenure\"].mean(), inplace = True)\n",
    "data_frame[\"Children\"].fillna(data_frame[\"Children\"].mean(), inplace = True)\n",
    "data_frame[\"Income\"].fillna(data_frame[\"Income\"].mean(), inplace = True)\n",
    "data_frame[\"Bandwidth_GB_Year\"].fillna(data_frame[\"Bandwidth_GB_Year\"].mean(), inplace =True)\n",
    "data_frame[\"Techie\"].fillna(data_frame[\"Techie\"].mode(), inplace = True)\n",
    "data_frame['Techie'] = data_frame['Techie'].fillna(data_frame['Techie'].mode()[0])\n",
    "data_frame['Phone'] = data_frame['Phone'].fillna(data_frame['Phone'].mode()[0])\n",
    "data_frame['TechSupport'] = data_frame['TechSupport'].fillna(data_frame['TechSupport'].mode()[0])\n",
    "data_frame.isna().sum()\n",
    "data_frame.head()"
   ]
  },
  {
   "cell_type": "code",
   "execution_count": 7,
   "id": "a1546876",
   "metadata": {},
   "outputs": [
    {
     "name": "stdout",
     "output_type": "stream",
     "text": [
      "Counter({'No': 7350, 'Yes': 2650})\n",
      "Counter({0: 7350, 1: 2650})\n"
     ]
    },
    {
     "name": "stderr",
     "output_type": "stream",
     "text": [
      "C:\\ProgramData\\Anaconda3\\lib\\site-packages\\seaborn\\_decorators.py:36: FutureWarning: Pass the following variable as a keyword arg: x. From version 0.12, the only valid positional argument will be `data`, and passing other arguments without an explicit keyword will result in an error or misinterpretation.\n",
      "  warnings.warn(\n"
     ]
    },
    {
     "data": {
      "text/plain": [
       "<AxesSubplot:xlabel='Churn_num', ylabel='count'>"
      ]
     },
     "execution_count": 7,
     "metadata": {},
     "output_type": "execute_result"
    },
    {
     "data": {
      "image/png": "[encoded data removed]",
      "text/plain": [
       "<Figure size 5000x1600 with 1 Axes>"
      ]
     },
     "metadata": {},
     "output_type": "display_data"
    }
   ],
   "source": [
    "import pandas as pd\n",
    "import seaborn as sb\n",
    "import matplotlib.pyplot as plt\n",
    "from collections import Counter\n",
    "%matplotlib inline\n",
    "dict_churn = {\"Churn_num\": {'Yes': 1, 'No': 0}}\n",
    "print(Counter(data_frame[\"Churn\"]))\n",
    "data_frame[\"Churn_num\"] = data_frame[\"Churn\"]\n",
    "data_frame.replace(dict_churn, inplace = True)\n",
    "print(Counter(data_frame[\"Churn_num\"]))\n",
    "plt.figure(figsize=(50, 16))\n",
    "sb.countplot(\"Churn_num\", data = data_frame, orient = \"v\")"
   ]
  },
  {
   "cell_type": "code",
   "execution_count": 8,
   "id": "77f57d1f",
   "metadata": {},
   "outputs": [
    {
     "data": {
      "text/plain": [
       "array([[<AxesSubplot:title={'center':'Email_z'}>]], dtype=object)"
      ]
     },
     "execution_count": 8,
     "metadata": {},
     "output_type": "execute_result"
    },
    {
     "data": {
      "text/plain": [
       "<Figure size 5000x1600 with 0 Axes>"
      ]
     },
     "metadata": {},
     "output_type": "display_data"
    },
    {
     "data": {
      "image/png": "[encoded data removed]",
      "text/plain": [
       "<Figure size 640x480 with 1 Axes>"
      ]
     },
     "metadata": {},
     "output_type": "display_data"
    }
   ],
   "source": [
    "from scipy import stats\n",
    "data_frame = pd.read_csv('churn_raw_data.csv')\n",
    "data_frame['Email_z'] = stats.zscore(data_frame['Email'])\n",
    "plt.figure(figsize=(50, 16))\n",
    "graph = pd.DataFrame({\"Email_z\":data_frame.loc[:,\"Email_z\"]})\n",
    "graph.hist()\n"
   ]
  },
  {
   "cell_type": "code",
   "execution_count": 15,
   "id": "a0cda485",
   "metadata": {},
   "outputs": [],
   "source": [
    "import numpy as np\n",
    "import pandas as pd\n",
    "from sklearn.preprocessing import scale\n",
    "from sklearn.decomposition import PCA\n"
   ]
  },
  {
   "cell_type": "code",
   "execution_count": 16,
   "id": "11da2769",
   "metadata": {},
   "outputs": [],
   "source": [
    "import seaborn as sns\n",
    "import matplotlib.pyplot as plt\n",
    "%matplotlib inline\n"
   ]
  },
  {
   "cell_type": "code",
   "execution_count": 17,
   "id": "bd602d10",
   "metadata": {},
   "outputs": [],
   "source": [
    "churn_df = pd.read_csv('churn_raw_data.csv')"
   ]
  },
  {
   "cell_type": "code",
   "execution_count": 18,
   "id": "5577a594",
   "metadata": {},
   "outputs": [
    {
     "data": {
      "text/html": [
       "<div>\n",
       "<style scoped>\n",
       "    .dataframe tbody tr th:only-of-type {\n",
       "        vertical-align: middle;\n",
       "    }\n",
       "\n",
       "    .dataframe tbody tr th {\n",
       "        vertical-align: top;\n",
       "    }\n",
       "\n",
       "    .dataframe thead th {\n",
       "        text-align: right;\n",
       "    }\n",
       "</style>\n",
       "<table border=\"1\" class=\"dataframe\">\n",
       "  <thead>\n",
       "    <tr style=\"text-align: right;\">\n",
       "      <th></th>\n",
       "      <th>Unnamed: 0</th>\n",
       "      <th>CaseOrder</th>\n",
       "      <th>Customer_id</th>\n",
       "      <th>Interaction</th>\n",
       "      <th>City</th>\n",
       "      <th>State</th>\n",
       "      <th>County</th>\n",
       "      <th>Zip</th>\n",
       "      <th>Lat</th>\n",
       "      <th>Lng</th>\n",
       "      <th>...</th>\n",
       "      <th>MonthlyCharge</th>\n",
       "      <th>Bandwidth_GB_Year</th>\n",
       "      <th>item1</th>\n",
       "      <th>item2</th>\n",
       "      <th>item3</th>\n",
       "      <th>item4</th>\n",
       "      <th>item5</th>\n",
       "      <th>item6</th>\n",
       "      <th>item7</th>\n",
       "      <th>item8</th>\n",
       "    </tr>\n",
       "  </thead>\n",
       "  <tbody>\n",
       "    <tr>\n",
       "      <th>0</th>\n",
       "      <td>1</td>\n",
       "      <td>1</td>\n",
       "      <td>K409198</td>\n",
       "      <td>aa90260b-4141-4a24-8e36-b04ce1f4f77b</td>\n",
       "      <td>Point Baker</td>\n",
       "      <td>AK</td>\n",
       "      <td>Prince of Wales-Hyder</td>\n",
       "      <td>99927</td>\n",
       "      <td>56.25100</td>\n",
       "      <td>-133.37571</td>\n",
       "      <td>...</td>\n",
       "      <td>171.449762</td>\n",
       "      <td>904.536110</td>\n",
       "      <td>5</td>\n",
       "      <td>5</td>\n",
       "      <td>5</td>\n",
       "      <td>3</td>\n",
       "      <td>4</td>\n",
       "      <td>4</td>\n",
       "      <td>3</td>\n",
       "      <td>4</td>\n",
       "    </tr>\n",
       "    <tr>\n",
       "      <th>1</th>\n",
       "      <td>2</td>\n",
       "      <td>2</td>\n",
       "      <td>S120509</td>\n",
       "      <td>fb76459f-c047-4a9d-8af9-e0f7d4ac2524</td>\n",
       "      <td>West Branch</td>\n",
       "      <td>MI</td>\n",
       "      <td>Ogemaw</td>\n",
       "      <td>48661</td>\n",
       "      <td>44.32893</td>\n",
       "      <td>-84.24080</td>\n",
       "      <td>...</td>\n",
       "      <td>242.948015</td>\n",
       "      <td>800.982766</td>\n",
       "      <td>3</td>\n",
       "      <td>4</td>\n",
       "      <td>3</td>\n",
       "      <td>3</td>\n",
       "      <td>4</td>\n",
       "      <td>3</td>\n",
       "      <td>4</td>\n",
       "      <td>4</td>\n",
       "    </tr>\n",
       "    <tr>\n",
       "      <th>2</th>\n",
       "      <td>3</td>\n",
       "      <td>3</td>\n",
       "      <td>K191035</td>\n",
       "      <td>344d114c-3736-4be5-98f7-c72c281e2d35</td>\n",
       "      <td>Yamhill</td>\n",
       "      <td>OR</td>\n",
       "      <td>Yamhill</td>\n",
       "      <td>97148</td>\n",
       "      <td>45.35589</td>\n",
       "      <td>-123.24657</td>\n",
       "      <td>...</td>\n",
       "      <td>159.440398</td>\n",
       "      <td>2054.706961</td>\n",
       "      <td>4</td>\n",
       "      <td>4</td>\n",
       "      <td>2</td>\n",
       "      <td>4</td>\n",
       "      <td>4</td>\n",
       "      <td>3</td>\n",
       "      <td>3</td>\n",
       "      <td>3</td>\n",
       "    </tr>\n",
       "    <tr>\n",
       "      <th>3</th>\n",
       "      <td>4</td>\n",
       "      <td>4</td>\n",
       "      <td>D90850</td>\n",
       "      <td>abfa2b40-2d43-4994-b15a-989b8c79e311</td>\n",
       "      <td>Del Mar</td>\n",
       "      <td>CA</td>\n",
       "      <td>San Diego</td>\n",
       "      <td>92014</td>\n",
       "      <td>32.96687</td>\n",
       "      <td>-117.24798</td>\n",
       "      <td>...</td>\n",
       "      <td>120.249493</td>\n",
       "      <td>2164.579412</td>\n",
       "      <td>4</td>\n",
       "      <td>4</td>\n",
       "      <td>4</td>\n",
       "      <td>2</td>\n",
       "      <td>5</td>\n",
       "      <td>4</td>\n",
       "      <td>3</td>\n",
       "      <td>3</td>\n",
       "    </tr>\n",
       "    <tr>\n",
       "      <th>4</th>\n",
       "      <td>5</td>\n",
       "      <td>5</td>\n",
       "      <td>K662701</td>\n",
       "      <td>68a861fd-0d20-4e51-a587-8a90407ee574</td>\n",
       "      <td>Needville</td>\n",
       "      <td>TX</td>\n",
       "      <td>Fort Bend</td>\n",
       "      <td>77461</td>\n",
       "      <td>29.38012</td>\n",
       "      <td>-95.80673</td>\n",
       "      <td>...</td>\n",
       "      <td>150.761216</td>\n",
       "      <td>271.493436</td>\n",
       "      <td>4</td>\n",
       "      <td>4</td>\n",
       "      <td>4</td>\n",
       "      <td>3</td>\n",
       "      <td>4</td>\n",
       "      <td>4</td>\n",
       "      <td>4</td>\n",
       "      <td>5</td>\n",
       "    </tr>\n",
       "    <tr>\n",
       "      <th>...</th>\n",
       "      <td>...</td>\n",
       "      <td>...</td>\n",
       "      <td>...</td>\n",
       "      <td>...</td>\n",
       "      <td>...</td>\n",
       "      <td>...</td>\n",
       "      <td>...</td>\n",
       "      <td>...</td>\n",
       "      <td>...</td>\n",
       "      <td>...</td>\n",
       "      <td>...</td>\n",
       "      <td>...</td>\n",
       "      <td>...</td>\n",
       "      <td>...</td>\n",
       "      <td>...</td>\n",
       "      <td>...</td>\n",
       "      <td>...</td>\n",
       "      <td>...</td>\n",
       "      <td>...</td>\n",
       "      <td>...</td>\n",
       "      <td>...</td>\n",
       "    </tr>\n",
       "    <tr>\n",
       "      <th>9995</th>\n",
       "      <td>9996</td>\n",
       "      <td>9996</td>\n",
       "      <td>M324793</td>\n",
       "      <td>45deb5a2-ae04-4518-bf0b-c82db8dbe4a4</td>\n",
       "      <td>Mount Holly</td>\n",
       "      <td>VT</td>\n",
       "      <td>Rutland</td>\n",
       "      <td>5758</td>\n",
       "      <td>43.43391</td>\n",
       "      <td>-72.78734</td>\n",
       "      <td>...</td>\n",
       "      <td>159.828800</td>\n",
       "      <td>6511.253000</td>\n",
       "      <td>3</td>\n",
       "      <td>2</td>\n",
       "      <td>3</td>\n",
       "      <td>3</td>\n",
       "      <td>4</td>\n",
       "      <td>3</td>\n",
       "      <td>2</td>\n",
       "      <td>3</td>\n",
       "    </tr>\n",
       "    <tr>\n",
       "      <th>9996</th>\n",
       "      <td>9997</td>\n",
       "      <td>9997</td>\n",
       "      <td>D861732</td>\n",
       "      <td>6e96b921-0c09-4993-bbda-a1ac6411061a</td>\n",
       "      <td>Clarksville</td>\n",
       "      <td>TN</td>\n",
       "      <td>Montgomery</td>\n",
       "      <td>37042</td>\n",
       "      <td>36.56907</td>\n",
       "      <td>-87.41694</td>\n",
       "      <td>...</td>\n",
       "      <td>208.856400</td>\n",
       "      <td>5695.952000</td>\n",
       "      <td>4</td>\n",
       "      <td>5</td>\n",
       "      <td>5</td>\n",
       "      <td>4</td>\n",
       "      <td>4</td>\n",
       "      <td>5</td>\n",
       "      <td>2</td>\n",
       "      <td>5</td>\n",
       "    </tr>\n",
       "    <tr>\n",
       "      <th>9997</th>\n",
       "      <td>9998</td>\n",
       "      <td>9998</td>\n",
       "      <td>I243405</td>\n",
       "      <td>e8307ddf-9a01-4fff-bc59-4742e03fd24f</td>\n",
       "      <td>Mobeetie</td>\n",
       "      <td>TX</td>\n",
       "      <td>Wheeler</td>\n",
       "      <td>79061</td>\n",
       "      <td>35.52039</td>\n",
       "      <td>-100.44180</td>\n",
       "      <td>...</td>\n",
       "      <td>168.220900</td>\n",
       "      <td>4159.306000</td>\n",
       "      <td>4</td>\n",
       "      <td>4</td>\n",
       "      <td>4</td>\n",
       "      <td>4</td>\n",
       "      <td>4</td>\n",
       "      <td>4</td>\n",
       "      <td>4</td>\n",
       "      <td>5</td>\n",
       "    </tr>\n",
       "    <tr>\n",
       "      <th>9998</th>\n",
       "      <td>9999</td>\n",
       "      <td>9999</td>\n",
       "      <td>I641617</td>\n",
       "      <td>3775ccfc-0052-4107-81ae-9657f81ecdf3</td>\n",
       "      <td>Carrollton</td>\n",
       "      <td>GA</td>\n",
       "      <td>Carroll</td>\n",
       "      <td>30117</td>\n",
       "      <td>33.58016</td>\n",
       "      <td>-85.13241</td>\n",
       "      <td>...</td>\n",
       "      <td>252.628600</td>\n",
       "      <td>6468.457000</td>\n",
       "      <td>4</td>\n",
       "      <td>4</td>\n",
       "      <td>6</td>\n",
       "      <td>4</td>\n",
       "      <td>3</td>\n",
       "      <td>3</td>\n",
       "      <td>5</td>\n",
       "      <td>4</td>\n",
       "    </tr>\n",
       "    <tr>\n",
       "      <th>9999</th>\n",
       "      <td>10000</td>\n",
       "      <td>10000</td>\n",
       "      <td>T38070</td>\n",
       "      <td>9de5fb6e-bd33-4995-aec8-f01d0172a499</td>\n",
       "      <td>Clarkesville</td>\n",
       "      <td>GA</td>\n",
       "      <td>Habersham</td>\n",
       "      <td>30523</td>\n",
       "      <td>34.70783</td>\n",
       "      <td>-83.53648</td>\n",
       "      <td>...</td>\n",
       "      <td>218.371000</td>\n",
       "      <td>5857.586000</td>\n",
       "      <td>2</td>\n",
       "      <td>2</td>\n",
       "      <td>3</td>\n",
       "      <td>3</td>\n",
       "      <td>3</td>\n",
       "      <td>3</td>\n",
       "      <td>4</td>\n",
       "      <td>1</td>\n",
       "    </tr>\n",
       "  </tbody>\n",
       "</table>\n",
       "<p>10000 rows × 52 columns</p>\n",
       "</div>"
      ],
      "text/plain": [
       "      Unnamed: 0  CaseOrder Customer_id                           Interaction  \\\n",
       "0              1          1     K409198  aa90260b-4141-4a24-8e36-b04ce1f4f77b   \n",
       "1              2          2     S120509  fb76459f-c047-4a9d-8af9-e0f7d4ac2524   \n",
       "2              3          3     K191035  344d114c-3736-4be5-98f7-c72c281e2d35   \n",
       "3              4          4      D90850  abfa2b40-2d43-4994-b15a-989b8c79e311   \n",
       "4              5          5     K662701  68a861fd-0d20-4e51-a587-8a90407ee574   \n",
       "...          ...        ...         ...                                   ...   \n",
       "9995        9996       9996     M324793  45deb5a2-ae04-4518-bf0b-c82db8dbe4a4   \n",
       "9996        9997       9997     D861732  6e96b921-0c09-4993-bbda-a1ac6411061a   \n",
       "9997        9998       9998     I243405  e8307ddf-9a01-4fff-bc59-4742e03fd24f   \n",
       "9998        9999       9999     I641617  3775ccfc-0052-4107-81ae-9657f81ecdf3   \n",
       "9999       10000      10000      T38070  9de5fb6e-bd33-4995-aec8-f01d0172a499   \n",
       "\n",
       "              City State                 County    Zip       Lat        Lng  \\\n",
       "0      Point Baker    AK  Prince of Wales-Hyder  99927  56.25100 -133.37571   \n",
       "1      West Branch    MI                 Ogemaw  48661  44.32893  -84.24080   \n",
       "2          Yamhill    OR                Yamhill  97148  45.35589 -123.24657   \n",
       "3          Del Mar    CA              San Diego  92014  32.96687 -117.24798   \n",
       "4        Needville    TX              Fort Bend  77461  29.38012  -95.80673   \n",
       "...            ...   ...                    ...    ...       ...        ...   \n",
       "9995   Mount Holly    VT                Rutland   5758  43.43391  -72.78734   \n",
       "9996   Clarksville    TN             Montgomery  37042  36.56907  -87.41694   \n",
       "9997      Mobeetie    TX                Wheeler  79061  35.52039 -100.44180   \n",
       "9998    Carrollton    GA                Carroll  30117  33.58016  -85.13241   \n",
       "9999  Clarkesville    GA              Habersham  30523  34.70783  -83.53648   \n",
       "\n",
       "      ...  MonthlyCharge Bandwidth_GB_Year item1 item2  item3  item4 item5  \\\n",
       "0     ...     171.449762        904.536110     5     5      5      3     4   \n",
       "1     ...     242.948015        800.982766     3     4      3      3     4   \n",
       "2     ...     159.440398       2054.706961     4     4      2      4     4   \n",
       "3     ...     120.249493       2164.579412     4     4      4      2     5   \n",
       "4     ...     150.761216        271.493436     4     4      4      3     4   \n",
       "...   ...            ...               ...   ...   ...    ...    ...   ...   \n",
       "9995  ...     159.828800       6511.253000     3     2      3      3     4   \n",
       "9996  ...     208.856400       5695.952000     4     5      5      4     4   \n",
       "9997  ...     168.220900       4159.306000     4     4      4      4     4   \n",
       "9998  ...     252.628600       6468.457000     4     4      6      4     3   \n",
       "9999  ...     218.371000       5857.586000     2     2      3      3     3   \n",
       "\n",
       "     item6  item7 item8  \n",
       "0        4      3     4  \n",
       "1        3      4     4  \n",
       "2        3      3     3  \n",
       "3        4      3     3  \n",
       "4        4      4     5  \n",
       "...    ...    ...   ...  \n",
       "9995     3      2     3  \n",
       "9996     5      2     5  \n",
       "9997     4      4     5  \n",
       "9998     3      5     4  \n",
       "9999     3      4     1  \n",
       "\n",
       "[10000 rows x 52 columns]"
      ]
     },
     "execution_count": 18,
     "metadata": {},
     "output_type": "execute_result"
    }
   ],
   "source": [
    "churn_df"
   ]
  },
  {
   "cell_type": "code",
   "execution_count": 19,
   "id": "7823b3a4",
   "metadata": {},
   "outputs": [
    {
     "name": "stdout",
     "output_type": "stream",
     "text": [
      "Index(['Unnamed: 0', 'CaseOrder', 'Customer_id', 'Interaction', 'City',\n",
      "       'State', 'County', 'Zip', 'Lat', 'Lng', 'Population', 'Area',\n",
      "       'Timezone', 'Job', 'Children', 'Age', 'Education', 'Employment',\n",
      "       'Income', 'Marital', 'Gender', 'Churn', 'Outage_sec_perweek', 'Email',\n",
      "       'Contacts', 'Yearly_equip_failure', 'Techie', 'Contract', 'Port_modem',\n",
      "       'Tablet', 'InternetService', 'Phone', 'Multiple', 'OnlineSecurity',\n",
      "       'OnlineBackup', 'DeviceProtection', 'TechSupport', 'StreamingTV',\n",
      "       'StreamingMovies', 'PaperlessBilling', 'PaymentMethod', 'Tenure',\n",
      "       'MonthlyCharge', 'Bandwidth_GB_Year', 'item1', 'item2', 'item3',\n",
      "       'item4', 'item5', 'item6', 'item7', 'item8'],\n",
      "      dtype='object')\n"
     ]
    }
   ],
   "source": [
    "df = churn_df.columns\n",
    "print(df)"
   ]
  },
  {
   "cell_type": "code",
   "execution_count": 20,
   "id": "21382c19",
   "metadata": {},
   "outputs": [
    {
     "data": {
      "text/html": [
       "<div>\n",
       "<style scoped>\n",
       "    .dataframe tbody tr th:only-of-type {\n",
       "        vertical-align: middle;\n",
       "    }\n",
       "\n",
       "    .dataframe tbody tr th {\n",
       "        vertical-align: top;\n",
       "    }\n",
       "\n",
       "    .dataframe thead th {\n",
       "        text-align: right;\n",
       "    }\n",
       "</style>\n",
       "<table border=\"1\" class=\"dataframe\">\n",
       "  <thead>\n",
       "    <tr style=\"text-align: right;\">\n",
       "      <th></th>\n",
       "      <th>CaseOrder</th>\n",
       "      <th>Customer_id</th>\n",
       "      <th>Interaction</th>\n",
       "      <th>City</th>\n",
       "      <th>State</th>\n",
       "      <th>County</th>\n",
       "      <th>Zip</th>\n",
       "      <th>Lat</th>\n",
       "      <th>Lng</th>\n",
       "      <th>Population</th>\n",
       "      <th>...</th>\n",
       "      <th>MonthlyCharge</th>\n",
       "      <th>Bandwidth_GB_Year</th>\n",
       "      <th>item1</th>\n",
       "      <th>item2</th>\n",
       "      <th>item3</th>\n",
       "      <th>item4</th>\n",
       "      <th>item5</th>\n",
       "      <th>item6</th>\n",
       "      <th>item7</th>\n",
       "      <th>item8</th>\n",
       "    </tr>\n",
       "  </thead>\n",
       "  <tbody>\n",
       "    <tr>\n",
       "      <th>0</th>\n",
       "      <td>1</td>\n",
       "      <td>K409198</td>\n",
       "      <td>aa90260b-4141-4a24-8e36-b04ce1f4f77b</td>\n",
       "      <td>Point Baker</td>\n",
       "      <td>AK</td>\n",
       "      <td>Prince of Wales-Hyder</td>\n",
       "      <td>99927</td>\n",
       "      <td>56.25100</td>\n",
       "      <td>-133.37571</td>\n",
       "      <td>38</td>\n",
       "      <td>...</td>\n",
       "      <td>171.449762</td>\n",
       "      <td>904.536110</td>\n",
       "      <td>5</td>\n",
       "      <td>5</td>\n",
       "      <td>5</td>\n",
       "      <td>3</td>\n",
       "      <td>4</td>\n",
       "      <td>4</td>\n",
       "      <td>3</td>\n",
       "      <td>4</td>\n",
       "    </tr>\n",
       "    <tr>\n",
       "      <th>1</th>\n",
       "      <td>2</td>\n",
       "      <td>S120509</td>\n",
       "      <td>fb76459f-c047-4a9d-8af9-e0f7d4ac2524</td>\n",
       "      <td>West Branch</td>\n",
       "      <td>MI</td>\n",
       "      <td>Ogemaw</td>\n",
       "      <td>48661</td>\n",
       "      <td>44.32893</td>\n",
       "      <td>-84.24080</td>\n",
       "      <td>10446</td>\n",
       "      <td>...</td>\n",
       "      <td>242.948015</td>\n",
       "      <td>800.982766</td>\n",
       "      <td>3</td>\n",
       "      <td>4</td>\n",
       "      <td>3</td>\n",
       "      <td>3</td>\n",
       "      <td>4</td>\n",
       "      <td>3</td>\n",
       "      <td>4</td>\n",
       "      <td>4</td>\n",
       "    </tr>\n",
       "    <tr>\n",
       "      <th>2</th>\n",
       "      <td>3</td>\n",
       "      <td>K191035</td>\n",
       "      <td>344d114c-3736-4be5-98f7-c72c281e2d35</td>\n",
       "      <td>Yamhill</td>\n",
       "      <td>OR</td>\n",
       "      <td>Yamhill</td>\n",
       "      <td>97148</td>\n",
       "      <td>45.35589</td>\n",
       "      <td>-123.24657</td>\n",
       "      <td>3735</td>\n",
       "      <td>...</td>\n",
       "      <td>159.440398</td>\n",
       "      <td>2054.706961</td>\n",
       "      <td>4</td>\n",
       "      <td>4</td>\n",
       "      <td>2</td>\n",
       "      <td>4</td>\n",
       "      <td>4</td>\n",
       "      <td>3</td>\n",
       "      <td>3</td>\n",
       "      <td>3</td>\n",
       "    </tr>\n",
       "    <tr>\n",
       "      <th>3</th>\n",
       "      <td>4</td>\n",
       "      <td>D90850</td>\n",
       "      <td>abfa2b40-2d43-4994-b15a-989b8c79e311</td>\n",
       "      <td>Del Mar</td>\n",
       "      <td>CA</td>\n",
       "      <td>San Diego</td>\n",
       "      <td>92014</td>\n",
       "      <td>32.96687</td>\n",
       "      <td>-117.24798</td>\n",
       "      <td>13863</td>\n",
       "      <td>...</td>\n",
       "      <td>120.249493</td>\n",
       "      <td>2164.579412</td>\n",
       "      <td>4</td>\n",
       "      <td>4</td>\n",
       "      <td>4</td>\n",
       "      <td>2</td>\n",
       "      <td>5</td>\n",
       "      <td>4</td>\n",
       "      <td>3</td>\n",
       "      <td>3</td>\n",
       "    </tr>\n",
       "    <tr>\n",
       "      <th>4</th>\n",
       "      <td>5</td>\n",
       "      <td>K662701</td>\n",
       "      <td>68a861fd-0d20-4e51-a587-8a90407ee574</td>\n",
       "      <td>Needville</td>\n",
       "      <td>TX</td>\n",
       "      <td>Fort Bend</td>\n",
       "      <td>77461</td>\n",
       "      <td>29.38012</td>\n",
       "      <td>-95.80673</td>\n",
       "      <td>11352</td>\n",
       "      <td>...</td>\n",
       "      <td>150.761216</td>\n",
       "      <td>271.493436</td>\n",
       "      <td>4</td>\n",
       "      <td>4</td>\n",
       "      <td>4</td>\n",
       "      <td>3</td>\n",
       "      <td>4</td>\n",
       "      <td>4</td>\n",
       "      <td>4</td>\n",
       "      <td>5</td>\n",
       "    </tr>\n",
       "  </tbody>\n",
       "</table>\n",
       "<p>5 rows × 51 columns</p>\n",
       "</div>"
      ],
      "text/plain": [
       "   CaseOrder Customer_id                           Interaction         City  \\\n",
       "0          1     K409198  aa90260b-4141-4a24-8e36-b04ce1f4f77b  Point Baker   \n",
       "1          2     S120509  fb76459f-c047-4a9d-8af9-e0f7d4ac2524  West Branch   \n",
       "2          3     K191035  344d114c-3736-4be5-98f7-c72c281e2d35      Yamhill   \n",
       "3          4      D90850  abfa2b40-2d43-4994-b15a-989b8c79e311      Del Mar   \n",
       "4          5     K662701  68a861fd-0d20-4e51-a587-8a90407ee574    Needville   \n",
       "\n",
       "  State                 County    Zip       Lat        Lng  Population  ...  \\\n",
       "0    AK  Prince of Wales-Hyder  99927  56.25100 -133.37571          38  ...   \n",
       "1    MI                 Ogemaw  48661  44.32893  -84.24080       10446  ...   \n",
       "2    OR                Yamhill  97148  45.35589 -123.24657        3735  ...   \n",
       "3    CA              San Diego  92014  32.96687 -117.24798       13863  ...   \n",
       "4    TX              Fort Bend  77461  29.38012  -95.80673       11352  ...   \n",
       "\n",
       "  MonthlyCharge Bandwidth_GB_Year item1  item2  item3 item4 item5  item6  \\\n",
       "0    171.449762        904.536110     5      5      5     3     4      4   \n",
       "1    242.948015        800.982766     3      4      3     3     4      3   \n",
       "2    159.440398       2054.706961     4      4      2     4     4      3   \n",
       "3    120.249493       2164.579412     4      4      4     2     5      4   \n",
       "4    150.761216        271.493436     4      4      4     3     4      4   \n",
       "\n",
       "  item7 item8  \n",
       "0     3     4  \n",
       "1     4     4  \n",
       "2     3     3  \n",
       "3     3     3  \n",
       "4     4     5  \n",
       "\n",
       "[5 rows x 51 columns]"
      ]
     },
     "execution_count": 20,
     "metadata": {},
     "output_type": "execute_result"
    }
   ],
   "source": [
    "df = churn_df.drop(churn_df.columns[0], axis = 1)\n",
    "df.head()\n"
   ]
  },
  {
   "cell_type": "code",
   "execution_count": 21,
   "id": "8b32295d",
   "metadata": {},
   "outputs": [],
   "source": [
    "df.rename(columns = {'item1':'Responses',\n",
    "'item2':'Fixes',\n",
    "'item3':'Replacements',\n",
    "'item4':'Reliability',\n",
    "'item5':'Options',\n",
    "'item6':'Respectfulness',\n",
    "'item7':'Courteous',\n",
    "'item8':'Listening'},\n",
    "inplace=True)\n"
   ]
  },
  {
   "cell_type": "code",
   "execution_count": 22,
   "id": "dc1b2ee2",
   "metadata": {},
   "outputs": [
    {
     "data": {
      "text/plain": [
       "(10000, 51)"
      ]
     },
     "execution_count": 22,
     "metadata": {},
     "output_type": "execute_result"
    }
   ],
   "source": [
    "df.shape\n"
   ]
  },
  {
   "cell_type": "code",
   "execution_count": 23,
   "id": "ffa53474",
   "metadata": {},
   "outputs": [
    {
     "data": {
      "text/html": [
       "<div>\n",
       "<style scoped>\n",
       "    .dataframe tbody tr th:only-of-type {\n",
       "        vertical-align: middle;\n",
       "    }\n",
       "\n",
       "    .dataframe tbody tr th {\n",
       "        vertical-align: top;\n",
       "    }\n",
       "\n",
       "    .dataframe thead th {\n",
       "        text-align: right;\n",
       "    }\n",
       "</style>\n",
       "<table border=\"1\" class=\"dataframe\">\n",
       "  <thead>\n",
       "    <tr style=\"text-align: right;\">\n",
       "      <th></th>\n",
       "      <th>CaseOrder</th>\n",
       "      <th>Zip</th>\n",
       "      <th>Lat</th>\n",
       "      <th>Lng</th>\n",
       "      <th>Population</th>\n",
       "      <th>Children</th>\n",
       "      <th>Age</th>\n",
       "      <th>Income</th>\n",
       "      <th>Outage_sec_perweek</th>\n",
       "      <th>Email</th>\n",
       "      <th>...</th>\n",
       "      <th>MonthlyCharge</th>\n",
       "      <th>Bandwidth_GB_Year</th>\n",
       "      <th>Responses</th>\n",
       "      <th>Fixes</th>\n",
       "      <th>Replacements</th>\n",
       "      <th>Reliability</th>\n",
       "      <th>Options</th>\n",
       "      <th>Respectfulness</th>\n",
       "      <th>Courteous</th>\n",
       "      <th>Listening</th>\n",
       "    </tr>\n",
       "  </thead>\n",
       "  <tbody>\n",
       "    <tr>\n",
       "      <th>count</th>\n",
       "      <td>10000.00000</td>\n",
       "      <td>10000.000000</td>\n",
       "      <td>10000.000000</td>\n",
       "      <td>10000.000000</td>\n",
       "      <td>10000.000000</td>\n",
       "      <td>7505.000000</td>\n",
       "      <td>7525.000000</td>\n",
       "      <td>7510.000000</td>\n",
       "      <td>10000.000000</td>\n",
       "      <td>10000.000000</td>\n",
       "      <td>...</td>\n",
       "      <td>10000.000000</td>\n",
       "      <td>8979.000000</td>\n",
       "      <td>10000.000000</td>\n",
       "      <td>10000.000000</td>\n",
       "      <td>10000.000000</td>\n",
       "      <td>10000.000000</td>\n",
       "      <td>10000.000000</td>\n",
       "      <td>10000.000000</td>\n",
       "      <td>10000.000000</td>\n",
       "      <td>10000.000000</td>\n",
       "    </tr>\n",
       "    <tr>\n",
       "      <th>mean</th>\n",
       "      <td>5000.50000</td>\n",
       "      <td>49153.319600</td>\n",
       "      <td>38.757567</td>\n",
       "      <td>-90.782536</td>\n",
       "      <td>9756.562400</td>\n",
       "      <td>2.095936</td>\n",
       "      <td>53.275748</td>\n",
       "      <td>39936.762226</td>\n",
       "      <td>11.452955</td>\n",
       "      <td>12.016000</td>\n",
       "      <td>...</td>\n",
       "      <td>174.076305</td>\n",
       "      <td>3398.842752</td>\n",
       "      <td>3.490800</td>\n",
       "      <td>3.505100</td>\n",
       "      <td>3.487000</td>\n",
       "      <td>3.497500</td>\n",
       "      <td>3.492900</td>\n",
       "      <td>3.497300</td>\n",
       "      <td>3.509500</td>\n",
       "      <td>3.495600</td>\n",
       "    </tr>\n",
       "    <tr>\n",
       "      <th>std</th>\n",
       "      <td>2886.89568</td>\n",
       "      <td>27532.196108</td>\n",
       "      <td>5.437389</td>\n",
       "      <td>15.156142</td>\n",
       "      <td>14432.698671</td>\n",
       "      <td>2.154758</td>\n",
       "      <td>20.753928</td>\n",
       "      <td>28358.469482</td>\n",
       "      <td>7.025921</td>\n",
       "      <td>3.025898</td>\n",
       "      <td>...</td>\n",
       "      <td>43.335473</td>\n",
       "      <td>2187.396807</td>\n",
       "      <td>1.037797</td>\n",
       "      <td>1.034641</td>\n",
       "      <td>1.027977</td>\n",
       "      <td>1.025816</td>\n",
       "      <td>1.024819</td>\n",
       "      <td>1.033586</td>\n",
       "      <td>1.028502</td>\n",
       "      <td>1.028633</td>\n",
       "    </tr>\n",
       "    <tr>\n",
       "      <th>min</th>\n",
       "      <td>1.00000</td>\n",
       "      <td>601.000000</td>\n",
       "      <td>17.966120</td>\n",
       "      <td>-171.688150</td>\n",
       "      <td>0.000000</td>\n",
       "      <td>0.000000</td>\n",
       "      <td>18.000000</td>\n",
       "      <td>740.660000</td>\n",
       "      <td>-1.348571</td>\n",
       "      <td>1.000000</td>\n",
       "      <td>...</td>\n",
       "      <td>77.505230</td>\n",
       "      <td>155.506715</td>\n",
       "      <td>1.000000</td>\n",
       "      <td>1.000000</td>\n",
       "      <td>1.000000</td>\n",
       "      <td>1.000000</td>\n",
       "      <td>1.000000</td>\n",
       "      <td>1.000000</td>\n",
       "      <td>1.000000</td>\n",
       "      <td>1.000000</td>\n",
       "    </tr>\n",
       "    <tr>\n",
       "      <th>25%</th>\n",
       "      <td>2500.75000</td>\n",
       "      <td>26292.500000</td>\n",
       "      <td>35.341828</td>\n",
       "      <td>-97.082812</td>\n",
       "      <td>738.000000</td>\n",
       "      <td>0.000000</td>\n",
       "      <td>35.000000</td>\n",
       "      <td>19285.522500</td>\n",
       "      <td>8.054362</td>\n",
       "      <td>10.000000</td>\n",
       "      <td>...</td>\n",
       "      <td>141.071078</td>\n",
       "      <td>1234.110529</td>\n",
       "      <td>3.000000</td>\n",
       "      <td>3.000000</td>\n",
       "      <td>3.000000</td>\n",
       "      <td>3.000000</td>\n",
       "      <td>3.000000</td>\n",
       "      <td>3.000000</td>\n",
       "      <td>3.000000</td>\n",
       "      <td>3.000000</td>\n",
       "    </tr>\n",
       "    <tr>\n",
       "      <th>50%</th>\n",
       "      <td>5000.50000</td>\n",
       "      <td>48869.500000</td>\n",
       "      <td>39.395800</td>\n",
       "      <td>-87.918800</td>\n",
       "      <td>2910.500000</td>\n",
       "      <td>1.000000</td>\n",
       "      <td>53.000000</td>\n",
       "      <td>33186.785000</td>\n",
       "      <td>10.202896</td>\n",
       "      <td>12.000000</td>\n",
       "      <td>...</td>\n",
       "      <td>169.915400</td>\n",
       "      <td>3382.424000</td>\n",
       "      <td>3.000000</td>\n",
       "      <td>4.000000</td>\n",
       "      <td>3.000000</td>\n",
       "      <td>3.000000</td>\n",
       "      <td>3.000000</td>\n",
       "      <td>3.000000</td>\n",
       "      <td>4.000000</td>\n",
       "      <td>3.000000</td>\n",
       "    </tr>\n",
       "    <tr>\n",
       "      <th>75%</th>\n",
       "      <td>7500.25000</td>\n",
       "      <td>71866.500000</td>\n",
       "      <td>42.106908</td>\n",
       "      <td>-80.088745</td>\n",
       "      <td>13168.000000</td>\n",
       "      <td>3.000000</td>\n",
       "      <td>71.000000</td>\n",
       "      <td>53472.395000</td>\n",
       "      <td>12.487644</td>\n",
       "      <td>14.000000</td>\n",
       "      <td>...</td>\n",
       "      <td>203.777441</td>\n",
       "      <td>5587.096500</td>\n",
       "      <td>4.000000</td>\n",
       "      <td>4.000000</td>\n",
       "      <td>4.000000</td>\n",
       "      <td>4.000000</td>\n",
       "      <td>4.000000</td>\n",
       "      <td>4.000000</td>\n",
       "      <td>4.000000</td>\n",
       "      <td>4.000000</td>\n",
       "    </tr>\n",
       "    <tr>\n",
       "      <th>max</th>\n",
       "      <td>10000.00000</td>\n",
       "      <td>99929.000000</td>\n",
       "      <td>70.640660</td>\n",
       "      <td>-65.667850</td>\n",
       "      <td>111850.000000</td>\n",
       "      <td>10.000000</td>\n",
       "      <td>89.000000</td>\n",
       "      <td>258900.700000</td>\n",
       "      <td>47.049280</td>\n",
       "      <td>23.000000</td>\n",
       "      <td>...</td>\n",
       "      <td>315.878600</td>\n",
       "      <td>7158.982000</td>\n",
       "      <td>7.000000</td>\n",
       "      <td>7.000000</td>\n",
       "      <td>8.000000</td>\n",
       "      <td>7.000000</td>\n",
       "      <td>7.000000</td>\n",
       "      <td>8.000000</td>\n",
       "      <td>7.000000</td>\n",
       "      <td>8.000000</td>\n",
       "    </tr>\n",
       "  </tbody>\n",
       "</table>\n",
       "<p>8 rows × 23 columns</p>\n",
       "</div>"
      ],
      "text/plain": [
       "         CaseOrder           Zip           Lat           Lng     Population  \\\n",
       "count  10000.00000  10000.000000  10000.000000  10000.000000   10000.000000   \n",
       "mean    5000.50000  49153.319600     38.757567    -90.782536    9756.562400   \n",
       "std     2886.89568  27532.196108      5.437389     15.156142   14432.698671   \n",
       "min        1.00000    601.000000     17.966120   -171.688150       0.000000   \n",
       "25%     2500.75000  26292.500000     35.341828    -97.082812     738.000000   \n",
       "50%     5000.50000  48869.500000     39.395800    -87.918800    2910.500000   \n",
       "75%     7500.25000  71866.500000     42.106908    -80.088745   13168.000000   \n",
       "max    10000.00000  99929.000000     70.640660    -65.667850  111850.000000   \n",
       "\n",
       "          Children          Age         Income  Outage_sec_perweek  \\\n",
       "count  7505.000000  7525.000000    7510.000000        10000.000000   \n",
       "mean      2.095936    53.275748   39936.762226           11.452955   \n",
       "std       2.154758    20.753928   28358.469482            7.025921   \n",
       "min       0.000000    18.000000     740.660000           -1.348571   \n",
       "25%       0.000000    35.000000   19285.522500            8.054362   \n",
       "50%       1.000000    53.000000   33186.785000           10.202896   \n",
       "75%       3.000000    71.000000   53472.395000           12.487644   \n",
       "max      10.000000    89.000000  258900.700000           47.049280   \n",
       "\n",
       "              Email  ...  MonthlyCharge  Bandwidth_GB_Year     Responses  \\\n",
       "count  10000.000000  ...   10000.000000        8979.000000  10000.000000   \n",
       "mean      12.016000  ...     174.076305        3398.842752      3.490800   \n",
       "std        3.025898  ...      43.335473        2187.396807      1.037797   \n",
       "min        1.000000  ...      77.505230         155.506715      1.000000   \n",
       "25%       10.000000  ...     141.071078        1234.110529      3.000000   \n",
       "50%       12.000000  ...     169.915400        3382.424000      3.000000   \n",
       "75%       14.000000  ...     203.777441        5587.096500      4.000000   \n",
       "max       23.000000  ...     315.878600        7158.982000      7.000000   \n",
       "\n",
       "              Fixes  Replacements   Reliability       Options  Respectfulness  \\\n",
       "count  10000.000000  10000.000000  10000.000000  10000.000000    10000.000000   \n",
       "mean       3.505100      3.487000      3.497500      3.492900        3.497300   \n",
       "std        1.034641      1.027977      1.025816      1.024819        1.033586   \n",
       "min        1.000000      1.000000      1.000000      1.000000        1.000000   \n",
       "25%        3.000000      3.000000      3.000000      3.000000        3.000000   \n",
       "50%        4.000000      3.000000      3.000000      3.000000        3.000000   \n",
       "75%        4.000000      4.000000      4.000000      4.000000        4.000000   \n",
       "max        7.000000      8.000000      7.000000      7.000000        8.000000   \n",
       "\n",
       "          Courteous     Listening  \n",
       "count  10000.000000  10000.000000  \n",
       "mean       3.509500      3.495600  \n",
       "std        1.028502      1.028633  \n",
       "min        1.000000      1.000000  \n",
       "25%        3.000000      3.000000  \n",
       "50%        4.000000      3.000000  \n",
       "75%        4.000000      4.000000  \n",
       "max        7.000000      8.000000  \n",
       "\n",
       "[8 rows x 23 columns]"
      ]
     },
     "execution_count": 23,
     "metadata": {},
     "output_type": "execute_result"
    }
   ],
   "source": [
    "df.describe()\n"
   ]
  },
  {
   "cell_type": "code",
   "execution_count": 24,
   "id": "5bd96cbc",
   "metadata": {},
   "outputs": [
    {
     "data": {
      "text/html": [
       "<div>\n",
       "<style scoped>\n",
       "    .dataframe tbody tr th:only-of-type {\n",
       "        vertical-align: middle;\n",
       "    }\n",
       "\n",
       "    .dataframe tbody tr th {\n",
       "        vertical-align: top;\n",
       "    }\n",
       "\n",
       "    .dataframe thead th {\n",
       "        text-align: right;\n",
       "    }\n",
       "</style>\n",
       "<table border=\"1\" class=\"dataframe\">\n",
       "  <thead>\n",
       "    <tr style=\"text-align: right;\">\n",
       "      <th></th>\n",
       "      <th>Population</th>\n",
       "      <th>Children</th>\n",
       "      <th>Age</th>\n",
       "      <th>Income</th>\n",
       "      <th>Outage_sec_perweek</th>\n",
       "      <th>Email</th>\n",
       "      <th>Contacts</th>\n",
       "      <th>Yearly_equip_failure</th>\n",
       "      <th>Tenure</th>\n",
       "      <th>MonthlyCharge</th>\n",
       "      <th>Bandwidth_GB_Year</th>\n",
       "      <th>Responses</th>\n",
       "      <th>Fixes</th>\n",
       "      <th>Replacements</th>\n",
       "      <th>Reliability</th>\n",
       "      <th>Options</th>\n",
       "      <th>Respectfulness</th>\n",
       "      <th>Courteous</th>\n",
       "      <th>Listening</th>\n",
       "    </tr>\n",
       "  </thead>\n",
       "  <tbody>\n",
       "    <tr>\n",
       "      <th>count</th>\n",
       "      <td>10000.000000</td>\n",
       "      <td>7505.000000</td>\n",
       "      <td>7525.000000</td>\n",
       "      <td>7510.000000</td>\n",
       "      <td>10000.000000</td>\n",
       "      <td>10000.000000</td>\n",
       "      <td>10000.000000</td>\n",
       "      <td>10000.000000</td>\n",
       "      <td>9069.000000</td>\n",
       "      <td>10000.000000</td>\n",
       "      <td>8979.000000</td>\n",
       "      <td>10000.000000</td>\n",
       "      <td>10000.000000</td>\n",
       "      <td>10000.000000</td>\n",
       "      <td>10000.000000</td>\n",
       "      <td>10000.000000</td>\n",
       "      <td>10000.000000</td>\n",
       "      <td>10000.000000</td>\n",
       "      <td>10000.000000</td>\n",
       "    </tr>\n",
       "    <tr>\n",
       "      <th>mean</th>\n",
       "      <td>9756.562400</td>\n",
       "      <td>2.095936</td>\n",
       "      <td>53.275748</td>\n",
       "      <td>39936.762226</td>\n",
       "      <td>11.452955</td>\n",
       "      <td>12.016000</td>\n",
       "      <td>0.994200</td>\n",
       "      <td>0.398000</td>\n",
       "      <td>34.498858</td>\n",
       "      <td>174.076305</td>\n",
       "      <td>3398.842752</td>\n",
       "      <td>3.490800</td>\n",
       "      <td>3.505100</td>\n",
       "      <td>3.487000</td>\n",
       "      <td>3.497500</td>\n",
       "      <td>3.492900</td>\n",
       "      <td>3.497300</td>\n",
       "      <td>3.509500</td>\n",
       "      <td>3.495600</td>\n",
       "    </tr>\n",
       "    <tr>\n",
       "      <th>std</th>\n",
       "      <td>14432.698671</td>\n",
       "      <td>2.154758</td>\n",
       "      <td>20.753928</td>\n",
       "      <td>28358.469482</td>\n",
       "      <td>7.025921</td>\n",
       "      <td>3.025898</td>\n",
       "      <td>0.988466</td>\n",
       "      <td>0.635953</td>\n",
       "      <td>26.438904</td>\n",
       "      <td>43.335473</td>\n",
       "      <td>2187.396807</td>\n",
       "      <td>1.037797</td>\n",
       "      <td>1.034641</td>\n",
       "      <td>1.027977</td>\n",
       "      <td>1.025816</td>\n",
       "      <td>1.024819</td>\n",
       "      <td>1.033586</td>\n",
       "      <td>1.028502</td>\n",
       "      <td>1.028633</td>\n",
       "    </tr>\n",
       "    <tr>\n",
       "      <th>min</th>\n",
       "      <td>0.000000</td>\n",
       "      <td>0.000000</td>\n",
       "      <td>18.000000</td>\n",
       "      <td>740.660000</td>\n",
       "      <td>-1.348571</td>\n",
       "      <td>1.000000</td>\n",
       "      <td>0.000000</td>\n",
       "      <td>0.000000</td>\n",
       "      <td>1.000259</td>\n",
       "      <td>77.505230</td>\n",
       "      <td>155.506715</td>\n",
       "      <td>1.000000</td>\n",
       "      <td>1.000000</td>\n",
       "      <td>1.000000</td>\n",
       "      <td>1.000000</td>\n",
       "      <td>1.000000</td>\n",
       "      <td>1.000000</td>\n",
       "      <td>1.000000</td>\n",
       "      <td>1.000000</td>\n",
       "    </tr>\n",
       "    <tr>\n",
       "      <th>25%</th>\n",
       "      <td>738.000000</td>\n",
       "      <td>0.000000</td>\n",
       "      <td>35.000000</td>\n",
       "      <td>19285.522500</td>\n",
       "      <td>8.054362</td>\n",
       "      <td>10.000000</td>\n",
       "      <td>0.000000</td>\n",
       "      <td>0.000000</td>\n",
       "      <td>7.890442</td>\n",
       "      <td>141.071078</td>\n",
       "      <td>1234.110529</td>\n",
       "      <td>3.000000</td>\n",
       "      <td>3.000000</td>\n",
       "      <td>3.000000</td>\n",
       "      <td>3.000000</td>\n",
       "      <td>3.000000</td>\n",
       "      <td>3.000000</td>\n",
       "      <td>3.000000</td>\n",
       "      <td>3.000000</td>\n",
       "    </tr>\n",
       "    <tr>\n",
       "      <th>50%</th>\n",
       "      <td>2910.500000</td>\n",
       "      <td>1.000000</td>\n",
       "      <td>53.000000</td>\n",
       "      <td>33186.785000</td>\n",
       "      <td>10.202896</td>\n",
       "      <td>12.000000</td>\n",
       "      <td>1.000000</td>\n",
       "      <td>0.000000</td>\n",
       "      <td>36.196030</td>\n",
       "      <td>169.915400</td>\n",
       "      <td>3382.424000</td>\n",
       "      <td>3.000000</td>\n",
       "      <td>4.000000</td>\n",
       "      <td>3.000000</td>\n",
       "      <td>3.000000</td>\n",
       "      <td>3.000000</td>\n",
       "      <td>3.000000</td>\n",
       "      <td>4.000000</td>\n",
       "      <td>3.000000</td>\n",
       "    </tr>\n",
       "    <tr>\n",
       "      <th>75%</th>\n",
       "      <td>13168.000000</td>\n",
       "      <td>3.000000</td>\n",
       "      <td>71.000000</td>\n",
       "      <td>53472.395000</td>\n",
       "      <td>12.487644</td>\n",
       "      <td>14.000000</td>\n",
       "      <td>2.000000</td>\n",
       "      <td>1.000000</td>\n",
       "      <td>61.426670</td>\n",
       "      <td>203.777441</td>\n",
       "      <td>5587.096500</td>\n",
       "      <td>4.000000</td>\n",
       "      <td>4.000000</td>\n",
       "      <td>4.000000</td>\n",
       "      <td>4.000000</td>\n",
       "      <td>4.000000</td>\n",
       "      <td>4.000000</td>\n",
       "      <td>4.000000</td>\n",
       "      <td>4.000000</td>\n",
       "    </tr>\n",
       "    <tr>\n",
       "      <th>max</th>\n",
       "      <td>111850.000000</td>\n",
       "      <td>10.000000</td>\n",
       "      <td>89.000000</td>\n",
       "      <td>258900.700000</td>\n",
       "      <td>47.049280</td>\n",
       "      <td>23.000000</td>\n",
       "      <td>7.000000</td>\n",
       "      <td>6.000000</td>\n",
       "      <td>71.999280</td>\n",
       "      <td>315.878600</td>\n",
       "      <td>7158.982000</td>\n",
       "      <td>7.000000</td>\n",
       "      <td>7.000000</td>\n",
       "      <td>8.000000</td>\n",
       "      <td>7.000000</td>\n",
       "      <td>7.000000</td>\n",
       "      <td>8.000000</td>\n",
       "      <td>7.000000</td>\n",
       "      <td>8.000000</td>\n",
       "    </tr>\n",
       "  </tbody>\n",
       "</table>\n",
       "</div>"
      ],
      "text/plain": [
       "          Population     Children          Age         Income  \\\n",
       "count   10000.000000  7505.000000  7525.000000    7510.000000   \n",
       "mean     9756.562400     2.095936    53.275748   39936.762226   \n",
       "std     14432.698671     2.154758    20.753928   28358.469482   \n",
       "min         0.000000     0.000000    18.000000     740.660000   \n",
       "25%       738.000000     0.000000    35.000000   19285.522500   \n",
       "50%      2910.500000     1.000000    53.000000   33186.785000   \n",
       "75%     13168.000000     3.000000    71.000000   53472.395000   \n",
       "max    111850.000000    10.000000    89.000000  258900.700000   \n",
       "\n",
       "       Outage_sec_perweek         Email      Contacts  Yearly_equip_failure  \\\n",
       "count        10000.000000  10000.000000  10000.000000          10000.000000   \n",
       "mean            11.452955     12.016000      0.994200              0.398000   \n",
       "std              7.025921      3.025898      0.988466              0.635953   \n",
       "min             -1.348571      1.000000      0.000000              0.000000   \n",
       "25%              8.054362     10.000000      0.000000              0.000000   \n",
       "50%             10.202896     12.000000      1.000000              0.000000   \n",
       "75%             12.487644     14.000000      2.000000              1.000000   \n",
       "max             47.049280     23.000000      7.000000              6.000000   \n",
       "\n",
       "            Tenure  MonthlyCharge  Bandwidth_GB_Year     Responses  \\\n",
       "count  9069.000000   10000.000000        8979.000000  10000.000000   \n",
       "mean     34.498858     174.076305        3398.842752      3.490800   \n",
       "std      26.438904      43.335473        2187.396807      1.037797   \n",
       "min       1.000259      77.505230         155.506715      1.000000   \n",
       "25%       7.890442     141.071078        1234.110529      3.000000   \n",
       "50%      36.196030     169.915400        3382.424000      3.000000   \n",
       "75%      61.426670     203.777441        5587.096500      4.000000   \n",
       "max      71.999280     315.878600        7158.982000      7.000000   \n",
       "\n",
       "              Fixes  Replacements   Reliability       Options  Respectfulness  \\\n",
       "count  10000.000000  10000.000000  10000.000000  10000.000000    10000.000000   \n",
       "mean       3.505100      3.487000      3.497500      3.492900        3.497300   \n",
       "std        1.034641      1.027977      1.025816      1.024819        1.033586   \n",
       "min        1.000000      1.000000      1.000000      1.000000        1.000000   \n",
       "25%        3.000000      3.000000      3.000000      3.000000        3.000000   \n",
       "50%        4.000000      3.000000      3.000000      3.000000        3.000000   \n",
       "75%        4.000000      4.000000      4.000000      4.000000        4.000000   \n",
       "max        7.000000      8.000000      7.000000      7.000000        8.000000   \n",
       "\n",
       "          Courteous     Listening  \n",
       "count  10000.000000  10000.000000  \n",
       "mean       3.509500      3.495600  \n",
       "std        1.028502      1.028633  \n",
       "min        1.000000      1.000000  \n",
       "25%        3.000000      3.000000  \n",
       "50%        4.000000      3.000000  \n",
       "75%        4.000000      4.000000  \n",
       "max        7.000000      8.000000  "
      ]
     },
     "execution_count": 24,
     "metadata": {},
     "output_type": "execute_result"
    }
   ],
   "source": [
    "df_stats = df.drop(columns=['CaseOrder', 'Zip', 'Lat', 'Lng'])\n",
    "df_stats.describe()\n"
   ]
  },
  {
   "cell_type": "code",
   "execution_count": 25,
   "id": "15771c27",
   "metadata": {},
   "outputs": [
    {
     "data": {
      "text/plain": [
       "No     0.735\n",
       "Yes    0.265\n",
       "Name: Churn, dtype: float64"
      ]
     },
     "execution_count": 25,
     "metadata": {},
     "output_type": "execute_result"
    }
   ],
   "source": [
    "df.Churn.value_counts() / len(df)\n"
   ]
  },
  {
   "cell_type": "code",
   "execution_count": 26,
   "id": "40537828",
   "metadata": {},
   "outputs": [
    {
     "data": {
      "text/plain": [
       "CaseOrder                 int64\n",
       "Customer_id              object\n",
       "Interaction              object\n",
       "City                     object\n",
       "State                    object\n",
       "County                   object\n",
       "Zip                       int64\n",
       "Lat                     float64\n",
       "Lng                     float64\n",
       "Population                int64\n",
       "Area                     object\n",
       "Timezone                 object\n",
       "Job                      object\n",
       "Children                float64\n",
       "Age                     float64\n",
       "Education                object\n",
       "Employment               object\n",
       "Income                  float64\n",
       "Marital                  object\n",
       "Gender                   object\n",
       "Churn                    object\n",
       "Outage_sec_perweek      float64\n",
       "Email                     int64\n",
       "Contacts                  int64\n",
       "Yearly_equip_failure      int64\n",
       "Techie                   object\n",
       "Contract                 object\n",
       "Port_modem               object\n",
       "Tablet                   object\n",
       "InternetService          object\n",
       "Phone                    object\n",
       "Multiple                 object\n",
       "OnlineSecurity           object\n",
       "OnlineBackup             object\n",
       "DeviceProtection         object\n",
       "TechSupport              object\n",
       "StreamingTV              object\n",
       "StreamingMovies          object\n",
       "PaperlessBilling         object\n",
       "PaymentMethod            object\n",
       "Tenure                  float64\n",
       "MonthlyCharge           float64\n",
       "Bandwidth_GB_Year       float64\n",
       "Responses                 int64\n",
       "Fixes                     int64\n",
       "Replacements              int64\n",
       "Reliability               int64\n",
       "Options                   int64\n",
       "Respectfulness            int64\n",
       "Courteous                 int64\n",
       "Listening                 int64\n",
       "dtype: object"
      ]
     },
     "execution_count": 26,
     "metadata": {},
     "output_type": "execute_result"
    }
   ],
   "source": [
    "df.dtypes\n"
   ]
  },
  {
   "cell_type": "code",
   "execution_count": 27,
   "id": "7b7e43b2",
   "metadata": {},
   "outputs": [
    {
     "data": {
      "text/plain": [
       "{int64: ['CaseOrder', 'Zip', 'Population', 'Email', 'Contacts', 'Yearly_equip_failure', 'Responses', 'Fixes', 'Replacements', 'Reliability', 'Options', 'Respectfulness', 'Courteous', 'Listening'], float64: ['Lat', 'Lng', 'Children', 'Age', 'Income', 'Outage_sec_perweek', 'Tenure', 'MonthlyCharge', 'Bandwidth_GB_Year'], object: ['Customer_id', 'Interaction', 'City', 'State', 'County', 'Area', 'Timezone', 'Job', 'Education', 'Employment', 'Marital', 'Gender', 'Churn', 'Techie', 'Contract', 'Port_modem', 'Tablet', 'InternetService', 'Phone', 'Multiple', 'OnlineSecurity', 'OnlineBackup', 'DeviceProtection', 'TechSupport', 'StreamingTV', 'StreamingMovies', 'PaperlessBilling', 'PaymentMethod']}"
      ]
     },
     "execution_count": 27,
     "metadata": {},
     "output_type": "execute_result"
    }
   ],
   "source": [
    "df.columns.to_series().groupby(df.dtypes).groups\n"
   ]
  },
  {
   "cell_type": "code",
   "execution_count": 28,
   "id": "de91a44a",
   "metadata": {},
   "outputs": [
    {
     "data": {
      "text/html": [
       "<div>\n",
       "<style scoped>\n",
       "    .dataframe tbody tr th:only-of-type {\n",
       "        vertical-align: middle;\n",
       "    }\n",
       "\n",
       "    .dataframe tbody tr th {\n",
       "        vertical-align: top;\n",
       "    }\n",
       "\n",
       "    .dataframe thead th {\n",
       "        text-align: right;\n",
       "    }\n",
       "</style>\n",
       "<table border=\"1\" class=\"dataframe\">\n",
       "  <thead>\n",
       "    <tr style=\"text-align: right;\">\n",
       "      <th></th>\n",
       "      <th>CaseOrder</th>\n",
       "      <th>Customer_id</th>\n",
       "      <th>Interaction</th>\n",
       "      <th>City</th>\n",
       "      <th>State</th>\n",
       "      <th>County</th>\n",
       "      <th>Zip</th>\n",
       "      <th>Lat</th>\n",
       "      <th>Lng</th>\n",
       "      <th>Population</th>\n",
       "      <th>...</th>\n",
       "      <th>MonthlyCharge</th>\n",
       "      <th>Bandwidth_GB_Year</th>\n",
       "      <th>Responses</th>\n",
       "      <th>Fixes</th>\n",
       "      <th>Replacements</th>\n",
       "      <th>Reliability</th>\n",
       "      <th>Options</th>\n",
       "      <th>Respectfulness</th>\n",
       "      <th>Courteous</th>\n",
       "      <th>Listening</th>\n",
       "    </tr>\n",
       "  </thead>\n",
       "  <tbody>\n",
       "    <tr>\n",
       "      <th>0</th>\n",
       "      <td>False</td>\n",
       "      <td>False</td>\n",
       "      <td>False</td>\n",
       "      <td>False</td>\n",
       "      <td>False</td>\n",
       "      <td>False</td>\n",
       "      <td>False</td>\n",
       "      <td>False</td>\n",
       "      <td>False</td>\n",
       "      <td>False</td>\n",
       "      <td>...</td>\n",
       "      <td>False</td>\n",
       "      <td>False</td>\n",
       "      <td>False</td>\n",
       "      <td>False</td>\n",
       "      <td>False</td>\n",
       "      <td>False</td>\n",
       "      <td>False</td>\n",
       "      <td>False</td>\n",
       "      <td>False</td>\n",
       "      <td>False</td>\n",
       "    </tr>\n",
       "    <tr>\n",
       "      <th>1</th>\n",
       "      <td>False</td>\n",
       "      <td>False</td>\n",
       "      <td>False</td>\n",
       "      <td>False</td>\n",
       "      <td>False</td>\n",
       "      <td>False</td>\n",
       "      <td>False</td>\n",
       "      <td>False</td>\n",
       "      <td>False</td>\n",
       "      <td>False</td>\n",
       "      <td>...</td>\n",
       "      <td>False</td>\n",
       "      <td>False</td>\n",
       "      <td>False</td>\n",
       "      <td>False</td>\n",
       "      <td>False</td>\n",
       "      <td>False</td>\n",
       "      <td>False</td>\n",
       "      <td>False</td>\n",
       "      <td>False</td>\n",
       "      <td>False</td>\n",
       "    </tr>\n",
       "    <tr>\n",
       "      <th>2</th>\n",
       "      <td>False</td>\n",
       "      <td>False</td>\n",
       "      <td>False</td>\n",
       "      <td>False</td>\n",
       "      <td>False</td>\n",
       "      <td>False</td>\n",
       "      <td>False</td>\n",
       "      <td>False</td>\n",
       "      <td>False</td>\n",
       "      <td>False</td>\n",
       "      <td>...</td>\n",
       "      <td>False</td>\n",
       "      <td>False</td>\n",
       "      <td>False</td>\n",
       "      <td>False</td>\n",
       "      <td>False</td>\n",
       "      <td>False</td>\n",
       "      <td>False</td>\n",
       "      <td>False</td>\n",
       "      <td>False</td>\n",
       "      <td>False</td>\n",
       "    </tr>\n",
       "    <tr>\n",
       "      <th>3</th>\n",
       "      <td>False</td>\n",
       "      <td>False</td>\n",
       "      <td>False</td>\n",
       "      <td>False</td>\n",
       "      <td>False</td>\n",
       "      <td>False</td>\n",
       "      <td>False</td>\n",
       "      <td>False</td>\n",
       "      <td>False</td>\n",
       "      <td>False</td>\n",
       "      <td>...</td>\n",
       "      <td>False</td>\n",
       "      <td>False</td>\n",
       "      <td>False</td>\n",
       "      <td>False</td>\n",
       "      <td>False</td>\n",
       "      <td>False</td>\n",
       "      <td>False</td>\n",
       "      <td>False</td>\n",
       "      <td>False</td>\n",
       "      <td>False</td>\n",
       "    </tr>\n",
       "    <tr>\n",
       "      <th>4</th>\n",
       "      <td>False</td>\n",
       "      <td>False</td>\n",
       "      <td>False</td>\n",
       "      <td>False</td>\n",
       "      <td>False</td>\n",
       "      <td>False</td>\n",
       "      <td>False</td>\n",
       "      <td>False</td>\n",
       "      <td>False</td>\n",
       "      <td>False</td>\n",
       "      <td>...</td>\n",
       "      <td>False</td>\n",
       "      <td>False</td>\n",
       "      <td>False</td>\n",
       "      <td>False</td>\n",
       "      <td>False</td>\n",
       "      <td>False</td>\n",
       "      <td>False</td>\n",
       "      <td>False</td>\n",
       "      <td>False</td>\n",
       "      <td>False</td>\n",
       "    </tr>\n",
       "    <tr>\n",
       "      <th>...</th>\n",
       "      <td>...</td>\n",
       "      <td>...</td>\n",
       "      <td>...</td>\n",
       "      <td>...</td>\n",
       "      <td>...</td>\n",
       "      <td>...</td>\n",
       "      <td>...</td>\n",
       "      <td>...</td>\n",
       "      <td>...</td>\n",
       "      <td>...</td>\n",
       "      <td>...</td>\n",
       "      <td>...</td>\n",
       "      <td>...</td>\n",
       "      <td>...</td>\n",
       "      <td>...</td>\n",
       "      <td>...</td>\n",
       "      <td>...</td>\n",
       "      <td>...</td>\n",
       "      <td>...</td>\n",
       "      <td>...</td>\n",
       "      <td>...</td>\n",
       "    </tr>\n",
       "    <tr>\n",
       "      <th>9995</th>\n",
       "      <td>False</td>\n",
       "      <td>False</td>\n",
       "      <td>False</td>\n",
       "      <td>False</td>\n",
       "      <td>False</td>\n",
       "      <td>False</td>\n",
       "      <td>False</td>\n",
       "      <td>False</td>\n",
       "      <td>False</td>\n",
       "      <td>False</td>\n",
       "      <td>...</td>\n",
       "      <td>False</td>\n",
       "      <td>False</td>\n",
       "      <td>False</td>\n",
       "      <td>False</td>\n",
       "      <td>False</td>\n",
       "      <td>False</td>\n",
       "      <td>False</td>\n",
       "      <td>False</td>\n",
       "      <td>False</td>\n",
       "      <td>False</td>\n",
       "    </tr>\n",
       "    <tr>\n",
       "      <th>9996</th>\n",
       "      <td>False</td>\n",
       "      <td>False</td>\n",
       "      <td>False</td>\n",
       "      <td>False</td>\n",
       "      <td>False</td>\n",
       "      <td>False</td>\n",
       "      <td>False</td>\n",
       "      <td>False</td>\n",
       "      <td>False</td>\n",
       "      <td>False</td>\n",
       "      <td>...</td>\n",
       "      <td>False</td>\n",
       "      <td>False</td>\n",
       "      <td>False</td>\n",
       "      <td>False</td>\n",
       "      <td>False</td>\n",
       "      <td>False</td>\n",
       "      <td>False</td>\n",
       "      <td>False</td>\n",
       "      <td>False</td>\n",
       "      <td>False</td>\n",
       "    </tr>\n",
       "    <tr>\n",
       "      <th>9997</th>\n",
       "      <td>False</td>\n",
       "      <td>False</td>\n",
       "      <td>False</td>\n",
       "      <td>False</td>\n",
       "      <td>False</td>\n",
       "      <td>False</td>\n",
       "      <td>False</td>\n",
       "      <td>False</td>\n",
       "      <td>False</td>\n",
       "      <td>False</td>\n",
       "      <td>...</td>\n",
       "      <td>False</td>\n",
       "      <td>False</td>\n",
       "      <td>False</td>\n",
       "      <td>False</td>\n",
       "      <td>False</td>\n",
       "      <td>False</td>\n",
       "      <td>False</td>\n",
       "      <td>False</td>\n",
       "      <td>False</td>\n",
       "      <td>False</td>\n",
       "    </tr>\n",
       "    <tr>\n",
       "      <th>9998</th>\n",
       "      <td>False</td>\n",
       "      <td>False</td>\n",
       "      <td>False</td>\n",
       "      <td>False</td>\n",
       "      <td>False</td>\n",
       "      <td>False</td>\n",
       "      <td>False</td>\n",
       "      <td>False</td>\n",
       "      <td>False</td>\n",
       "      <td>False</td>\n",
       "      <td>...</td>\n",
       "      <td>False</td>\n",
       "      <td>False</td>\n",
       "      <td>False</td>\n",
       "      <td>False</td>\n",
       "      <td>False</td>\n",
       "      <td>False</td>\n",
       "      <td>False</td>\n",
       "      <td>False</td>\n",
       "      <td>False</td>\n",
       "      <td>False</td>\n",
       "    </tr>\n",
       "    <tr>\n",
       "      <th>9999</th>\n",
       "      <td>False</td>\n",
       "      <td>False</td>\n",
       "      <td>False</td>\n",
       "      <td>False</td>\n",
       "      <td>False</td>\n",
       "      <td>False</td>\n",
       "      <td>False</td>\n",
       "      <td>False</td>\n",
       "      <td>False</td>\n",
       "      <td>False</td>\n",
       "      <td>...</td>\n",
       "      <td>False</td>\n",
       "      <td>False</td>\n",
       "      <td>False</td>\n",
       "      <td>False</td>\n",
       "      <td>False</td>\n",
       "      <td>False</td>\n",
       "      <td>False</td>\n",
       "      <td>False</td>\n",
       "      <td>False</td>\n",
       "      <td>False</td>\n",
       "    </tr>\n",
       "  </tbody>\n",
       "</table>\n",
       "<p>10000 rows × 51 columns</p>\n",
       "</div>"
      ],
      "text/plain": [
       "      CaseOrder  Customer_id  Interaction   City  State  County    Zip    Lat  \\\n",
       "0         False        False        False  False  False   False  False  False   \n",
       "1         False        False        False  False  False   False  False  False   \n",
       "2         False        False        False  False  False   False  False  False   \n",
       "3         False        False        False  False  False   False  False  False   \n",
       "4         False        False        False  False  False   False  False  False   \n",
       "...         ...          ...          ...    ...    ...     ...    ...    ...   \n",
       "9995      False        False        False  False  False   False  False  False   \n",
       "9996      False        False        False  False  False   False  False  False   \n",
       "9997      False        False        False  False  False   False  False  False   \n",
       "9998      False        False        False  False  False   False  False  False   \n",
       "9999      False        False        False  False  False   False  False  False   \n",
       "\n",
       "        Lng  Population  ...  MonthlyCharge  Bandwidth_GB_Year  Responses  \\\n",
       "0     False       False  ...          False              False      False   \n",
       "1     False       False  ...          False              False      False   \n",
       "2     False       False  ...          False              False      False   \n",
       "3     False       False  ...          False              False      False   \n",
       "4     False       False  ...          False              False      False   \n",
       "...     ...         ...  ...            ...                ...        ...   \n",
       "9995  False       False  ...          False              False      False   \n",
       "9996  False       False  ...          False              False      False   \n",
       "9997  False       False  ...          False              False      False   \n",
       "9998  False       False  ...          False              False      False   \n",
       "9999  False       False  ...          False              False      False   \n",
       "\n",
       "      Fixes  Replacements  Reliability  Options  Respectfulness  Courteous  \\\n",
       "0     False         False        False    False           False      False   \n",
       "1     False         False        False    False           False      False   \n",
       "2     False         False        False    False           False      False   \n",
       "3     False         False        False    False           False      False   \n",
       "4     False         False        False    False           False      False   \n",
       "...     ...           ...          ...      ...             ...        ...   \n",
       "9995  False         False        False    False           False      False   \n",
       "9996  False         False        False    False           False      False   \n",
       "9997  False         False        False    False           False      False   \n",
       "9998  False         False        False    False           False      False   \n",
       "9999  False         False        False    False           False      False   \n",
       "\n",
       "      Listening  \n",
       "0         False  \n",
       "1         False  \n",
       "2         False  \n",
       "3         False  \n",
       "4         False  \n",
       "...         ...  \n",
       "9995      False  \n",
       "9996      False  \n",
       "9997      False  \n",
       "9998      False  \n",
       "9999      False  \n",
       "\n",
       "[10000 rows x 51 columns]"
      ]
     },
     "execution_count": 28,
     "metadata": {},
     "output_type": "execute_result"
    }
   ],
   "source": [
    "df.isnull()\n"
   ]
  },
  {
   "cell_type": "code",
   "execution_count": 29,
   "id": "9851ca9f",
   "metadata": {},
   "outputs": [
    {
     "data": {
      "text/plain": [
       "0        True\n",
       "1       False\n",
       "2        True\n",
       "3       False\n",
       "4       False\n",
       "        ...  \n",
       "9995     True\n",
       "9996     True\n",
       "9997     True\n",
       "9998    False\n",
       "9999     True\n",
       "Length: 10000, dtype: bool"
      ]
     },
     "execution_count": 29,
     "metadata": {},
     "output_type": "execute_result"
    }
   ],
   "source": [
    "df.isnull().any(axis=1)\n"
   ]
  },
  {
   "cell_type": "code",
   "execution_count": 30,
   "id": "bc646d61",
   "metadata": {},
   "outputs": [
    {
     "data": {
      "text/plain": [
       "CaseOrder               False\n",
       "Customer_id             False\n",
       "Interaction             False\n",
       "City                    False\n",
       "State                   False\n",
       "County                  False\n",
       "Zip                     False\n",
       "Lat                     False\n",
       "Lng                     False\n",
       "Population              False\n",
       "Area                    False\n",
       "Timezone                False\n",
       "Job                     False\n",
       "Children                 True\n",
       "Age                      True\n",
       "Education               False\n",
       "Employment              False\n",
       "Income                   True\n",
       "Marital                 False\n",
       "Gender                  False\n",
       "Churn                   False\n",
       "Outage_sec_perweek      False\n",
       "Email                   False\n",
       "Contacts                False\n",
       "Yearly_equip_failure    False\n",
       "Techie                   True\n",
       "Contract                False\n",
       "Port_modem              False\n",
       "Tablet                  False\n",
       "InternetService         False\n",
       "Phone                    True\n",
       "Multiple                False\n",
       "OnlineSecurity          False\n",
       "OnlineBackup            False\n",
       "DeviceProtection        False\n",
       "TechSupport              True\n",
       "StreamingTV             False\n",
       "StreamingMovies         False\n",
       "PaperlessBilling        False\n",
       "PaymentMethod           False\n",
       "Tenure                   True\n",
       "MonthlyCharge           False\n",
       "Bandwidth_GB_Year        True\n",
       "Responses               False\n",
       "Fixes                   False\n",
       "Replacements            False\n",
       "Reliability             False\n",
       "Options                 False\n",
       "Respectfulness          False\n",
       "Courteous               False\n",
       "Listening               False\n",
       "dtype: bool"
      ]
     },
     "execution_count": 30,
     "metadata": {},
     "output_type": "execute_result"
    }
   ],
   "source": [
    "df.isna().any()\n"
   ]
  },
  {
   "cell_type": "code",
   "execution_count": 31,
   "id": "c3aff9a4",
   "metadata": {},
   "outputs": [],
   "source": [
    "data_nulls = df.isnull().sum()\n"
   ]
  },
  {
   "cell_type": "code",
   "execution_count": 32,
   "id": "73b8cd82",
   "metadata": {},
   "outputs": [
    {
     "name": "stdout",
     "output_type": "stream",
     "text": [
      "CaseOrder                  0\n",
      "Customer_id                0\n",
      "Interaction                0\n",
      "City                       0\n",
      "State                      0\n",
      "County                     0\n",
      "Zip                        0\n",
      "Lat                        0\n",
      "Lng                        0\n",
      "Population                 0\n",
      "Area                       0\n",
      "Timezone                   0\n",
      "Job                        0\n",
      "Children                2495\n",
      "Age                     2475\n",
      "Education                  0\n",
      "Employment                 0\n",
      "Income                  2490\n",
      "Marital                    0\n",
      "Gender                     0\n",
      "Churn                      0\n",
      "Outage_sec_perweek         0\n",
      "Email                      0\n",
      "Contacts                   0\n",
      "Yearly_equip_failure       0\n",
      "Techie                  2477\n",
      "Contract                   0\n",
      "Port_modem                 0\n",
      "Tablet                     0\n",
      "InternetService            0\n",
      "Phone                   1026\n",
      "Multiple                   0\n",
      "OnlineSecurity             0\n",
      "OnlineBackup               0\n",
      "DeviceProtection           0\n",
      "TechSupport              991\n",
      "StreamingTV                0\n",
      "StreamingMovies            0\n",
      "PaperlessBilling           0\n",
      "PaymentMethod              0\n",
      "Tenure                   931\n",
      "MonthlyCharge              0\n",
      "Bandwidth_GB_Year       1021\n",
      "Responses                  0\n",
      "Fixes                      0\n",
      "Replacements               0\n",
      "Reliability                0\n",
      "Options                    0\n",
      "Respectfulness             0\n",
      "Courteous                  0\n",
      "Listening                  0\n",
      "dtype: int64\n"
     ]
    }
   ],
   "source": [
    "print(data_nulls)\n"
   ]
  },
  {
   "cell_type": "code",
   "execution_count": 36,
   "id": "9ec6c32b",
   "metadata": {},
   "outputs": [
    {
     "data": {
      "text/html": [
       "<div>\n",
       "<style scoped>\n",
       "    .dataframe tbody tr th:only-of-type {\n",
       "        vertical-align: middle;\n",
       "    }\n",
       "\n",
       "    .dataframe tbody tr th {\n",
       "        vertical-align: top;\n",
       "    }\n",
       "\n",
       "    .dataframe thead th {\n",
       "        text-align: right;\n",
       "    }\n",
       "</style>\n",
       "<table border=\"1\" class=\"dataframe\">\n",
       "  <thead>\n",
       "    <tr style=\"text-align: right;\">\n",
       "      <th></th>\n",
       "      <th>CaseOrder</th>\n",
       "      <th>Customer_id</th>\n",
       "      <th>Interaction</th>\n",
       "      <th>City</th>\n",
       "      <th>State</th>\n",
       "      <th>County</th>\n",
       "      <th>Zip</th>\n",
       "      <th>Lat</th>\n",
       "      <th>Lng</th>\n",
       "      <th>Population</th>\n",
       "      <th>...</th>\n",
       "      <th>MonthlyCharge</th>\n",
       "      <th>Bandwidth_GB_Year</th>\n",
       "      <th>Responses</th>\n",
       "      <th>Fixes</th>\n",
       "      <th>Replacements</th>\n",
       "      <th>Reliability</th>\n",
       "      <th>Options</th>\n",
       "      <th>Respectfulness</th>\n",
       "      <th>Courteous</th>\n",
       "      <th>Listening</th>\n",
       "    </tr>\n",
       "  </thead>\n",
       "  <tbody>\n",
       "    <tr>\n",
       "      <th>0</th>\n",
       "      <td>1</td>\n",
       "      <td>K409198</td>\n",
       "      <td>aa90260b-4141-4a24-8e36-b04ce1f4f77b</td>\n",
       "      <td>Point Baker</td>\n",
       "      <td>AK</td>\n",
       "      <td>Prince of Wales-Hyder</td>\n",
       "      <td>99927</td>\n",
       "      <td>56.25100</td>\n",
       "      <td>-133.37571</td>\n",
       "      <td>38</td>\n",
       "      <td>...</td>\n",
       "      <td>171.449762</td>\n",
       "      <td>904.536110</td>\n",
       "      <td>5</td>\n",
       "      <td>5</td>\n",
       "      <td>5</td>\n",
       "      <td>3</td>\n",
       "      <td>4</td>\n",
       "      <td>4</td>\n",
       "      <td>3</td>\n",
       "      <td>4</td>\n",
       "    </tr>\n",
       "    <tr>\n",
       "      <th>2</th>\n",
       "      <td>3</td>\n",
       "      <td>K191035</td>\n",
       "      <td>344d114c-3736-4be5-98f7-c72c281e2d35</td>\n",
       "      <td>Yamhill</td>\n",
       "      <td>OR</td>\n",
       "      <td>Yamhill</td>\n",
       "      <td>97148</td>\n",
       "      <td>45.35589</td>\n",
       "      <td>-123.24657</td>\n",
       "      <td>3735</td>\n",
       "      <td>...</td>\n",
       "      <td>159.440398</td>\n",
       "      <td>2054.706961</td>\n",
       "      <td>4</td>\n",
       "      <td>4</td>\n",
       "      <td>2</td>\n",
       "      <td>4</td>\n",
       "      <td>4</td>\n",
       "      <td>3</td>\n",
       "      <td>3</td>\n",
       "      <td>3</td>\n",
       "    </tr>\n",
       "    <tr>\n",
       "      <th>5</th>\n",
       "      <td>6</td>\n",
       "      <td>W303516</td>\n",
       "      <td>2b451d12-6c2b-4cea-a295-ba1d6bced078</td>\n",
       "      <td>Fort Valley</td>\n",
       "      <td>GA</td>\n",
       "      <td>Peach</td>\n",
       "      <td>31030</td>\n",
       "      <td>32.57032</td>\n",
       "      <td>-83.89040</td>\n",
       "      <td>17701</td>\n",
       "      <td>...</td>\n",
       "      <td>184.401558</td>\n",
       "      <td>1039.357983</td>\n",
       "      <td>3</td>\n",
       "      <td>3</td>\n",
       "      <td>3</td>\n",
       "      <td>2</td>\n",
       "      <td>4</td>\n",
       "      <td>3</td>\n",
       "      <td>3</td>\n",
       "      <td>3</td>\n",
       "    </tr>\n",
       "    <tr>\n",
       "      <th>6</th>\n",
       "      <td>7</td>\n",
       "      <td>U335188</td>\n",
       "      <td>6630d501-838c-4be4-a59c-6f58c814ed6a</td>\n",
       "      <td>Pioneer</td>\n",
       "      <td>TN</td>\n",
       "      <td>Scott</td>\n",
       "      <td>37847</td>\n",
       "      <td>36.43420</td>\n",
       "      <td>-84.27892</td>\n",
       "      <td>2535</td>\n",
       "      <td>...</td>\n",
       "      <td>200.064886</td>\n",
       "      <td>1907.242972</td>\n",
       "      <td>6</td>\n",
       "      <td>5</td>\n",
       "      <td>6</td>\n",
       "      <td>4</td>\n",
       "      <td>1</td>\n",
       "      <td>5</td>\n",
       "      <td>5</td>\n",
       "      <td>5</td>\n",
       "    </tr>\n",
       "    <tr>\n",
       "      <th>7</th>\n",
       "      <td>8</td>\n",
       "      <td>V538685</td>\n",
       "      <td>70ddaa89-b726-49dc-9022-2d655e4c7936</td>\n",
       "      <td>Oklahoma City</td>\n",
       "      <td>OK</td>\n",
       "      <td>Oklahoma</td>\n",
       "      <td>73109</td>\n",
       "      <td>35.43313</td>\n",
       "      <td>-97.52463</td>\n",
       "      <td>23144</td>\n",
       "      <td>...</td>\n",
       "      <td>114.754111</td>\n",
       "      <td>979.612708</td>\n",
       "      <td>2</td>\n",
       "      <td>2</td>\n",
       "      <td>2</td>\n",
       "      <td>5</td>\n",
       "      <td>2</td>\n",
       "      <td>3</td>\n",
       "      <td>4</td>\n",
       "      <td>5</td>\n",
       "    </tr>\n",
       "    <tr>\n",
       "      <th>...</th>\n",
       "      <td>...</td>\n",
       "      <td>...</td>\n",
       "      <td>...</td>\n",
       "      <td>...</td>\n",
       "      <td>...</td>\n",
       "      <td>...</td>\n",
       "      <td>...</td>\n",
       "      <td>...</td>\n",
       "      <td>...</td>\n",
       "      <td>...</td>\n",
       "      <td>...</td>\n",
       "      <td>...</td>\n",
       "      <td>...</td>\n",
       "      <td>...</td>\n",
       "      <td>...</td>\n",
       "      <td>...</td>\n",
       "      <td>...</td>\n",
       "      <td>...</td>\n",
       "      <td>...</td>\n",
       "      <td>...</td>\n",
       "      <td>...</td>\n",
       "    </tr>\n",
       "    <tr>\n",
       "      <th>9994</th>\n",
       "      <td>9995</td>\n",
       "      <td>P175475</td>\n",
       "      <td>c60df12b-a50b-4397-ae57-98381a0d3960</td>\n",
       "      <td>West Kill</td>\n",
       "      <td>NY</td>\n",
       "      <td>Greene</td>\n",
       "      <td>12492</td>\n",
       "      <td>42.18491</td>\n",
       "      <td>-74.33574</td>\n",
       "      <td>210</td>\n",
       "      <td>...</td>\n",
       "      <td>143.687900</td>\n",
       "      <td>4945.756000</td>\n",
       "      <td>4</td>\n",
       "      <td>3</td>\n",
       "      <td>4</td>\n",
       "      <td>4</td>\n",
       "      <td>3</td>\n",
       "      <td>3</td>\n",
       "      <td>4</td>\n",
       "      <td>4</td>\n",
       "    </tr>\n",
       "    <tr>\n",
       "      <th>9995</th>\n",
       "      <td>9996</td>\n",
       "      <td>M324793</td>\n",
       "      <td>45deb5a2-ae04-4518-bf0b-c82db8dbe4a4</td>\n",
       "      <td>Mount Holly</td>\n",
       "      <td>VT</td>\n",
       "      <td>Rutland</td>\n",
       "      <td>5758</td>\n",
       "      <td>43.43391</td>\n",
       "      <td>-72.78734</td>\n",
       "      <td>640</td>\n",
       "      <td>...</td>\n",
       "      <td>159.828800</td>\n",
       "      <td>6511.253000</td>\n",
       "      <td>3</td>\n",
       "      <td>2</td>\n",
       "      <td>3</td>\n",
       "      <td>3</td>\n",
       "      <td>4</td>\n",
       "      <td>3</td>\n",
       "      <td>2</td>\n",
       "      <td>3</td>\n",
       "    </tr>\n",
       "    <tr>\n",
       "      <th>9996</th>\n",
       "      <td>9997</td>\n",
       "      <td>D861732</td>\n",
       "      <td>6e96b921-0c09-4993-bbda-a1ac6411061a</td>\n",
       "      <td>Clarksville</td>\n",
       "      <td>TN</td>\n",
       "      <td>Montgomery</td>\n",
       "      <td>37042</td>\n",
       "      <td>36.56907</td>\n",
       "      <td>-87.41694</td>\n",
       "      <td>77168</td>\n",
       "      <td>...</td>\n",
       "      <td>208.856400</td>\n",
       "      <td>5695.952000</td>\n",
       "      <td>4</td>\n",
       "      <td>5</td>\n",
       "      <td>5</td>\n",
       "      <td>4</td>\n",
       "      <td>4</td>\n",
       "      <td>5</td>\n",
       "      <td>2</td>\n",
       "      <td>5</td>\n",
       "    </tr>\n",
       "    <tr>\n",
       "      <th>9997</th>\n",
       "      <td>9998</td>\n",
       "      <td>I243405</td>\n",
       "      <td>e8307ddf-9a01-4fff-bc59-4742e03fd24f</td>\n",
       "      <td>Mobeetie</td>\n",
       "      <td>TX</td>\n",
       "      <td>Wheeler</td>\n",
       "      <td>79061</td>\n",
       "      <td>35.52039</td>\n",
       "      <td>-100.44180</td>\n",
       "      <td>406</td>\n",
       "      <td>...</td>\n",
       "      <td>168.220900</td>\n",
       "      <td>4159.306000</td>\n",
       "      <td>4</td>\n",
       "      <td>4</td>\n",
       "      <td>4</td>\n",
       "      <td>4</td>\n",
       "      <td>4</td>\n",
       "      <td>4</td>\n",
       "      <td>4</td>\n",
       "      <td>5</td>\n",
       "    </tr>\n",
       "    <tr>\n",
       "      <th>9999</th>\n",
       "      <td>10000</td>\n",
       "      <td>T38070</td>\n",
       "      <td>9de5fb6e-bd33-4995-aec8-f01d0172a499</td>\n",
       "      <td>Clarkesville</td>\n",
       "      <td>GA</td>\n",
       "      <td>Habersham</td>\n",
       "      <td>30523</td>\n",
       "      <td>34.70783</td>\n",
       "      <td>-83.53648</td>\n",
       "      <td>12230</td>\n",
       "      <td>...</td>\n",
       "      <td>218.371000</td>\n",
       "      <td>5857.586000</td>\n",
       "      <td>2</td>\n",
       "      <td>2</td>\n",
       "      <td>3</td>\n",
       "      <td>3</td>\n",
       "      <td>3</td>\n",
       "      <td>3</td>\n",
       "      <td>4</td>\n",
       "      <td>1</td>\n",
       "    </tr>\n",
       "  </tbody>\n",
       "</table>\n",
       "<p>7867 rows × 51 columns</p>\n",
       "</div>"
      ],
      "text/plain": [
       "      CaseOrder Customer_id                           Interaction  \\\n",
       "0             1     K409198  aa90260b-4141-4a24-8e36-b04ce1f4f77b   \n",
       "2             3     K191035  344d114c-3736-4be5-98f7-c72c281e2d35   \n",
       "5             6     W303516  2b451d12-6c2b-4cea-a295-ba1d6bced078   \n",
       "6             7     U335188  6630d501-838c-4be4-a59c-6f58c814ed6a   \n",
       "7             8     V538685  70ddaa89-b726-49dc-9022-2d655e4c7936   \n",
       "...         ...         ...                                   ...   \n",
       "9994       9995     P175475  c60df12b-a50b-4397-ae57-98381a0d3960   \n",
       "9995       9996     M324793  45deb5a2-ae04-4518-bf0b-c82db8dbe4a4   \n",
       "9996       9997     D861732  6e96b921-0c09-4993-bbda-a1ac6411061a   \n",
       "9997       9998     I243405  e8307ddf-9a01-4fff-bc59-4742e03fd24f   \n",
       "9999      10000      T38070  9de5fb6e-bd33-4995-aec8-f01d0172a499   \n",
       "\n",
       "               City State                 County    Zip       Lat        Lng  \\\n",
       "0       Point Baker    AK  Prince of Wales-Hyder  99927  56.25100 -133.37571   \n",
       "2           Yamhill    OR                Yamhill  97148  45.35589 -123.24657   \n",
       "5       Fort Valley    GA                  Peach  31030  32.57032  -83.89040   \n",
       "6           Pioneer    TN                  Scott  37847  36.43420  -84.27892   \n",
       "7     Oklahoma City    OK               Oklahoma  73109  35.43313  -97.52463   \n",
       "...             ...   ...                    ...    ...       ...        ...   \n",
       "9994      West Kill    NY                 Greene  12492  42.18491  -74.33574   \n",
       "9995    Mount Holly    VT                Rutland   5758  43.43391  -72.78734   \n",
       "9996    Clarksville    TN             Montgomery  37042  36.56907  -87.41694   \n",
       "9997       Mobeetie    TX                Wheeler  79061  35.52039 -100.44180   \n",
       "9999   Clarkesville    GA              Habersham  30523  34.70783  -83.53648   \n",
       "\n",
       "      Population  ... MonthlyCharge Bandwidth_GB_Year Responses  Fixes  \\\n",
       "0             38  ...    171.449762        904.536110         5      5   \n",
       "2           3735  ...    159.440398       2054.706961         4      4   \n",
       "5          17701  ...    184.401558       1039.357983         3      3   \n",
       "6           2535  ...    200.064886       1907.242972         6      5   \n",
       "7          23144  ...    114.754111        979.612708         2      2   \n",
       "...          ...  ...           ...               ...       ...    ...   \n",
       "9994         210  ...    143.687900       4945.756000         4      3   \n",
       "9995         640  ...    159.828800       6511.253000         3      2   \n",
       "9996       77168  ...    208.856400       5695.952000         4      5   \n",
       "9997         406  ...    168.220900       4159.306000         4      4   \n",
       "9999       12230  ...    218.371000       5857.586000         2      2   \n",
       "\n",
       "      Replacements Reliability Options  Respectfulness Courteous Listening  \n",
       "0                5           3       4               4         3         4  \n",
       "2                2           4       4               3         3         3  \n",
       "5                3           2       4               3         3         3  \n",
       "6                6           4       1               5         5         5  \n",
       "7                2           5       2               3         4         5  \n",
       "...            ...         ...     ...             ...       ...       ...  \n",
       "9994             4           4       3               3         4         4  \n",
       "9995             3           3       4               3         2         3  \n",
       "9996             5           4       4               5         2         5  \n",
       "9997             4           4       4               4         4         5  \n",
       "9999             3           3       3               3         4         1  \n",
       "\n",
       "[7867 rows x 51 columns]"
      ]
     },
     "execution_count": 36,
     "metadata": {},
     "output_type": "execute_result"
    }
   ],
   "source": [
    "rows_with_missing_values = df.isnull().any(axis=1)\n",
    "df[rows_with_missing_values]"
   ]
  },
  {
   "cell_type": "code",
   "execution_count": 34,
   "id": "99460dae",
   "metadata": {},
   "outputs": [
    {
     "data": {
      "text/plain": [
       "array(['Part Time', 'Retired', 'Student', 'Full Time', 'Unemployed'],\n",
       "      dtype=object)"
      ]
     },
     "execution_count": 34,
     "metadata": {},
     "output_type": "execute_result"
    }
   ],
   "source": [
    "df['Employment'].unique()\n"
   ]
  },
  {
   "cell_type": "code",
   "execution_count": 35,
   "id": "e66c0668",
   "metadata": {},
   "outputs": [
    {
     "data": {
      "text/plain": [
       "array(['Urban', 'Suburban', 'Rural'], dtype=object)"
      ]
     },
     "execution_count": 35,
     "metadata": {},
     "output_type": "execute_result"
    }
   ],
   "source": [
    " df['Area'].unique()\n"
   ]
  },
  {
   "cell_type": "code",
   "execution_count": 37,
   "id": "d3e5cbb3",
   "metadata": {},
   "outputs": [
    {
     "data": {
      "text/plain": [
       "array(['America/Sitka', 'America/Detroit', 'America/Los_Angeles',\n",
       "       'America/Chicago', 'America/New_York', 'America/Puerto_Rico',\n",
       "       'America/Denver', 'America/Menominee', 'America/Phoenix',\n",
       "       'America/Indiana/Indianapolis', 'America/Boise',\n",
       "       'America/Kentucky/Louisville', 'Pacific/Honolulu',\n",
       "       'America/Indiana/Petersburg', 'America/Nome', 'America/Anchorage',\n",
       "       'America/Indiana/Knox', 'America/Juneau', 'America/Toronto',\n",
       "       'America/Indiana/Winamac', 'America/Indiana/Vincennes',\n",
       "       'America/North_Dakota/New_Salem', 'America/Indiana/Tell_City',\n",
       "       'America/Indiana/Marengo', 'America/Ojinaga'], dtype=object)"
      ]
     },
     "execution_count": 37,
     "metadata": {},
     "output_type": "execute_result"
    }
   ],
   "source": [
    "df['Timezone'].unique()"
   ]
  },
  {
   "cell_type": "code",
   "execution_count": 38,
   "id": "1cd250ef",
   "metadata": {},
   "outputs": [
    {
     "data": {
      "text/plain": [
       "639"
      ]
     },
     "execution_count": 38,
     "metadata": {},
     "output_type": "execute_result"
    }
   ],
   "source": [
    "len(df['Job'].unique())"
   ]
  },
  {
   "cell_type": "code",
   "execution_count": 39,
   "id": "89e2aea5",
   "metadata": {},
   "outputs": [
    {
     "data": {
      "text/plain": [
       "array([nan,  1.,  4.,  0.,  3.,  2.,  7.,  5.,  9.,  6., 10.,  8.])"
      ]
     },
     "execution_count": 39,
     "metadata": {},
     "output_type": "execute_result"
    }
   ],
   "source": [
    " df['Children'].unique()\n"
   ]
  },
  {
   "cell_type": "code",
   "execution_count": 40,
   "id": "be99c791",
   "metadata": {},
   "outputs": [
    {
     "data": {
      "text/plain": [
       "array([68., 27., 50., 48., 83., nan, 49., 86., 23., 56., 30., 39., 63.,\n",
       "       60., 61., 52., 75., 77., 47., 70., 69., 45., 40., 82., 26., 25.,\n",
       "       66., 72., 41., 44., 43., 84., 59., 31., 51., 58., 73., 33., 42.,\n",
       "       81., 87., 54., 67., 46., 24., 20., 71., 32., 29., 80., 53., 79.,\n",
       "       65., 35., 34., 74., 55., 76., 57., 38., 78., 19., 36., 88., 62.,\n",
       "       37., 28., 22., 85., 89., 18., 21., 64.])"
      ]
     },
     "execution_count": 40,
     "metadata": {},
     "output_type": "execute_result"
    }
   ],
   "source": [
    " df['Age'].unique()\n"
   ]
  },
  {
   "cell_type": "code",
   "execution_count": 41,
   "id": "3747a5c3",
   "metadata": {},
   "outputs": [
    {
     "name": "stdout",
     "output_type": "stream",
     "text": [
      "[23.0, 25.0, 26.0, 27.0, 30.0, 31.0, 39.0, 40.0, 41.0, 43.0, 44.0, 45.0, 47.0, 48.0, 49.0, 50.0, 51.0, 52.0, 59.0, 61.0, 68.0, 83.0, nan, 18.0, 19.0, 20.0, 21.0, 22.0, 24.0, 28.0, 29.0, 32.0, 33.0, 34.0, 35.0, 36.0, 37.0, 38.0, 42.0, 46.0, 53.0, 54.0, 55.0, 56.0, 57.0, 58.0, 60.0, 62.0, 63.0, 64.0, 65.0, 66.0, 67.0, 69.0, 70.0, 71.0, 72.0, 73.0, 74.0, 75.0, 76.0, 77.0, 78.0, 79.0, 80.0, 81.0, 82.0, 84.0, 85.0, 86.0, 87.0, 88.0, 89.0]\n"
     ]
    }
   ],
   "source": [
    "age_range = df['Age'].unique()\n",
    "print(sorted(age_range))"
   ]
  },
  {
   "cell_type": "code",
   "execution_count": 42,
   "id": "e60f8259",
   "metadata": {},
   "outputs": [
    {
     "data": {
      "text/plain": [
       "array([\"Master's Degree\", 'Regular High School Diploma',\n",
       "       'Doctorate Degree', 'No Schooling Completed', \"Associate's Degree\",\n",
       "       \"Bachelor's Degree\", 'Some College, Less than 1 Year',\n",
       "       'GED or Alternative Credential',\n",
       "       'Some College, 1 or More Years, No Degree',\n",
       "       '9th Grade to 12th Grade, No Diploma',\n",
       "       'Nursery School to 8th Grade', 'Professional School Degree'],\n",
       "      dtype=object)"
      ]
     },
     "execution_count": 42,
     "metadata": {},
     "output_type": "execute_result"
    }
   ],
   "source": [
    "df['Education'].unique()\n"
   ]
  },
  {
   "cell_type": "code",
   "execution_count": 43,
   "id": "a87247d8",
   "metadata": {},
   "outputs": [
    {
     "data": {
      "text/plain": [
       "array(['Part Time', 'Retired', 'Student', 'Full Time', 'Unemployed'],\n",
       "      dtype=object)"
      ]
     },
     "execution_count": 43,
     "metadata": {},
     "output_type": "execute_result"
    }
   ],
   "source": [
    " df['Employment'].unique()\n"
   ]
  },
  {
   "cell_type": "code",
   "execution_count": 44,
   "id": "349e72dc",
   "metadata": {},
   "outputs": [
    {
     "data": {
      "text/plain": [
       "array(['Widowed', 'Married', 'Separated', 'Never Married', 'Divorced'],\n",
       "      dtype=object)"
      ]
     },
     "execution_count": 44,
     "metadata": {},
     "output_type": "execute_result"
    }
   ],
   "source": [
    " df['Marital'].unique()"
   ]
  },
  {
   "cell_type": "code",
   "execution_count": 45,
   "id": "fe4297ff",
   "metadata": {},
   "outputs": [
    {
     "data": {
      "text/plain": [
       "array(['Male', 'Female', 'Prefer not to answer'], dtype=object)"
      ]
     },
     "execution_count": 45,
     "metadata": {},
     "output_type": "execute_result"
    }
   ],
   "source": [
    "df['Gender'].unique()\n"
   ]
  },
  {
   "cell_type": "code",
   "execution_count": 46,
   "id": "7f059668",
   "metadata": {},
   "outputs": [
    {
     "data": {
      "text/plain": [
       "array(['One year', 'Month-to-month', 'Two Year'], dtype=object)"
      ]
     },
     "execution_count": 46,
     "metadata": {},
     "output_type": "execute_result"
    }
   ],
   "source": [
    "df['Contract'].unique()\n"
   ]
  },
  {
   "cell_type": "code",
   "execution_count": 47,
   "id": "6c60cb07",
   "metadata": {},
   "outputs": [
    {
     "data": {
      "text/plain": [
       "array(['Credit Card (automatic)', 'Bank Transfer(automatic)',\n",
       "       'Mailed Check', 'Electronic Check'], dtype=object)"
      ]
     },
     "execution_count": 47,
     "metadata": {},
     "output_type": "execute_result"
    }
   ],
   "source": [
    " df['PaymentMethod'].unique()\n"
   ]
  },
  {
   "cell_type": "code",
   "execution_count": 48,
   "id": "bcc09ef5",
   "metadata": {},
   "outputs": [
    {
     "name": "stdout",
     "output_type": "stream",
     "text": [
      "Empty DataFrame\n",
      "Columns: [CaseOrder, Customer_id, Interaction, City, State, County, Zip, Lat, Lng, Population, Area, Timezone, Job, Children, Age, Education, Employment, Income, Marital, Gender, Churn, Outage_sec_perweek, Email, Contacts, Yearly_equip_failure, Techie, Contract, Port_modem, Tablet, InternetService, Phone, Multiple, OnlineSecurity, OnlineBackup, DeviceProtection, TechSupport, StreamingTV, StreamingMovies, PaperlessBilling, PaymentMethod, Tenure, MonthlyCharge, Bandwidth_GB_Year, Responses, Fixes, Replacements, Reliability, Options, Respectfulness, Courteous, Listening]\n",
      "Index: []\n",
      "\n",
      "[0 rows x 51 columns]\n"
     ]
    }
   ],
   "source": [
    "data_duplicates = df.loc[df.duplicated()]\n",
    "print(data_duplicates)"
   ]
  },
  {
   "cell_type": "code",
   "execution_count": 52,
   "id": "45749d99",
   "metadata": {},
   "outputs": [
    {
     "name": "stdout",
     "output_type": "stream",
     "text": [
      "Population              14432.698671\n",
      "Children                    2.154758\n",
      "Age                        20.753928\n",
      "Income                  28358.469482\n",
      "Outage_sec_perweek          7.025921\n",
      "Email                       3.025898\n",
      "Contacts                    0.988466\n",
      "Yearly_equip_failure        0.635953\n",
      "Tenure                     26.438904\n",
      "MonthlyCharge              43.335473\n",
      "Bandwidth_GB_Year        2187.396807\n",
      "Responses                   1.037797\n",
      "Fixes                       1.034641\n",
      "Replacements                1.027977\n",
      "Reliability                 1.025816\n",
      "Options                     1.024819\n",
      "Respectfulness              1.033586\n",
      "Courteous                   1.028502\n",
      "Listening                   1.028633\n",
      "dtype: float64\n"
     ]
    },
    {
     "name": "stderr",
     "output_type": "stream",
     "text": [
      "C:\\Users\\JoyO'halloran\\AppData\\Local\\Temp\\ipykernel_10344\\3900381963.py:1: FutureWarning: Dropping of nuisance columns in DataFrame reductions (with 'numeric_only=None') is deprecated; in a future version this will raise TypeError.  Select only valid columns before calling the reduction.\n",
      "  data_std = df_stats.std()\n"
     ]
    }
   ],
   "source": [
    "data_std = df_stats.std()\n",
    "print(data_std)\n"
   ]
  },
  {
   "cell_type": "code",
   "execution_count": 59,
   "id": "83588ce1",
   "metadata": {},
   "outputs": [
    {
     "name": "stdout",
     "output_type": "stream",
     "text": [
      "Customer_id                0\n",
      "Interaction                0\n",
      "City                       0\n",
      "State                      0\n",
      "County                     0\n",
      "Population                 0\n",
      "Area                       0\n",
      "Timezone                   0\n",
      "Job                        0\n",
      "Children                   0\n",
      "Age                        0\n",
      "Education                  0\n",
      "Employment                 0\n",
      "Income                     0\n",
      "Marital                    0\n",
      "Gender                     0\n",
      "Churn                      0\n",
      "Outage_sec_perweek         0\n",
      "Email                      0\n",
      "Contacts                   0\n",
      "Yearly_equip_failure       0\n",
      "Techie                  2477\n",
      "Contract                   0\n",
      "Port_modem                 0\n",
      "Tablet                     0\n",
      "InternetService            0\n",
      "Phone                   1026\n",
      "Multiple                   0\n",
      "OnlineSecurity             0\n",
      "OnlineBackup               0\n",
      "DeviceProtection           0\n",
      "TechSupport              991\n",
      "StreamingTV                0\n",
      "StreamingMovies            0\n",
      "PaperlessBilling           0\n",
      "PaymentMethod              0\n",
      "Tenure                     0\n",
      "MonthlyCharge              0\n",
      "Bandwidth_GB_Year       1021\n",
      "Responses                  0\n",
      "Fixes                      0\n",
      "Replacements               0\n",
      "Reliability                0\n",
      "Options                    0\n",
      "Respectfulness             0\n",
      "Courteous                  0\n",
      "Listening                  0\n",
      "dtype: int64\n"
     ]
    }
   ],
   "source": [
    "data_nulls = df_stats.isnull().sum()\n",
    "print(data_nulls)"
   ]
  },
  {
   "cell_type": "code",
   "execution_count": 61,
   "id": "aa253c82",
   "metadata": {},
   "outputs": [],
   "source": [
    "df_stats['Children'] = df['Children'].fillna(df['Children'].median())"
   ]
  },
  {
   "cell_type": "code",
   "execution_count": 62,
   "id": "602bd832",
   "metadata": {},
   "outputs": [],
   "source": [
    "df_stats['Age'] = df['Age'].fillna(df['Age'].median())\n"
   ]
  },
  {
   "cell_type": "code",
   "execution_count": 63,
   "id": "3271facf",
   "metadata": {},
   "outputs": [],
   "source": [
    "df_stats['Income'] = df['Income'].fillna(df['Income'].median())\n"
   ]
  },
  {
   "cell_type": "code",
   "execution_count": 64,
   "id": "cdd1530b",
   "metadata": {},
   "outputs": [],
   "source": [
    "df_stats['Tenure'] = df['Tenure'].fillna(df['Tenure'].median())"
   ]
  },
  {
   "cell_type": "code",
   "execution_count": 66,
   "id": "5f396582",
   "metadata": {},
   "outputs": [],
   "source": [
    "df_stats['Bandwidth_GB_Year'] = df['Bandwidth_GB_Year'].fillna(df['Bandwidth_GB_Year'].median())"
   ]
  },
  {
   "cell_type": "code",
   "execution_count": 67,
   "id": "6830ac2c",
   "metadata": {},
   "outputs": [
    {
     "name": "stdout",
     "output_type": "stream",
     "text": [
      "Customer_id                0\n",
      "Interaction                0\n",
      "City                       0\n",
      "State                      0\n",
      "County                     0\n",
      "Population                 0\n",
      "Area                       0\n",
      "Timezone                   0\n",
      "Job                        0\n",
      "Children                   0\n",
      "Age                        0\n",
      "Education                  0\n",
      "Employment                 0\n",
      "Income                     0\n",
      "Marital                    0\n",
      "Gender                     0\n",
      "Churn                      0\n",
      "Outage_sec_perweek         0\n",
      "Email                      0\n",
      "Contacts                   0\n",
      "Yearly_equip_failure       0\n",
      "Techie                  2477\n",
      "Contract                   0\n",
      "Port_modem                 0\n",
      "Tablet                     0\n",
      "InternetService            0\n",
      "Phone                   1026\n",
      "Multiple                   0\n",
      "OnlineSecurity             0\n",
      "OnlineBackup               0\n",
      "DeviceProtection           0\n",
      "TechSupport              991\n",
      "StreamingTV                0\n",
      "StreamingMovies            0\n",
      "PaperlessBilling           0\n",
      "PaymentMethod              0\n",
      "Tenure                     0\n",
      "MonthlyCharge              0\n",
      "Bandwidth_GB_Year          0\n",
      "Responses                  0\n",
      "Fixes                      0\n",
      "Replacements               0\n",
      "Reliability                0\n",
      "Options                    0\n",
      "Respectfulness             0\n",
      "Courteous                  0\n",
      "Listening                  0\n",
      "dtype: int64\n"
     ]
    }
   ],
   "source": [
    "data_nulls = df_stats.isnull().sum()\n",
    "print(data_nulls)"
   ]
  },
  {
   "cell_type": "code",
   "execution_count": 70,
   "id": "aca4cb80",
   "metadata": {},
   "outputs": [
    {
     "data": {
      "image/png": "[encoded data removed]",
      "text/plain": [
       "<Figure size 640x480 with 6 Axes>"
      ]
     },
     "metadata": {},
     "output_type": "display_data"
    }
   ],
   "source": [
    "df_stats[['Children', 'Age', 'Income', 'Tenure', 'MonthlyCharge', 'Bandwidth_GB_Year']].hist()\n",
    "plt.savefig('churn_pyplot.jpg')\n",
    "plt.tight_layout()"
   ]
  },
  {
   "cell_type": "code",
   "execution_count": 71,
   "id": "58efb29b",
   "metadata": {},
   "outputs": [
    {
     "data": {
      "image/png": "[encoded data removed]",
      "text/plain": [
       "<Figure size 640x480 with 1 Axes>"
      ]
     },
     "metadata": {},
     "output_type": "display_data"
    }
   ],
   "source": [
    "df_stats.boxplot(['Tenure', 'MonthlyCharge', 'Bandwidth_GB_Year'])\n",
    "plt.savefig('churn_boxplots.jpg')\n"
   ]
  },
  {
   "cell_type": "code",
   "execution_count": 72,
   "id": "5a2d3947",
   "metadata": {},
   "outputs": [
    {
     "data": {
      "text/plain": [
       "<AxesSubplot:>"
      ]
     },
     "execution_count": 72,
     "metadata": {},
     "output_type": "execute_result"
    },
    {
     "data": {
      "image/png": "[encoded data removed]",
      "text/plain": [
       "<Figure size 640x480 with 1 Axes>"
      ]
     },
     "metadata": {},
     "output_type": "display_data"
    }
   ],
   "source": [
    "df_stats.boxplot(['MonthlyCharge'])"
   ]
  },
  {
   "cell_type": "code",
   "execution_count": 73,
   "id": "284ab41e",
   "metadata": {},
   "outputs": [
    {
     "name": "stderr",
     "output_type": "stream",
     "text": [
      "C:\\ProgramData\\Anaconda3\\lib\\site-packages\\seaborn\\_decorators.py:36: FutureWarning: Pass the following variable as a keyword arg: x. From version 0.12, the only valid positional argument will be `data`, and passing other arguments without an explicit keyword will result in an error or misinterpretation.\n",
      "  warnings.warn(\n"
     ]
    },
    {
     "data": {
      "image/png": "[encoded data removed]",
      "text/plain": [
       "<Figure size 640x480 with 1 Axes>"
      ]
     },
     "metadata": {},
     "output_type": "display_data"
    }
   ],
   "source": [
    "sns.boxplot('MonthlyCharge', data = df_stats)\n",
    "plt.show()"
   ]
  },
  {
   "cell_type": "code",
   "execution_count": 76,
   "id": "d8031a5a",
   "metadata": {},
   "outputs": [],
   "source": [
    "df_stats.to_csv('churn_raw_data.csv')\n"
   ]
  },
  {
   "cell_type": "code",
   "execution_count": 77,
   "id": "2372e080",
   "metadata": {},
   "outputs": [],
   "source": [
    "churn_user = pd.read_csv('churn_clean.csv')"
   ]
  },
  {
   "cell_type": "code",
   "execution_count": 78,
   "id": "de5c0798",
   "metadata": {},
   "outputs": [],
   "source": [
    "df_stats.to_csv('churn_clean.csv')\n"
   ]
  },
  {
   "cell_type": "code",
   "execution_count": 79,
   "id": "f87e6806",
   "metadata": {},
   "outputs": [
    {
     "data": {
      "text/html": [
       "<div>\n",
       "<style scoped>\n",
       "    .dataframe tbody tr th:only-of-type {\n",
       "        vertical-align: middle;\n",
       "    }\n",
       "\n",
       "    .dataframe tbody tr th {\n",
       "        vertical-align: top;\n",
       "    }\n",
       "\n",
       "    .dataframe thead th {\n",
       "        text-align: right;\n",
       "    }\n",
       "</style>\n",
       "<table border=\"1\" class=\"dataframe\">\n",
       "  <thead>\n",
       "    <tr style=\"text-align: right;\">\n",
       "      <th></th>\n",
       "      <th>Tenure</th>\n",
       "      <th>MonthlyCharge</th>\n",
       "      <th>Bandwidth_GB_Year</th>\n",
       "      <th>Responses</th>\n",
       "      <th>Fixes</th>\n",
       "      <th>Replacements</th>\n",
       "      <th>Reliability</th>\n",
       "      <th>Options</th>\n",
       "      <th>Respectfulness</th>\n",
       "      <th>Courteous</th>\n",
       "      <th>Listening</th>\n",
       "    </tr>\n",
       "  </thead>\n",
       "  <tbody>\n",
       "    <tr>\n",
       "      <th>0</th>\n",
       "      <td>6.795513</td>\n",
       "      <td>171.449762</td>\n",
       "      <td>904.536110</td>\n",
       "      <td>5</td>\n",
       "      <td>5</td>\n",
       "      <td>5</td>\n",
       "      <td>3</td>\n",
       "      <td>4</td>\n",
       "      <td>4</td>\n",
       "      <td>3</td>\n",
       "      <td>4</td>\n",
       "    </tr>\n",
       "    <tr>\n",
       "      <th>1</th>\n",
       "      <td>1.156681</td>\n",
       "      <td>242.948015</td>\n",
       "      <td>800.982766</td>\n",
       "      <td>3</td>\n",
       "      <td>4</td>\n",
       "      <td>3</td>\n",
       "      <td>3</td>\n",
       "      <td>4</td>\n",
       "      <td>3</td>\n",
       "      <td>4</td>\n",
       "      <td>4</td>\n",
       "    </tr>\n",
       "    <tr>\n",
       "      <th>2</th>\n",
       "      <td>15.754144</td>\n",
       "      <td>159.440398</td>\n",
       "      <td>2054.706961</td>\n",
       "      <td>4</td>\n",
       "      <td>4</td>\n",
       "      <td>2</td>\n",
       "      <td>4</td>\n",
       "      <td>4</td>\n",
       "      <td>3</td>\n",
       "      <td>3</td>\n",
       "      <td>3</td>\n",
       "    </tr>\n",
       "    <tr>\n",
       "      <th>3</th>\n",
       "      <td>17.087227</td>\n",
       "      <td>120.249493</td>\n",
       "      <td>2164.579412</td>\n",
       "      <td>4</td>\n",
       "      <td>4</td>\n",
       "      <td>4</td>\n",
       "      <td>2</td>\n",
       "      <td>5</td>\n",
       "      <td>4</td>\n",
       "      <td>3</td>\n",
       "      <td>3</td>\n",
       "    </tr>\n",
       "    <tr>\n",
       "      <th>4</th>\n",
       "      <td>1.670972</td>\n",
       "      <td>150.761216</td>\n",
       "      <td>271.493436</td>\n",
       "      <td>4</td>\n",
       "      <td>4</td>\n",
       "      <td>4</td>\n",
       "      <td>3</td>\n",
       "      <td>4</td>\n",
       "      <td>4</td>\n",
       "      <td>4</td>\n",
       "      <td>5</td>\n",
       "    </tr>\n",
       "  </tbody>\n",
       "</table>\n",
       "</div>"
      ],
      "text/plain": [
       "      Tenure  MonthlyCharge  Bandwidth_GB_Year  Responses  Fixes  \\\n",
       "0   6.795513     171.449762         904.536110          5      5   \n",
       "1   1.156681     242.948015         800.982766          3      4   \n",
       "2  15.754144     159.440398        2054.706961          4      4   \n",
       "3  17.087227     120.249493        2164.579412          4      4   \n",
       "4   1.670972     150.761216         271.493436          4      4   \n",
       "\n",
       "   Replacements  Reliability  Options  Respectfulness  Courteous  Listening  \n",
       "0             5            3        4               4          3          4  \n",
       "1             3            3        4               3          4          4  \n",
       "2             2            4        4               3          3          3  \n",
       "3             4            2        5               4          3          3  \n",
       "4             4            3        4               4          4          5  "
      ]
     },
     "execution_count": 79,
     "metadata": {},
     "output_type": "execute_result"
    }
   ],
   "source": [
    "data = churn_user.loc[:, 'Tenure':'Listening']\n",
    "data.head()\n"
   ]
  },
  {
   "cell_type": "code",
   "execution_count": 80,
   "id": "460adf61",
   "metadata": {},
   "outputs": [],
   "source": [
    "from sklearn.decomposition import PCA\n"
   ]
  },
  {
   "cell_type": "code",
   "execution_count": 81,
   "id": "a01cf1f6",
   "metadata": {},
   "outputs": [],
   "source": [
    "churn_normalized = (data - data.mean()) / data.std()"
   ]
  },
  {
   "cell_type": "code",
   "execution_count": 82,
   "id": "821262bf",
   "metadata": {},
   "outputs": [],
   "source": [
    "pca = PCA(n_components = data.shape[1])\n"
   ]
  },
  {
   "cell_type": "code",
   "execution_count": 85,
   "id": "adcd70ac",
   "metadata": {},
   "outputs": [],
   "source": [
    "churn_numeric = data[['Tenure', 'MonthlyCharge', 'Bandwidth_GB_Year','Responses',\n",
    "'Fixes', 'Replacements', 'Reliability', 'Options',\n",
    "'Respectfulness', 'Courteous', 'Listening']]"
   ]
  },
  {
   "cell_type": "code",
   "execution_count": 86,
   "id": "18928c30",
   "metadata": {},
   "outputs": [],
   "source": [
    "pcs_names = []"
   ]
  },
  {
   "cell_type": "code",
   "execution_count": 88,
   "id": "07d9d97e",
   "metadata": {},
   "outputs": [
    {
     "name": "stdout",
     "output_type": "stream",
     "text": [
      "['PC1', 'PC2', 'PC3', 'PC4', 'PC5', 'PC6', 'PC7', 'PC8', 'PC9', 'PC10', 'PC11']\n"
     ]
    }
   ],
   "source": [
    "for i, col in enumerate(churn_numeric.columns):\n",
    "\n",
    "    pcs_names.append('PC' + str(i + 1))\n",
    "print(pcs_names)"
   ]
  },
  {
   "cell_type": "code",
   "execution_count": 89,
   "id": "20ee5958",
   "metadata": {},
   "outputs": [],
   "source": [
    "pca.fit(churn_normalized)\n",
    "churn_pca = pd.DataFrame(pca.transform(churn_normalized),\n",
    "columns = pcs_names)"
   ]
  },
  {
   "cell_type": "code",
   "execution_count": 90,
   "id": "7beebca4",
   "metadata": {},
   "outputs": [],
   "source": [
    "import matplotlib.pyplot as plt\n",
    "import seaborn as sns"
   ]
  },
  {
   "cell_type": "code",
   "execution_count": 91,
   "id": "b60f74d6",
   "metadata": {},
   "outputs": [
    {
     "data": {
      "image/png": "[encoded data removed]",
      "text/plain": [
       "<Figure size 640x480 with 1 Axes>"
      ]
     },
     "metadata": {},
     "output_type": "display_data"
    }
   ],
   "source": [
    "plt.plot(pca.explained_variance_ratio_)\n",
    "plt.xlabel('Number of Components')\n",
    "plt.ylabel('Explained Variance')\n",
    "plt.show();\n"
   ]
  },
  {
   "cell_type": "code",
   "execution_count": 93,
   "id": "681f96eb",
   "metadata": {},
   "outputs": [],
   "source": [
    "cov_matrix = np.dot(churn_normalized.T, churn_normalized) / data.shape[0]\n",
    "eigenvalues = [np.dot(eigenvector.T, np.dot(cov_matrix, eigenvector)) for eigenvector in pca.components_]"
   ]
  },
  {
   "cell_type": "code",
   "execution_count": 94,
   "id": "24baf503",
   "metadata": {},
   "outputs": [
    {
     "data": {
      "image/png": "[encoded data removed]",
      "text/plain": [
       "<Figure size 640x480 with 1 Axes>"
      ]
     },
     "metadata": {},
     "output_type": "display_data"
    }
   ],
   "source": [
    "plt.plot(eigenvalues)\n",
    "plt.xlabel('Number of Components')\n",
    "plt.ylabel('Eigenvalue')\n",
    "plt.show();\n"
   ]
  },
  {
   "cell_type": "code",
   "execution_count": 98,
   "id": "eefe7531",
   "metadata": {},
   "outputs": [
    {
     "name": "stdout",
     "output_type": "stream",
     "text": [
      "PC1 0.2679266062396306\n",
      "PC2 0.44053732880229357\n",
      "PC3 0.5891444522248597\n",
      "PC4 0.6801579842425086\n",
      "PC5 0.7513217054372501\n",
      "PC6 0.814311709410132\n",
      "PC7 0.8681970531672318\n",
      "PC8 0.917138736258883\n",
      "PC9 0.9610122820002187\n",
      "PC10 0.9905736363144831\n",
      "PC11 1.0\n"
     ]
    }
   ],
   "source": [
    "for pc, var in zip(pcs_names, np.cumsum(pca.explained_variance_ratio_)):\n",
    "    print(pc, var)\n"
   ]
  },
  {
   "cell_type": "code",
   "execution_count": 99,
   "id": "895aae5e",
   "metadata": {},
   "outputs": [
    {
     "name": "stdout",
     "output_type": "stream",
     "text": [
      "                        PC1       PC2       PC3       PC4       PC5       PC6  \\\n",
      "Tenure            -0.010403  0.701838 -0.072209 -0.063594  0.005683 -0.011155   \n",
      "MonthlyCharge      0.000317  0.041147 -0.014151  0.996995 -0.022136  0.015231   \n",
      "Bandwidth_GB_Year -0.012166  0.703079 -0.074222  0.004399  0.009590  0.003466   \n",
      "Responses          0.458932  0.031325  0.281154  0.018568 -0.070233 -0.119149   \n",
      "Fixes              0.434134  0.042559  0.282404  0.007508 -0.106632 -0.169752   \n",
      "Replacements       0.400639  0.034665  0.281118 -0.019631 -0.173742 -0.255336   \n",
      "Reliability        0.145799 -0.050367 -0.567815 -0.010310 -0.171334 -0.483328   \n",
      "Options           -0.175633  0.066334  0.587335 -0.000047  0.135949  0.060124   \n",
      "Respectfulness     0.405207 -0.012680 -0.183447  0.004596 -0.062342  0.064609   \n",
      "Courteous          0.358342 -0.003886 -0.181697 -0.027959 -0.182406  0.806166   \n",
      "Listening          0.308925 -0.017396 -0.131173  0.015574  0.931612 -0.011133   \n",
      "\n",
      "                        PC7       PC8       PC9      PC10      PC11  \n",
      "Tenure             0.007419 -0.011527  0.006935  0.003286 -0.705445  \n",
      "MonthlyCharge     -0.018038 -0.004316  0.023690 -0.013785 -0.047865  \n",
      "Bandwidth_GB_Year  0.003701 -0.002364 -0.008068  0.008529  0.706925  \n",
      "Responses         -0.045963  0.025431 -0.240574  0.793237 -0.004306  \n",
      "Fixes             -0.065414  0.074400 -0.592131 -0.573832 -0.002217  \n",
      "Replacements      -0.146887 -0.396333  0.673088 -0.177665  0.014933  \n",
      "Reliability       -0.443353  0.431528  0.087207  0.018301  0.002283  \n",
      "Options           -0.209767  0.693861  0.265474 -0.042012 -0.002514  \n",
      "Respectfulness     0.757954  0.402835  0.230319 -0.063972  0.001604  \n",
      "Courteous         -0.379136  0.067889  0.067293 -0.040946 -0.006875  \n",
      "Listening         -0.113297 -0.045132  0.046107 -0.042251 -0.002357  \n"
     ]
    }
   ],
   "source": [
    "rotation = pd.DataFrame(pca.components_.T, columns = pcs_names, index =\n",
    "churn_numeric.columns)\n",
    "print(rotation)"
   ]
  },
  {
   "cell_type": "code",
   "execution_count": 100,
   "id": "c60c210c",
   "metadata": {},
   "outputs": [
    {
     "data": {
      "text/html": [
       "<div>\n",
       "<style scoped>\n",
       "    .dataframe tbody tr th:only-of-type {\n",
       "        vertical-align: middle;\n",
       "    }\n",
       "\n",
       "    .dataframe tbody tr th {\n",
       "        vertical-align: top;\n",
       "    }\n",
       "\n",
       "    .dataframe thead th {\n",
       "        text-align: right;\n",
       "    }\n",
       "</style>\n",
       "<table border=\"1\" class=\"dataframe\">\n",
       "  <thead>\n",
       "    <tr style=\"text-align: right;\">\n",
       "      <th></th>\n",
       "      <th>PC1</th>\n",
       "      <th>PC2</th>\n",
       "      <th>PC3</th>\n",
       "      <th>PC4</th>\n",
       "      <th>PC5</th>\n",
       "      <th>PC6</th>\n",
       "      <th>PC7</th>\n",
       "      <th>PC8</th>\n",
       "      <th>PC9</th>\n",
       "      <th>PC10</th>\n",
       "      <th>PC11</th>\n",
       "    </tr>\n",
       "  </thead>\n",
       "  <tbody>\n",
       "    <tr>\n",
       "      <th>Tenure</th>\n",
       "      <td>-0.010403</td>\n",
       "      <td>0.701838</td>\n",
       "      <td>-0.072209</td>\n",
       "      <td>-0.063594</td>\n",
       "      <td>0.005683</td>\n",
       "      <td>-0.011155</td>\n",
       "      <td>0.007419</td>\n",
       "      <td>-0.011527</td>\n",
       "      <td>0.006935</td>\n",
       "      <td>0.003286</td>\n",
       "      <td>-0.705445</td>\n",
       "    </tr>\n",
       "    <tr>\n",
       "      <th>MonthlyCharge</th>\n",
       "      <td>0.000317</td>\n",
       "      <td>0.041147</td>\n",
       "      <td>-0.014151</td>\n",
       "      <td>0.996995</td>\n",
       "      <td>-0.022136</td>\n",
       "      <td>0.015231</td>\n",
       "      <td>-0.018038</td>\n",
       "      <td>-0.004316</td>\n",
       "      <td>0.023690</td>\n",
       "      <td>-0.013785</td>\n",
       "      <td>-0.047865</td>\n",
       "    </tr>\n",
       "    <tr>\n",
       "      <th>Bandwidth_GB_Year</th>\n",
       "      <td>-0.012166</td>\n",
       "      <td>0.703079</td>\n",
       "      <td>-0.074222</td>\n",
       "      <td>0.004399</td>\n",
       "      <td>0.009590</td>\n",
       "      <td>0.003466</td>\n",
       "      <td>0.003701</td>\n",
       "      <td>-0.002364</td>\n",
       "      <td>-0.008068</td>\n",
       "      <td>0.008529</td>\n",
       "      <td>0.706925</td>\n",
       "    </tr>\n",
       "    <tr>\n",
       "      <th>Responses</th>\n",
       "      <td>0.458932</td>\n",
       "      <td>0.031325</td>\n",
       "      <td>0.281154</td>\n",
       "      <td>0.018568</td>\n",
       "      <td>-0.070233</td>\n",
       "      <td>-0.119149</td>\n",
       "      <td>-0.045963</td>\n",
       "      <td>0.025431</td>\n",
       "      <td>-0.240574</td>\n",
       "      <td>0.793237</td>\n",
       "      <td>-0.004306</td>\n",
       "    </tr>\n",
       "    <tr>\n",
       "      <th>Fixes</th>\n",
       "      <td>0.434134</td>\n",
       "      <td>0.042559</td>\n",
       "      <td>0.282404</td>\n",
       "      <td>0.007508</td>\n",
       "      <td>-0.106632</td>\n",
       "      <td>-0.169752</td>\n",
       "      <td>-0.065414</td>\n",
       "      <td>0.074400</td>\n",
       "      <td>-0.592131</td>\n",
       "      <td>-0.573832</td>\n",
       "      <td>-0.002217</td>\n",
       "    </tr>\n",
       "    <tr>\n",
       "      <th>Replacements</th>\n",
       "      <td>0.400639</td>\n",
       "      <td>0.034665</td>\n",
       "      <td>0.281118</td>\n",
       "      <td>-0.019631</td>\n",
       "      <td>-0.173742</td>\n",
       "      <td>-0.255336</td>\n",
       "      <td>-0.146887</td>\n",
       "      <td>-0.396333</td>\n",
       "      <td>0.673088</td>\n",
       "      <td>-0.177665</td>\n",
       "      <td>0.014933</td>\n",
       "    </tr>\n",
       "    <tr>\n",
       "      <th>Reliability</th>\n",
       "      <td>0.145799</td>\n",
       "      <td>-0.050367</td>\n",
       "      <td>-0.567815</td>\n",
       "      <td>-0.010310</td>\n",
       "      <td>-0.171334</td>\n",
       "      <td>-0.483328</td>\n",
       "      <td>-0.443353</td>\n",
       "      <td>0.431528</td>\n",
       "      <td>0.087207</td>\n",
       "      <td>0.018301</td>\n",
       "      <td>0.002283</td>\n",
       "    </tr>\n",
       "    <tr>\n",
       "      <th>Options</th>\n",
       "      <td>-0.175633</td>\n",
       "      <td>0.066334</td>\n",
       "      <td>0.587335</td>\n",
       "      <td>-0.000047</td>\n",
       "      <td>0.135949</td>\n",
       "      <td>0.060124</td>\n",
       "      <td>-0.209767</td>\n",
       "      <td>0.693861</td>\n",
       "      <td>0.265474</td>\n",
       "      <td>-0.042012</td>\n",
       "      <td>-0.002514</td>\n",
       "    </tr>\n",
       "    <tr>\n",
       "      <th>Respectfulness</th>\n",
       "      <td>0.405207</td>\n",
       "      <td>-0.012680</td>\n",
       "      <td>-0.183447</td>\n",
       "      <td>0.004596</td>\n",
       "      <td>-0.062342</td>\n",
       "      <td>0.064609</td>\n",
       "      <td>0.757954</td>\n",
       "      <td>0.402835</td>\n",
       "      <td>0.230319</td>\n",
       "      <td>-0.063972</td>\n",
       "      <td>0.001604</td>\n",
       "    </tr>\n",
       "    <tr>\n",
       "      <th>Courteous</th>\n",
       "      <td>0.358342</td>\n",
       "      <td>-0.003886</td>\n",
       "      <td>-0.181697</td>\n",
       "      <td>-0.027959</td>\n",
       "      <td>-0.182406</td>\n",
       "      <td>0.806166</td>\n",
       "      <td>-0.379136</td>\n",
       "      <td>0.067889</td>\n",
       "      <td>0.067293</td>\n",
       "      <td>-0.040946</td>\n",
       "      <td>-0.006875</td>\n",
       "    </tr>\n",
       "    <tr>\n",
       "      <th>Listening</th>\n",
       "      <td>0.308925</td>\n",
       "      <td>-0.017396</td>\n",
       "      <td>-0.131173</td>\n",
       "      <td>0.015574</td>\n",
       "      <td>0.931612</td>\n",
       "      <td>-0.011133</td>\n",
       "      <td>-0.113297</td>\n",
       "      <td>-0.045132</td>\n",
       "      <td>0.046107</td>\n",
       "      <td>-0.042251</td>\n",
       "      <td>-0.002357</td>\n",
       "    </tr>\n",
       "  </tbody>\n",
       "</table>\n",
       "</div>"
      ],
      "text/plain": [
       "                        PC1       PC2       PC3       PC4       PC5       PC6  \\\n",
       "Tenure            -0.010403  0.701838 -0.072209 -0.063594  0.005683 -0.011155   \n",
       "MonthlyCharge      0.000317  0.041147 -0.014151  0.996995 -0.022136  0.015231   \n",
       "Bandwidth_GB_Year -0.012166  0.703079 -0.074222  0.004399  0.009590  0.003466   \n",
       "Responses          0.458932  0.031325  0.281154  0.018568 -0.070233 -0.119149   \n",
       "Fixes              0.434134  0.042559  0.282404  0.007508 -0.106632 -0.169752   \n",
       "Replacements       0.400639  0.034665  0.281118 -0.019631 -0.173742 -0.255336   \n",
       "Reliability        0.145799 -0.050367 -0.567815 -0.010310 -0.171334 -0.483328   \n",
       "Options           -0.175633  0.066334  0.587335 -0.000047  0.135949  0.060124   \n",
       "Respectfulness     0.405207 -0.012680 -0.183447  0.004596 -0.062342  0.064609   \n",
       "Courteous          0.358342 -0.003886 -0.181697 -0.027959 -0.182406  0.806166   \n",
       "Listening          0.308925 -0.017396 -0.131173  0.015574  0.931612 -0.011133   \n",
       "\n",
       "                        PC7       PC8       PC9      PC10      PC11  \n",
       "Tenure             0.007419 -0.011527  0.006935  0.003286 -0.705445  \n",
       "MonthlyCharge     -0.018038 -0.004316  0.023690 -0.013785 -0.047865  \n",
       "Bandwidth_GB_Year  0.003701 -0.002364 -0.008068  0.008529  0.706925  \n",
       "Responses         -0.045963  0.025431 -0.240574  0.793237 -0.004306  \n",
       "Fixes             -0.065414  0.074400 -0.592131 -0.573832 -0.002217  \n",
       "Replacements      -0.146887 -0.396333  0.673088 -0.177665  0.014933  \n",
       "Reliability       -0.443353  0.431528  0.087207  0.018301  0.002283  \n",
       "Options           -0.209767  0.693861  0.265474 -0.042012 -0.002514  \n",
       "Respectfulness     0.757954  0.402835  0.230319 -0.063972  0.001604  \n",
       "Courteous         -0.379136  0.067889  0.067293 -0.040946 -0.006875  \n",
       "Listening         -0.113297 -0.045132  0.046107 -0.042251 -0.002357  "
      ]
     },
     "execution_count": 100,
     "metadata": {},
     "output_type": "execute_result"
    }
   ],
   "source": [
    "loadings = pd.DataFrame(pca.components_.T,\n",
    "                        columns = pcs_names,\n",
    "index = data.columns)\n",
    "loadings "
   ]
  },
  {
   "cell_type": "code",
   "execution_count": 101,
   "id": "2922699c",
   "metadata": {},
   "outputs": [
    {
     "name": "stdout",
     "output_type": "stream",
     "text": [
      "           PC1       PC2       PC3\n",
      "0     1.923875 -1.421955  1.903125\n",
      "1    -0.199798 -1.706801  0.538766\n",
      "2    -0.667923 -0.985940  0.227390\n",
      "3     0.046465 -0.730628  2.282040\n",
      "4     1.326741 -1.924880  0.825729\n",
      "...        ...       ...       ...\n",
      "9995 -2.097964  1.961837  0.104147\n",
      "9996  1.917485  1.645946  0.611009\n",
      "9997  1.431918  0.323573  0.028288\n",
      "9998  2.011460  2.187756 -0.079864\n",
      "9999 -2.266364  1.591986 -0.819973\n",
      "\n",
      "[10000 rows x 3 columns]\n"
     ]
    }
   ],
   "source": [
    "churn_reduced = churn_pca.iloc[ : , 0:3]\n",
    "print(churn_reduced)\n"
   ]
  },
  {
   "cell_type": "code",
   "execution_count": 113,
   "id": "14414e94",
   "metadata": {},
   "outputs": [],
   "source": [
    "df.to_csv('cleaned.csv')"
   ]
  },
  {
   "cell_type": "code",
   "execution_count": 114,
   "id": "a84b25b3",
   "metadata": {},
   "outputs": [
    {
     "data": {
      "text/plain": [
       "<bound method NDFrame.to_excel of       CaseOrder Customer_id                           Interaction  \\\n",
       "0             1     K409198  aa90260b-4141-4a24-8e36-b04ce1f4f77b   \n",
       "1             2     S120509  fb76459f-c047-4a9d-8af9-e0f7d4ac2524   \n",
       "2             3     K191035  344d114c-3736-4be5-98f7-c72c281e2d35   \n",
       "3             4      D90850  abfa2b40-2d43-4994-b15a-989b8c79e311   \n",
       "4             5     K662701  68a861fd-0d20-4e51-a587-8a90407ee574   \n",
       "...         ...         ...                                   ...   \n",
       "9995       9996     M324793  45deb5a2-ae04-4518-bf0b-c82db8dbe4a4   \n",
       "9996       9997     D861732  6e96b921-0c09-4993-bbda-a1ac6411061a   \n",
       "9997       9998     I243405  e8307ddf-9a01-4fff-bc59-4742e03fd24f   \n",
       "9998       9999     I641617  3775ccfc-0052-4107-81ae-9657f81ecdf3   \n",
       "9999      10000      T38070  9de5fb6e-bd33-4995-aec8-f01d0172a499   \n",
       "\n",
       "              City State                 County    Zip       Lat        Lng  \\\n",
       "0      Point Baker    AK  Prince of Wales-Hyder  99927  56.25100 -133.37571   \n",
       "1      West Branch    MI                 Ogemaw  48661  44.32893  -84.24080   \n",
       "2          Yamhill    OR                Yamhill  97148  45.35589 -123.24657   \n",
       "3          Del Mar    CA              San Diego  92014  32.96687 -117.24798   \n",
       "4        Needville    TX              Fort Bend  77461  29.38012  -95.80673   \n",
       "...            ...   ...                    ...    ...       ...        ...   \n",
       "9995   Mount Holly    VT                Rutland   5758  43.43391  -72.78734   \n",
       "9996   Clarksville    TN             Montgomery  37042  36.56907  -87.41694   \n",
       "9997      Mobeetie    TX                Wheeler  79061  35.52039 -100.44180   \n",
       "9998    Carrollton    GA                Carroll  30117  33.58016  -85.13241   \n",
       "9999  Clarkesville    GA              Habersham  30523  34.70783  -83.53648   \n",
       "\n",
       "      Population  ... MonthlyCharge Bandwidth_GB_Year Responses  Fixes  \\\n",
       "0             38  ...    171.449762        904.536110         5      5   \n",
       "1          10446  ...    242.948015        800.982766         3      4   \n",
       "2           3735  ...    159.440398       2054.706961         4      4   \n",
       "3          13863  ...    120.249493       2164.579412         4      4   \n",
       "4          11352  ...    150.761216        271.493436         4      4   \n",
       "...          ...  ...           ...               ...       ...    ...   \n",
       "9995         640  ...    159.828800       6511.253000         3      2   \n",
       "9996       77168  ...    208.856400       5695.952000         4      5   \n",
       "9997         406  ...    168.220900       4159.306000         4      4   \n",
       "9998       35575  ...    252.628600       6468.457000         4      4   \n",
       "9999       12230  ...    218.371000       5857.586000         2      2   \n",
       "\n",
       "      Replacements Reliability Options  Respectfulness Courteous Listening  \n",
       "0                5           3       4               4         3         4  \n",
       "1                3           3       4               3         4         4  \n",
       "2                2           4       4               3         3         3  \n",
       "3                4           2       5               4         3         3  \n",
       "4                4           3       4               4         4         5  \n",
       "...            ...         ...     ...             ...       ...       ...  \n",
       "9995             3           3       4               3         2         3  \n",
       "9996             5           4       4               5         2         5  \n",
       "9997             4           4       4               4         4         5  \n",
       "9998             6           4       3               3         5         4  \n",
       "9999             3           3       3               3         4         1  \n",
       "\n",
       "[10000 rows x 51 columns]>"
      ]
     },
     "execution_count": 114,
     "metadata": {},
     "output_type": "execute_result"
    }
   ],
   "source": [
    "df.to_excel\n"
   ]
  },
  {
   "cell_type": "code",
   "execution_count": 120,
   "id": "1305621b",
   "metadata": {},
   "outputs": [],
   "source": [
    "import pandas as pd \n",
    "\n"
   ]
  },
  {
   "cell_type": "code",
   "execution_count": 123,
   "id": "0f06b05d",
   "metadata": {},
   "outputs": [],
   "source": [
    "df = pd.read_csv"
   ]
  },
  {
   "cell_type": "code",
   "execution_count": 130,
   "id": "67324491",
   "metadata": {},
   "outputs": [
    {
     "data": {
      "text/plain": [
       "<function pandas.io.parsers.readers.read_csv(filepath_or_buffer: 'FilePath | ReadCsvBuffer[bytes] | ReadCsvBuffer[str]', sep=<no_default>, delimiter=None, header='infer', names=<no_default>, index_col=None, usecols=None, squeeze=None, prefix=<no_default>, mangle_dupe_cols=True, dtype: 'DtypeArg | None' = None, engine: 'CSVEngine | None' = None, converters=None, true_values=None, false_values=None, skipinitialspace=False, skiprows=None, skipfooter=0, nrows=None, na_values=None, keep_default_na=True, na_filter=True, verbose=False, skip_blank_lines=True, parse_dates=None, infer_datetime_format=False, keep_date_col=False, date_parser=None, dayfirst=False, cache_dates=True, iterator=False, chunksize=None, compression: 'CompressionOptions' = 'infer', thousands=None, decimal: 'str' = '.', lineterminator=None, quotechar='\"', quoting=0, doublequote=True, escapechar=None, comment=None, encoding=None, encoding_errors: 'str | None' = 'strict', dialect=None, error_bad_lines=None, warn_bad_lines=None, on_bad_lines=None, delim_whitespace=False, low_memory=True, memory_map=False, float_precision=None, storage_options: 'StorageOptions' = None)>"
      ]
     },
     "execution_count": 130,
     "metadata": {},
     "output_type": "execute_result"
    }
   ],
   "source": [
    "pd.read_csv"
   ]
  },
  {
   "cell_type": "code",
   "execution_count": 2,
   "id": "dcf16899",
   "metadata": {},
   "outputs": [],
   "source": [
    "# Starting new evaluation attempt\n"
   ]
  },
  {
   "cell_type": "code",
   "execution_count": 4,
   "id": "c887552c",
   "metadata": {},
   "outputs": [],
   "source": [
    "import pandas as pd\n"
   ]
  },
  {
   "cell_type": "code",
   "execution_count": 5,
   "id": "3777c262",
   "metadata": {},
   "outputs": [],
   "source": [
    "from sklearn.preprocessing import scale"
   ]
  },
  {
   "cell_type": "code",
   "execution_count": 6,
   "id": "76389cd6",
   "metadata": {},
   "outputs": [],
   "source": [
    "from sklearn.decomposition import PCA"
   ]
  },
  {
   "cell_type": "code",
   "execution_count": 7,
   "id": "55882292",
   "metadata": {},
   "outputs": [],
   "source": [
    "import seaborn as sns"
   ]
  },
  {
   "cell_type": "code",
   "execution_count": 8,
   "id": "8d55d438",
   "metadata": {},
   "outputs": [],
   "source": [
    "import matplotlib.pyplot as plt"
   ]
  },
  {
   "cell_type": "code",
   "execution_count": 9,
   "id": "5921d1ef",
   "metadata": {},
   "outputs": [],
   "source": [
    "%matplotlib inline"
   ]
  },
  {
   "cell_type": "code",
   "execution_count": 10,
   "id": "c4b25c27",
   "metadata": {},
   "outputs": [],
   "source": [
    "churn_df = pd.read_csv('churn_raw_data.csv')"
   ]
  },
  {
   "cell_type": "code",
   "execution_count": 11,
   "id": "d995eb47",
   "metadata": {},
   "outputs": [
    {
     "data": {
      "text/html": [
       "<div>\n",
       "<style scoped>\n",
       "    .dataframe tbody tr th:only-of-type {\n",
       "        vertical-align: middle;\n",
       "    }\n",
       "\n",
       "    .dataframe tbody tr th {\n",
       "        vertical-align: top;\n",
       "    }\n",
       "\n",
       "    .dataframe thead th {\n",
       "        text-align: right;\n",
       "    }\n",
       "</style>\n",
       "<table border=\"1\" class=\"dataframe\">\n",
       "  <thead>\n",
       "    <tr style=\"text-align: right;\">\n",
       "      <th></th>\n",
       "      <th>Unnamed: 0</th>\n",
       "      <th>Customer_id</th>\n",
       "      <th>Interaction</th>\n",
       "      <th>City</th>\n",
       "      <th>State</th>\n",
       "      <th>County</th>\n",
       "      <th>Population</th>\n",
       "      <th>Area</th>\n",
       "      <th>Timezone</th>\n",
       "      <th>Job</th>\n",
       "      <th>...</th>\n",
       "      <th>MonthlyCharge</th>\n",
       "      <th>Bandwidth_GB_Year</th>\n",
       "      <th>Responses</th>\n",
       "      <th>Fixes</th>\n",
       "      <th>Replacements</th>\n",
       "      <th>Reliability</th>\n",
       "      <th>Options</th>\n",
       "      <th>Respectfulness</th>\n",
       "      <th>Courteous</th>\n",
       "      <th>Listening</th>\n",
       "    </tr>\n",
       "  </thead>\n",
       "  <tbody>\n",
       "    <tr>\n",
       "      <th>0</th>\n",
       "      <td>0</td>\n",
       "      <td>K409198</td>\n",
       "      <td>aa90260b-4141-4a24-8e36-b04ce1f4f77b</td>\n",
       "      <td>Point Baker</td>\n",
       "      <td>AK</td>\n",
       "      <td>Prince of Wales-Hyder</td>\n",
       "      <td>38</td>\n",
       "      <td>Urban</td>\n",
       "      <td>America/Sitka</td>\n",
       "      <td>Environmental health practitioner</td>\n",
       "      <td>...</td>\n",
       "      <td>171.449762</td>\n",
       "      <td>904.536110</td>\n",
       "      <td>5</td>\n",
       "      <td>5</td>\n",
       "      <td>5</td>\n",
       "      <td>3</td>\n",
       "      <td>4</td>\n",
       "      <td>4</td>\n",
       "      <td>3</td>\n",
       "      <td>4</td>\n",
       "    </tr>\n",
       "    <tr>\n",
       "      <th>1</th>\n",
       "      <td>1</td>\n",
       "      <td>S120509</td>\n",
       "      <td>fb76459f-c047-4a9d-8af9-e0f7d4ac2524</td>\n",
       "      <td>West Branch</td>\n",
       "      <td>MI</td>\n",
       "      <td>Ogemaw</td>\n",
       "      <td>10446</td>\n",
       "      <td>Urban</td>\n",
       "      <td>America/Detroit</td>\n",
       "      <td>Programmer, multimedia</td>\n",
       "      <td>...</td>\n",
       "      <td>242.948015</td>\n",
       "      <td>800.982766</td>\n",
       "      <td>3</td>\n",
       "      <td>4</td>\n",
       "      <td>3</td>\n",
       "      <td>3</td>\n",
       "      <td>4</td>\n",
       "      <td>3</td>\n",
       "      <td>4</td>\n",
       "      <td>4</td>\n",
       "    </tr>\n",
       "    <tr>\n",
       "      <th>2</th>\n",
       "      <td>2</td>\n",
       "      <td>K191035</td>\n",
       "      <td>344d114c-3736-4be5-98f7-c72c281e2d35</td>\n",
       "      <td>Yamhill</td>\n",
       "      <td>OR</td>\n",
       "      <td>Yamhill</td>\n",
       "      <td>3735</td>\n",
       "      <td>Urban</td>\n",
       "      <td>America/Los_Angeles</td>\n",
       "      <td>Chief Financial Officer</td>\n",
       "      <td>...</td>\n",
       "      <td>159.440398</td>\n",
       "      <td>2054.706961</td>\n",
       "      <td>4</td>\n",
       "      <td>4</td>\n",
       "      <td>2</td>\n",
       "      <td>4</td>\n",
       "      <td>4</td>\n",
       "      <td>3</td>\n",
       "      <td>3</td>\n",
       "      <td>3</td>\n",
       "    </tr>\n",
       "    <tr>\n",
       "      <th>3</th>\n",
       "      <td>3</td>\n",
       "      <td>D90850</td>\n",
       "      <td>abfa2b40-2d43-4994-b15a-989b8c79e311</td>\n",
       "      <td>Del Mar</td>\n",
       "      <td>CA</td>\n",
       "      <td>San Diego</td>\n",
       "      <td>13863</td>\n",
       "      <td>Suburban</td>\n",
       "      <td>America/Los_Angeles</td>\n",
       "      <td>Solicitor</td>\n",
       "      <td>...</td>\n",
       "      <td>120.249493</td>\n",
       "      <td>2164.579412</td>\n",
       "      <td>4</td>\n",
       "      <td>4</td>\n",
       "      <td>4</td>\n",
       "      <td>2</td>\n",
       "      <td>5</td>\n",
       "      <td>4</td>\n",
       "      <td>3</td>\n",
       "      <td>3</td>\n",
       "    </tr>\n",
       "    <tr>\n",
       "      <th>4</th>\n",
       "      <td>4</td>\n",
       "      <td>K662701</td>\n",
       "      <td>68a861fd-0d20-4e51-a587-8a90407ee574</td>\n",
       "      <td>Needville</td>\n",
       "      <td>TX</td>\n",
       "      <td>Fort Bend</td>\n",
       "      <td>11352</td>\n",
       "      <td>Suburban</td>\n",
       "      <td>America/Chicago</td>\n",
       "      <td>Medical illustrator</td>\n",
       "      <td>...</td>\n",
       "      <td>150.761216</td>\n",
       "      <td>271.493436</td>\n",
       "      <td>4</td>\n",
       "      <td>4</td>\n",
       "      <td>4</td>\n",
       "      <td>3</td>\n",
       "      <td>4</td>\n",
       "      <td>4</td>\n",
       "      <td>4</td>\n",
       "      <td>5</td>\n",
       "    </tr>\n",
       "    <tr>\n",
       "      <th>...</th>\n",
       "      <td>...</td>\n",
       "      <td>...</td>\n",
       "      <td>...</td>\n",
       "      <td>...</td>\n",
       "      <td>...</td>\n",
       "      <td>...</td>\n",
       "      <td>...</td>\n",
       "      <td>...</td>\n",
       "      <td>...</td>\n",
       "      <td>...</td>\n",
       "      <td>...</td>\n",
       "      <td>...</td>\n",
       "      <td>...</td>\n",
       "      <td>...</td>\n",
       "      <td>...</td>\n",
       "      <td>...</td>\n",
       "      <td>...</td>\n",
       "      <td>...</td>\n",
       "      <td>...</td>\n",
       "      <td>...</td>\n",
       "      <td>...</td>\n",
       "    </tr>\n",
       "    <tr>\n",
       "      <th>9995</th>\n",
       "      <td>9995</td>\n",
       "      <td>M324793</td>\n",
       "      <td>45deb5a2-ae04-4518-bf0b-c82db8dbe4a4</td>\n",
       "      <td>Mount Holly</td>\n",
       "      <td>VT</td>\n",
       "      <td>Rutland</td>\n",
       "      <td>640</td>\n",
       "      <td>Rural</td>\n",
       "      <td>America/New_York</td>\n",
       "      <td>Sport and exercise psychologist</td>\n",
       "      <td>...</td>\n",
       "      <td>159.828800</td>\n",
       "      <td>6511.253000</td>\n",
       "      <td>3</td>\n",
       "      <td>2</td>\n",
       "      <td>3</td>\n",
       "      <td>3</td>\n",
       "      <td>4</td>\n",
       "      <td>3</td>\n",
       "      <td>2</td>\n",
       "      <td>3</td>\n",
       "    </tr>\n",
       "    <tr>\n",
       "      <th>9996</th>\n",
       "      <td>9996</td>\n",
       "      <td>D861732</td>\n",
       "      <td>6e96b921-0c09-4993-bbda-a1ac6411061a</td>\n",
       "      <td>Clarksville</td>\n",
       "      <td>TN</td>\n",
       "      <td>Montgomery</td>\n",
       "      <td>77168</td>\n",
       "      <td>Rural</td>\n",
       "      <td>America/Chicago</td>\n",
       "      <td>Consulting civil engineer</td>\n",
       "      <td>...</td>\n",
       "      <td>208.856400</td>\n",
       "      <td>5695.952000</td>\n",
       "      <td>4</td>\n",
       "      <td>5</td>\n",
       "      <td>5</td>\n",
       "      <td>4</td>\n",
       "      <td>4</td>\n",
       "      <td>5</td>\n",
       "      <td>2</td>\n",
       "      <td>5</td>\n",
       "    </tr>\n",
       "    <tr>\n",
       "      <th>9997</th>\n",
       "      <td>9997</td>\n",
       "      <td>I243405</td>\n",
       "      <td>e8307ddf-9a01-4fff-bc59-4742e03fd24f</td>\n",
       "      <td>Mobeetie</td>\n",
       "      <td>TX</td>\n",
       "      <td>Wheeler</td>\n",
       "      <td>406</td>\n",
       "      <td>Rural</td>\n",
       "      <td>America/Chicago</td>\n",
       "      <td>IT technical support officer</td>\n",
       "      <td>...</td>\n",
       "      <td>168.220900</td>\n",
       "      <td>4159.306000</td>\n",
       "      <td>4</td>\n",
       "      <td>4</td>\n",
       "      <td>4</td>\n",
       "      <td>4</td>\n",
       "      <td>4</td>\n",
       "      <td>4</td>\n",
       "      <td>4</td>\n",
       "      <td>5</td>\n",
       "    </tr>\n",
       "    <tr>\n",
       "      <th>9998</th>\n",
       "      <td>9998</td>\n",
       "      <td>I641617</td>\n",
       "      <td>3775ccfc-0052-4107-81ae-9657f81ecdf3</td>\n",
       "      <td>Carrollton</td>\n",
       "      <td>GA</td>\n",
       "      <td>Carroll</td>\n",
       "      <td>35575</td>\n",
       "      <td>Urban</td>\n",
       "      <td>America/New_York</td>\n",
       "      <td>Water engineer</td>\n",
       "      <td>...</td>\n",
       "      <td>252.628600</td>\n",
       "      <td>6468.457000</td>\n",
       "      <td>4</td>\n",
       "      <td>4</td>\n",
       "      <td>6</td>\n",
       "      <td>4</td>\n",
       "      <td>3</td>\n",
       "      <td>3</td>\n",
       "      <td>5</td>\n",
       "      <td>4</td>\n",
       "    </tr>\n",
       "    <tr>\n",
       "      <th>9999</th>\n",
       "      <td>9999</td>\n",
       "      <td>T38070</td>\n",
       "      <td>9de5fb6e-bd33-4995-aec8-f01d0172a499</td>\n",
       "      <td>Clarkesville</td>\n",
       "      <td>GA</td>\n",
       "      <td>Habersham</td>\n",
       "      <td>12230</td>\n",
       "      <td>Urban</td>\n",
       "      <td>America/New_York</td>\n",
       "      <td>Personal assistant</td>\n",
       "      <td>...</td>\n",
       "      <td>218.371000</td>\n",
       "      <td>5857.586000</td>\n",
       "      <td>2</td>\n",
       "      <td>2</td>\n",
       "      <td>3</td>\n",
       "      <td>3</td>\n",
       "      <td>3</td>\n",
       "      <td>3</td>\n",
       "      <td>4</td>\n",
       "      <td>1</td>\n",
       "    </tr>\n",
       "  </tbody>\n",
       "</table>\n",
       "<p>10000 rows × 48 columns</p>\n",
       "</div>"
      ],
      "text/plain": [
       "      Unnamed: 0 Customer_id                           Interaction  \\\n",
       "0              0     K409198  aa90260b-4141-4a24-8e36-b04ce1f4f77b   \n",
       "1              1     S120509  fb76459f-c047-4a9d-8af9-e0f7d4ac2524   \n",
       "2              2     K191035  344d114c-3736-4be5-98f7-c72c281e2d35   \n",
       "3              3      D90850  abfa2b40-2d43-4994-b15a-989b8c79e311   \n",
       "4              4     K662701  68a861fd-0d20-4e51-a587-8a90407ee574   \n",
       "...          ...         ...                                   ...   \n",
       "9995        9995     M324793  45deb5a2-ae04-4518-bf0b-c82db8dbe4a4   \n",
       "9996        9996     D861732  6e96b921-0c09-4993-bbda-a1ac6411061a   \n",
       "9997        9997     I243405  e8307ddf-9a01-4fff-bc59-4742e03fd24f   \n",
       "9998        9998     I641617  3775ccfc-0052-4107-81ae-9657f81ecdf3   \n",
       "9999        9999      T38070  9de5fb6e-bd33-4995-aec8-f01d0172a499   \n",
       "\n",
       "              City State                 County  Population      Area  \\\n",
       "0      Point Baker    AK  Prince of Wales-Hyder          38     Urban   \n",
       "1      West Branch    MI                 Ogemaw       10446     Urban   \n",
       "2          Yamhill    OR                Yamhill        3735     Urban   \n",
       "3          Del Mar    CA              San Diego       13863  Suburban   \n",
       "4        Needville    TX              Fort Bend       11352  Suburban   \n",
       "...            ...   ...                    ...         ...       ...   \n",
       "9995   Mount Holly    VT                Rutland         640     Rural   \n",
       "9996   Clarksville    TN             Montgomery       77168     Rural   \n",
       "9997      Mobeetie    TX                Wheeler         406     Rural   \n",
       "9998    Carrollton    GA                Carroll       35575     Urban   \n",
       "9999  Clarkesville    GA              Habersham       12230     Urban   \n",
       "\n",
       "                 Timezone                                Job  ...  \\\n",
       "0           America/Sitka  Environmental health practitioner  ...   \n",
       "1         America/Detroit             Programmer, multimedia  ...   \n",
       "2     America/Los_Angeles            Chief Financial Officer  ...   \n",
       "3     America/Los_Angeles                          Solicitor  ...   \n",
       "4         America/Chicago                Medical illustrator  ...   \n",
       "...                   ...                                ...  ...   \n",
       "9995     America/New_York    Sport and exercise psychologist  ...   \n",
       "9996      America/Chicago          Consulting civil engineer  ...   \n",
       "9997      America/Chicago       IT technical support officer  ...   \n",
       "9998     America/New_York                     Water engineer  ...   \n",
       "9999     America/New_York                 Personal assistant  ...   \n",
       "\n",
       "      MonthlyCharge  Bandwidth_GB_Year Responses Fixes  Replacements  \\\n",
       "0        171.449762         904.536110         5     5             5   \n",
       "1        242.948015         800.982766         3     4             3   \n",
       "2        159.440398        2054.706961         4     4             2   \n",
       "3        120.249493        2164.579412         4     4             4   \n",
       "4        150.761216         271.493436         4     4             4   \n",
       "...             ...                ...       ...   ...           ...   \n",
       "9995     159.828800        6511.253000         3     2             3   \n",
       "9996     208.856400        5695.952000         4     5             5   \n",
       "9997     168.220900        4159.306000         4     4             4   \n",
       "9998     252.628600        6468.457000         4     4             6   \n",
       "9999     218.371000        5857.586000         2     2             3   \n",
       "\n",
       "     Reliability Options Respectfulness  Courteous  Listening  \n",
       "0              3       4              4          3          4  \n",
       "1              3       4              3          4          4  \n",
       "2              4       4              3          3          3  \n",
       "3              2       5              4          3          3  \n",
       "4              3       4              4          4          5  \n",
       "...          ...     ...            ...        ...        ...  \n",
       "9995           3       4              3          2          3  \n",
       "9996           4       4              5          2          5  \n",
       "9997           4       4              4          4          5  \n",
       "9998           4       3              3          5          4  \n",
       "9999           3       3              3          4          1  \n",
       "\n",
       "[10000 rows x 48 columns]"
      ]
     },
     "execution_count": 11,
     "metadata": {},
     "output_type": "execute_result"
    }
   ],
   "source": [
    "churn_df"
   ]
  },
  {
   "cell_type": "code",
   "execution_count": 12,
   "id": "449f242c",
   "metadata": {},
   "outputs": [],
   "source": [
    "df = churn_df.columns"
   ]
  },
  {
   "cell_type": "code",
   "execution_count": 13,
   "id": "c6b3725f",
   "metadata": {},
   "outputs": [
    {
     "name": "stdout",
     "output_type": "stream",
     "text": [
      "Index(['Unnamed: 0', 'Customer_id', 'Interaction', 'City', 'State', 'County',\n",
      "       'Population', 'Area', 'Timezone', 'Job', 'Children', 'Age', 'Education',\n",
      "       'Employment', 'Income', 'Marital', 'Gender', 'Churn',\n",
      "       'Outage_sec_perweek', 'Email', 'Contacts', 'Yearly_equip_failure',\n",
      "       'Techie', 'Contract', 'Port_modem', 'Tablet', 'InternetService',\n",
      "       'Phone', 'Multiple', 'OnlineSecurity', 'OnlineBackup',\n",
      "       'DeviceProtection', 'TechSupport', 'StreamingTV', 'StreamingMovies',\n",
      "       'PaperlessBilling', 'PaymentMethod', 'Tenure', 'MonthlyCharge',\n",
      "       'Bandwidth_GB_Year', 'Responses', 'Fixes', 'Replacements',\n",
      "       'Reliability', 'Options', 'Respectfulness', 'Courteous', 'Listening'],\n",
      "      dtype='object')\n"
     ]
    }
   ],
   "source": [
    "print(df)"
   ]
  },
  {
   "cell_type": "code",
   "execution_count": 14,
   "id": "e95adff5",
   "metadata": {},
   "outputs": [],
   "source": [
    "df = churn_df.drop(churn_df.columns[0], axis = 1)"
   ]
  },
  {
   "cell_type": "code",
   "execution_count": 15,
   "id": "5b9b9b20",
   "metadata": {},
   "outputs": [
    {
     "data": {
      "text/html": [
       "<div>\n",
       "<style scoped>\n",
       "    .dataframe tbody tr th:only-of-type {\n",
       "        vertical-align: middle;\n",
       "    }\n",
       "\n",
       "    .dataframe tbody tr th {\n",
       "        vertical-align: top;\n",
       "    }\n",
       "\n",
       "    .dataframe thead th {\n",
       "        text-align: right;\n",
       "    }\n",
       "</style>\n",
       "<table border=\"1\" class=\"dataframe\">\n",
       "  <thead>\n",
       "    <tr style=\"text-align: right;\">\n",
       "      <th></th>\n",
       "      <th>Customer_id</th>\n",
       "      <th>Interaction</th>\n",
       "      <th>City</th>\n",
       "      <th>State</th>\n",
       "      <th>County</th>\n",
       "      <th>Population</th>\n",
       "      <th>Area</th>\n",
       "      <th>Timezone</th>\n",
       "      <th>Job</th>\n",
       "      <th>Children</th>\n",
       "      <th>...</th>\n",
       "      <th>MonthlyCharge</th>\n",
       "      <th>Bandwidth_GB_Year</th>\n",
       "      <th>Responses</th>\n",
       "      <th>Fixes</th>\n",
       "      <th>Replacements</th>\n",
       "      <th>Reliability</th>\n",
       "      <th>Options</th>\n",
       "      <th>Respectfulness</th>\n",
       "      <th>Courteous</th>\n",
       "      <th>Listening</th>\n",
       "    </tr>\n",
       "  </thead>\n",
       "  <tbody>\n",
       "    <tr>\n",
       "      <th>0</th>\n",
       "      <td>K409198</td>\n",
       "      <td>aa90260b-4141-4a24-8e36-b04ce1f4f77b</td>\n",
       "      <td>Point Baker</td>\n",
       "      <td>AK</td>\n",
       "      <td>Prince of Wales-Hyder</td>\n",
       "      <td>38</td>\n",
       "      <td>Urban</td>\n",
       "      <td>America/Sitka</td>\n",
       "      <td>Environmental health practitioner</td>\n",
       "      <td>1.0</td>\n",
       "      <td>...</td>\n",
       "      <td>171.449762</td>\n",
       "      <td>904.536110</td>\n",
       "      <td>5</td>\n",
       "      <td>5</td>\n",
       "      <td>5</td>\n",
       "      <td>3</td>\n",
       "      <td>4</td>\n",
       "      <td>4</td>\n",
       "      <td>3</td>\n",
       "      <td>4</td>\n",
       "    </tr>\n",
       "    <tr>\n",
       "      <th>1</th>\n",
       "      <td>S120509</td>\n",
       "      <td>fb76459f-c047-4a9d-8af9-e0f7d4ac2524</td>\n",
       "      <td>West Branch</td>\n",
       "      <td>MI</td>\n",
       "      <td>Ogemaw</td>\n",
       "      <td>10446</td>\n",
       "      <td>Urban</td>\n",
       "      <td>America/Detroit</td>\n",
       "      <td>Programmer, multimedia</td>\n",
       "      <td>1.0</td>\n",
       "      <td>...</td>\n",
       "      <td>242.948015</td>\n",
       "      <td>800.982766</td>\n",
       "      <td>3</td>\n",
       "      <td>4</td>\n",
       "      <td>3</td>\n",
       "      <td>3</td>\n",
       "      <td>4</td>\n",
       "      <td>3</td>\n",
       "      <td>4</td>\n",
       "      <td>4</td>\n",
       "    </tr>\n",
       "    <tr>\n",
       "      <th>2</th>\n",
       "      <td>K191035</td>\n",
       "      <td>344d114c-3736-4be5-98f7-c72c281e2d35</td>\n",
       "      <td>Yamhill</td>\n",
       "      <td>OR</td>\n",
       "      <td>Yamhill</td>\n",
       "      <td>3735</td>\n",
       "      <td>Urban</td>\n",
       "      <td>America/Los_Angeles</td>\n",
       "      <td>Chief Financial Officer</td>\n",
       "      <td>4.0</td>\n",
       "      <td>...</td>\n",
       "      <td>159.440398</td>\n",
       "      <td>2054.706961</td>\n",
       "      <td>4</td>\n",
       "      <td>4</td>\n",
       "      <td>2</td>\n",
       "      <td>4</td>\n",
       "      <td>4</td>\n",
       "      <td>3</td>\n",
       "      <td>3</td>\n",
       "      <td>3</td>\n",
       "    </tr>\n",
       "    <tr>\n",
       "      <th>3</th>\n",
       "      <td>D90850</td>\n",
       "      <td>abfa2b40-2d43-4994-b15a-989b8c79e311</td>\n",
       "      <td>Del Mar</td>\n",
       "      <td>CA</td>\n",
       "      <td>San Diego</td>\n",
       "      <td>13863</td>\n",
       "      <td>Suburban</td>\n",
       "      <td>America/Los_Angeles</td>\n",
       "      <td>Solicitor</td>\n",
       "      <td>1.0</td>\n",
       "      <td>...</td>\n",
       "      <td>120.249493</td>\n",
       "      <td>2164.579412</td>\n",
       "      <td>4</td>\n",
       "      <td>4</td>\n",
       "      <td>4</td>\n",
       "      <td>2</td>\n",
       "      <td>5</td>\n",
       "      <td>4</td>\n",
       "      <td>3</td>\n",
       "      <td>3</td>\n",
       "    </tr>\n",
       "    <tr>\n",
       "      <th>4</th>\n",
       "      <td>K662701</td>\n",
       "      <td>68a861fd-0d20-4e51-a587-8a90407ee574</td>\n",
       "      <td>Needville</td>\n",
       "      <td>TX</td>\n",
       "      <td>Fort Bend</td>\n",
       "      <td>11352</td>\n",
       "      <td>Suburban</td>\n",
       "      <td>America/Chicago</td>\n",
       "      <td>Medical illustrator</td>\n",
       "      <td>0.0</td>\n",
       "      <td>...</td>\n",
       "      <td>150.761216</td>\n",
       "      <td>271.493436</td>\n",
       "      <td>4</td>\n",
       "      <td>4</td>\n",
       "      <td>4</td>\n",
       "      <td>3</td>\n",
       "      <td>4</td>\n",
       "      <td>4</td>\n",
       "      <td>4</td>\n",
       "      <td>5</td>\n",
       "    </tr>\n",
       "  </tbody>\n",
       "</table>\n",
       "<p>5 rows × 47 columns</p>\n",
       "</div>"
      ],
      "text/plain": [
       "  Customer_id                           Interaction         City State  \\\n",
       "0     K409198  aa90260b-4141-4a24-8e36-b04ce1f4f77b  Point Baker    AK   \n",
       "1     S120509  fb76459f-c047-4a9d-8af9-e0f7d4ac2524  West Branch    MI   \n",
       "2     K191035  344d114c-3736-4be5-98f7-c72c281e2d35      Yamhill    OR   \n",
       "3      D90850  abfa2b40-2d43-4994-b15a-989b8c79e311      Del Mar    CA   \n",
       "4     K662701  68a861fd-0d20-4e51-a587-8a90407ee574    Needville    TX   \n",
       "\n",
       "                  County  Population      Area             Timezone  \\\n",
       "0  Prince of Wales-Hyder          38     Urban        America/Sitka   \n",
       "1                 Ogemaw       10446     Urban      America/Detroit   \n",
       "2                Yamhill        3735     Urban  America/Los_Angeles   \n",
       "3              San Diego       13863  Suburban  America/Los_Angeles   \n",
       "4              Fort Bend       11352  Suburban      America/Chicago   \n",
       "\n",
       "                                 Job  Children  ...  MonthlyCharge  \\\n",
       "0  Environmental health practitioner       1.0  ...     171.449762   \n",
       "1             Programmer, multimedia       1.0  ...     242.948015   \n",
       "2            Chief Financial Officer       4.0  ...     159.440398   \n",
       "3                          Solicitor       1.0  ...     120.249493   \n",
       "4                Medical illustrator       0.0  ...     150.761216   \n",
       "\n",
       "  Bandwidth_GB_Year Responses  Fixes Replacements Reliability Options  \\\n",
       "0        904.536110         5      5            5           3       4   \n",
       "1        800.982766         3      4            3           3       4   \n",
       "2       2054.706961         4      4            2           4       4   \n",
       "3       2164.579412         4      4            4           2       5   \n",
       "4        271.493436         4      4            4           3       4   \n",
       "\n",
       "   Respectfulness  Courteous  Listening  \n",
       "0               4          3          4  \n",
       "1               3          4          4  \n",
       "2               3          3          3  \n",
       "3               4          3          3  \n",
       "4               4          4          5  \n",
       "\n",
       "[5 rows x 47 columns]"
      ]
     },
     "execution_count": 15,
     "metadata": {},
     "output_type": "execute_result"
    }
   ],
   "source": [
    "df.head()"
   ]
  },
  {
   "cell_type": "code",
   "execution_count": 16,
   "id": "253397dc",
   "metadata": {},
   "outputs": [],
   "source": [
    "df.rename(columns = {'item1':'Responses',\n",
    "'item2':'Fixes',\n",
    "'item3':'Replacements',\n",
    "'item4':'Reliability',\n",
    "'item5':'Options',\n",
    "'item6':'Respectfulness',\n",
    "'item7':'Courteous',\n",
    "'item8':'Listening'},\n",
    "inplace=True)"
   ]
  },
  {
   "cell_type": "code",
   "execution_count": 17,
   "id": "880222ad",
   "metadata": {},
   "outputs": [
    {
     "data": {
      "text/plain": [
       "(10000, 47)"
      ]
     },
     "execution_count": 17,
     "metadata": {},
     "output_type": "execute_result"
    }
   ],
   "source": [
    "df.shape"
   ]
  },
  {
   "cell_type": "code",
   "execution_count": 18,
   "id": "0b0daf89",
   "metadata": {},
   "outputs": [
    {
     "data": {
      "text/html": [
       "<div>\n",
       "<style scoped>\n",
       "    .dataframe tbody tr th:only-of-type {\n",
       "        vertical-align: middle;\n",
       "    }\n",
       "\n",
       "    .dataframe tbody tr th {\n",
       "        vertical-align: top;\n",
       "    }\n",
       "\n",
       "    .dataframe thead th {\n",
       "        text-align: right;\n",
       "    }\n",
       "</style>\n",
       "<table border=\"1\" class=\"dataframe\">\n",
       "  <thead>\n",
       "    <tr style=\"text-align: right;\">\n",
       "      <th></th>\n",
       "      <th>Population</th>\n",
       "      <th>Children</th>\n",
       "      <th>Age</th>\n",
       "      <th>Income</th>\n",
       "      <th>Outage_sec_perweek</th>\n",
       "      <th>Email</th>\n",
       "      <th>Contacts</th>\n",
       "      <th>Yearly_equip_failure</th>\n",
       "      <th>Tenure</th>\n",
       "      <th>MonthlyCharge</th>\n",
       "      <th>Bandwidth_GB_Year</th>\n",
       "      <th>Responses</th>\n",
       "      <th>Fixes</th>\n",
       "      <th>Replacements</th>\n",
       "      <th>Reliability</th>\n",
       "      <th>Options</th>\n",
       "      <th>Respectfulness</th>\n",
       "      <th>Courteous</th>\n",
       "      <th>Listening</th>\n",
       "    </tr>\n",
       "  </thead>\n",
       "  <tbody>\n",
       "    <tr>\n",
       "      <th>count</th>\n",
       "      <td>10000.000000</td>\n",
       "      <td>10000.000000</td>\n",
       "      <td>10000.000000</td>\n",
       "      <td>10000.000000</td>\n",
       "      <td>10000.000000</td>\n",
       "      <td>10000.000000</td>\n",
       "      <td>10000.000000</td>\n",
       "      <td>10000.000000</td>\n",
       "      <td>10000.000000</td>\n",
       "      <td>10000.000000</td>\n",
       "      <td>10000.000000</td>\n",
       "      <td>10000.000000</td>\n",
       "      <td>10000.000000</td>\n",
       "      <td>10000.000000</td>\n",
       "      <td>10000.000000</td>\n",
       "      <td>10000.000000</td>\n",
       "      <td>10000.000000</td>\n",
       "      <td>10000.000000</td>\n",
       "      <td>10000.000000</td>\n",
       "    </tr>\n",
       "    <tr>\n",
       "      <th>mean</th>\n",
       "      <td>9756.562400</td>\n",
       "      <td>1.822500</td>\n",
       "      <td>53.207500</td>\n",
       "      <td>38256.017897</td>\n",
       "      <td>11.452955</td>\n",
       "      <td>12.016000</td>\n",
       "      <td>0.994200</td>\n",
       "      <td>0.398000</td>\n",
       "      <td>34.656864</td>\n",
       "      <td>174.076305</td>\n",
       "      <td>3397.166397</td>\n",
       "      <td>3.490800</td>\n",
       "      <td>3.505100</td>\n",
       "      <td>3.487000</td>\n",
       "      <td>3.497500</td>\n",
       "      <td>3.492900</td>\n",
       "      <td>3.497300</td>\n",
       "      <td>3.509500</td>\n",
       "      <td>3.495600</td>\n",
       "    </tr>\n",
       "    <tr>\n",
       "      <th>std</th>\n",
       "      <td>14432.698671</td>\n",
       "      <td>1.925971</td>\n",
       "      <td>18.003457</td>\n",
       "      <td>24747.872761</td>\n",
       "      <td>7.025921</td>\n",
       "      <td>3.025898</td>\n",
       "      <td>0.988466</td>\n",
       "      <td>0.635953</td>\n",
       "      <td>25.182812</td>\n",
       "      <td>43.335473</td>\n",
       "      <td>2072.718575</td>\n",
       "      <td>1.037797</td>\n",
       "      <td>1.034641</td>\n",
       "      <td>1.027977</td>\n",
       "      <td>1.025816</td>\n",
       "      <td>1.024819</td>\n",
       "      <td>1.033586</td>\n",
       "      <td>1.028502</td>\n",
       "      <td>1.028633</td>\n",
       "    </tr>\n",
       "    <tr>\n",
       "      <th>min</th>\n",
       "      <td>0.000000</td>\n",
       "      <td>0.000000</td>\n",
       "      <td>18.000000</td>\n",
       "      <td>740.660000</td>\n",
       "      <td>-1.348571</td>\n",
       "      <td>1.000000</td>\n",
       "      <td>0.000000</td>\n",
       "      <td>0.000000</td>\n",
       "      <td>1.000259</td>\n",
       "      <td>77.505230</td>\n",
       "      <td>155.506715</td>\n",
       "      <td>1.000000</td>\n",
       "      <td>1.000000</td>\n",
       "      <td>1.000000</td>\n",
       "      <td>1.000000</td>\n",
       "      <td>1.000000</td>\n",
       "      <td>1.000000</td>\n",
       "      <td>1.000000</td>\n",
       "      <td>1.000000</td>\n",
       "    </tr>\n",
       "    <tr>\n",
       "      <th>25%</th>\n",
       "      <td>738.000000</td>\n",
       "      <td>1.000000</td>\n",
       "      <td>41.000000</td>\n",
       "      <td>23660.790000</td>\n",
       "      <td>8.054362</td>\n",
       "      <td>10.000000</td>\n",
       "      <td>0.000000</td>\n",
       "      <td>0.000000</td>\n",
       "      <td>8.700329</td>\n",
       "      <td>141.071078</td>\n",
       "      <td>1312.130487</td>\n",
       "      <td>3.000000</td>\n",
       "      <td>3.000000</td>\n",
       "      <td>3.000000</td>\n",
       "      <td>3.000000</td>\n",
       "      <td>3.000000</td>\n",
       "      <td>3.000000</td>\n",
       "      <td>3.000000</td>\n",
       "      <td>3.000000</td>\n",
       "    </tr>\n",
       "    <tr>\n",
       "      <th>50%</th>\n",
       "      <td>2910.500000</td>\n",
       "      <td>1.000000</td>\n",
       "      <td>53.000000</td>\n",
       "      <td>33186.785000</td>\n",
       "      <td>10.202896</td>\n",
       "      <td>12.000000</td>\n",
       "      <td>1.000000</td>\n",
       "      <td>0.000000</td>\n",
       "      <td>36.196030</td>\n",
       "      <td>169.915400</td>\n",
       "      <td>3382.424000</td>\n",
       "      <td>3.000000</td>\n",
       "      <td>4.000000</td>\n",
       "      <td>3.000000</td>\n",
       "      <td>3.000000</td>\n",
       "      <td>3.000000</td>\n",
       "      <td>3.000000</td>\n",
       "      <td>4.000000</td>\n",
       "      <td>3.000000</td>\n",
       "    </tr>\n",
       "    <tr>\n",
       "      <th>75%</th>\n",
       "      <td>13168.000000</td>\n",
       "      <td>3.000000</td>\n",
       "      <td>65.000000</td>\n",
       "      <td>45504.192500</td>\n",
       "      <td>12.487644</td>\n",
       "      <td>14.000000</td>\n",
       "      <td>2.000000</td>\n",
       "      <td>1.000000</td>\n",
       "      <td>60.153487</td>\n",
       "      <td>203.777441</td>\n",
       "      <td>5466.284500</td>\n",
       "      <td>4.000000</td>\n",
       "      <td>4.000000</td>\n",
       "      <td>4.000000</td>\n",
       "      <td>4.000000</td>\n",
       "      <td>4.000000</td>\n",
       "      <td>4.000000</td>\n",
       "      <td>4.000000</td>\n",
       "      <td>4.000000</td>\n",
       "    </tr>\n",
       "    <tr>\n",
       "      <th>max</th>\n",
       "      <td>111850.000000</td>\n",
       "      <td>10.000000</td>\n",
       "      <td>89.000000</td>\n",
       "      <td>258900.700000</td>\n",
       "      <td>47.049280</td>\n",
       "      <td>23.000000</td>\n",
       "      <td>7.000000</td>\n",
       "      <td>6.000000</td>\n",
       "      <td>71.999280</td>\n",
       "      <td>315.878600</td>\n",
       "      <td>7158.982000</td>\n",
       "      <td>7.000000</td>\n",
       "      <td>7.000000</td>\n",
       "      <td>8.000000</td>\n",
       "      <td>7.000000</td>\n",
       "      <td>7.000000</td>\n",
       "      <td>8.000000</td>\n",
       "      <td>7.000000</td>\n",
       "      <td>8.000000</td>\n",
       "    </tr>\n",
       "  </tbody>\n",
       "</table>\n",
       "</div>"
      ],
      "text/plain": [
       "          Population      Children           Age         Income  \\\n",
       "count   10000.000000  10000.000000  10000.000000   10000.000000   \n",
       "mean     9756.562400      1.822500     53.207500   38256.017897   \n",
       "std     14432.698671      1.925971     18.003457   24747.872761   \n",
       "min         0.000000      0.000000     18.000000     740.660000   \n",
       "25%       738.000000      1.000000     41.000000   23660.790000   \n",
       "50%      2910.500000      1.000000     53.000000   33186.785000   \n",
       "75%     13168.000000      3.000000     65.000000   45504.192500   \n",
       "max    111850.000000     10.000000     89.000000  258900.700000   \n",
       "\n",
       "       Outage_sec_perweek         Email      Contacts  Yearly_equip_failure  \\\n",
       "count        10000.000000  10000.000000  10000.000000          10000.000000   \n",
       "mean            11.452955     12.016000      0.994200              0.398000   \n",
       "std              7.025921      3.025898      0.988466              0.635953   \n",
       "min             -1.348571      1.000000      0.000000              0.000000   \n",
       "25%              8.054362     10.000000      0.000000              0.000000   \n",
       "50%             10.202896     12.000000      1.000000              0.000000   \n",
       "75%             12.487644     14.000000      2.000000              1.000000   \n",
       "max             47.049280     23.000000      7.000000              6.000000   \n",
       "\n",
       "             Tenure  MonthlyCharge  Bandwidth_GB_Year     Responses  \\\n",
       "count  10000.000000   10000.000000       10000.000000  10000.000000   \n",
       "mean      34.656864     174.076305        3397.166397      3.490800   \n",
       "std       25.182812      43.335473        2072.718575      1.037797   \n",
       "min        1.000259      77.505230         155.506715      1.000000   \n",
       "25%        8.700329     141.071078        1312.130487      3.000000   \n",
       "50%       36.196030     169.915400        3382.424000      3.000000   \n",
       "75%       60.153487     203.777441        5466.284500      4.000000   \n",
       "max       71.999280     315.878600        7158.982000      7.000000   \n",
       "\n",
       "              Fixes  Replacements   Reliability       Options  Respectfulness  \\\n",
       "count  10000.000000  10000.000000  10000.000000  10000.000000    10000.000000   \n",
       "mean       3.505100      3.487000      3.497500      3.492900        3.497300   \n",
       "std        1.034641      1.027977      1.025816      1.024819        1.033586   \n",
       "min        1.000000      1.000000      1.000000      1.000000        1.000000   \n",
       "25%        3.000000      3.000000      3.000000      3.000000        3.000000   \n",
       "50%        4.000000      3.000000      3.000000      3.000000        3.000000   \n",
       "75%        4.000000      4.000000      4.000000      4.000000        4.000000   \n",
       "max        7.000000      8.000000      7.000000      7.000000        8.000000   \n",
       "\n",
       "          Courteous     Listening  \n",
       "count  10000.000000  10000.000000  \n",
       "mean       3.509500      3.495600  \n",
       "std        1.028502      1.028633  \n",
       "min        1.000000      1.000000  \n",
       "25%        3.000000      3.000000  \n",
       "50%        4.000000      3.000000  \n",
       "75%        4.000000      4.000000  \n",
       "max        7.000000      8.000000  "
      ]
     },
     "execution_count": 18,
     "metadata": {},
     "output_type": "execute_result"
    }
   ],
   "source": [
    "df.describe()"
   ]
  },
  {
   "cell_type": "code",
   "execution_count": 21,
   "id": "a7b6e620",
   "metadata": {},
   "outputs": [
    {
     "data": {
      "text/plain": [
       "No     0.735\n",
       "Yes    0.265\n",
       "Name: Churn, dtype: float64"
      ]
     },
     "execution_count": 21,
     "metadata": {},
     "output_type": "execute_result"
    }
   ],
   "source": [
    "df.Churn.value_counts() / len(df)"
   ]
  },
  {
   "cell_type": "code",
   "execution_count": 22,
   "id": "a0e2a42b",
   "metadata": {},
   "outputs": [
    {
     "data": {
      "text/plain": [
       "Customer_id              object\n",
       "Interaction              object\n",
       "City                     object\n",
       "State                    object\n",
       "County                   object\n",
       "Population                int64\n",
       "Area                     object\n",
       "Timezone                 object\n",
       "Job                      object\n",
       "Children                float64\n",
       "Age                     float64\n",
       "Education                object\n",
       "Employment               object\n",
       "Income                  float64\n",
       "Marital                  object\n",
       "Gender                   object\n",
       "Churn                    object\n",
       "Outage_sec_perweek      float64\n",
       "Email                     int64\n",
       "Contacts                  int64\n",
       "Yearly_equip_failure      int64\n",
       "Techie                   object\n",
       "Contract                 object\n",
       "Port_modem               object\n",
       "Tablet                   object\n",
       "InternetService          object\n",
       "Phone                    object\n",
       "Multiple                 object\n",
       "OnlineSecurity           object\n",
       "OnlineBackup             object\n",
       "DeviceProtection         object\n",
       "TechSupport              object\n",
       "StreamingTV              object\n",
       "StreamingMovies          object\n",
       "PaperlessBilling         object\n",
       "PaymentMethod            object\n",
       "Tenure                  float64\n",
       "MonthlyCharge           float64\n",
       "Bandwidth_GB_Year       float64\n",
       "Responses                 int64\n",
       "Fixes                     int64\n",
       "Replacements              int64\n",
       "Reliability               int64\n",
       "Options                   int64\n",
       "Respectfulness            int64\n",
       "Courteous                 int64\n",
       "Listening                 int64\n",
       "dtype: object"
      ]
     },
     "execution_count": 22,
     "metadata": {},
     "output_type": "execute_result"
    }
   ],
   "source": [
    "df.dtypes"
   ]
  },
  {
   "cell_type": "code",
   "execution_count": 23,
   "id": "02b3edbe",
   "metadata": {},
   "outputs": [
    {
     "data": {
      "text/plain": [
       "{int64: ['Population', 'Email', 'Contacts', 'Yearly_equip_failure', 'Responses', 'Fixes', 'Replacements', 'Reliability', 'Options', 'Respectfulness', 'Courteous', 'Listening'], float64: ['Children', 'Age', 'Income', 'Outage_sec_perweek', 'Tenure', 'MonthlyCharge', 'Bandwidth_GB_Year'], object: ['Customer_id', 'Interaction', 'City', 'State', 'County', 'Area', 'Timezone', 'Job', 'Education', 'Employment', 'Marital', 'Gender', 'Churn', 'Techie', 'Contract', 'Port_modem', 'Tablet', 'InternetService', 'Phone', 'Multiple', 'OnlineSecurity', 'OnlineBackup', 'DeviceProtection', 'TechSupport', 'StreamingTV', 'StreamingMovies', 'PaperlessBilling', 'PaymentMethod']}"
      ]
     },
     "execution_count": 23,
     "metadata": {},
     "output_type": "execute_result"
    }
   ],
   "source": [
    "df.columns.to_series().groupby(df.dtypes).groups"
   ]
  },
  {
   "cell_type": "code",
   "execution_count": 24,
   "id": "6affef7b",
   "metadata": {},
   "outputs": [
    {
     "data": {
      "text/html": [
       "<div>\n",
       "<style scoped>\n",
       "    .dataframe tbody tr th:only-of-type {\n",
       "        vertical-align: middle;\n",
       "    }\n",
       "\n",
       "    .dataframe tbody tr th {\n",
       "        vertical-align: top;\n",
       "    }\n",
       "\n",
       "    .dataframe thead th {\n",
       "        text-align: right;\n",
       "    }\n",
       "</style>\n",
       "<table border=\"1\" class=\"dataframe\">\n",
       "  <thead>\n",
       "    <tr style=\"text-align: right;\">\n",
       "      <th></th>\n",
       "      <th>Customer_id</th>\n",
       "      <th>Interaction</th>\n",
       "      <th>City</th>\n",
       "      <th>State</th>\n",
       "      <th>County</th>\n",
       "      <th>Population</th>\n",
       "      <th>Area</th>\n",
       "      <th>Timezone</th>\n",
       "      <th>Job</th>\n",
       "      <th>Children</th>\n",
       "      <th>...</th>\n",
       "      <th>MonthlyCharge</th>\n",
       "      <th>Bandwidth_GB_Year</th>\n",
       "      <th>Responses</th>\n",
       "      <th>Fixes</th>\n",
       "      <th>Replacements</th>\n",
       "      <th>Reliability</th>\n",
       "      <th>Options</th>\n",
       "      <th>Respectfulness</th>\n",
       "      <th>Courteous</th>\n",
       "      <th>Listening</th>\n",
       "    </tr>\n",
       "  </thead>\n",
       "  <tbody>\n",
       "    <tr>\n",
       "      <th>0</th>\n",
       "      <td>False</td>\n",
       "      <td>False</td>\n",
       "      <td>False</td>\n",
       "      <td>False</td>\n",
       "      <td>False</td>\n",
       "      <td>False</td>\n",
       "      <td>False</td>\n",
       "      <td>False</td>\n",
       "      <td>False</td>\n",
       "      <td>False</td>\n",
       "      <td>...</td>\n",
       "      <td>False</td>\n",
       "      <td>False</td>\n",
       "      <td>False</td>\n",
       "      <td>False</td>\n",
       "      <td>False</td>\n",
       "      <td>False</td>\n",
       "      <td>False</td>\n",
       "      <td>False</td>\n",
       "      <td>False</td>\n",
       "      <td>False</td>\n",
       "    </tr>\n",
       "    <tr>\n",
       "      <th>1</th>\n",
       "      <td>False</td>\n",
       "      <td>False</td>\n",
       "      <td>False</td>\n",
       "      <td>False</td>\n",
       "      <td>False</td>\n",
       "      <td>False</td>\n",
       "      <td>False</td>\n",
       "      <td>False</td>\n",
       "      <td>False</td>\n",
       "      <td>False</td>\n",
       "      <td>...</td>\n",
       "      <td>False</td>\n",
       "      <td>False</td>\n",
       "      <td>False</td>\n",
       "      <td>False</td>\n",
       "      <td>False</td>\n",
       "      <td>False</td>\n",
       "      <td>False</td>\n",
       "      <td>False</td>\n",
       "      <td>False</td>\n",
       "      <td>False</td>\n",
       "    </tr>\n",
       "    <tr>\n",
       "      <th>2</th>\n",
       "      <td>False</td>\n",
       "      <td>False</td>\n",
       "      <td>False</td>\n",
       "      <td>False</td>\n",
       "      <td>False</td>\n",
       "      <td>False</td>\n",
       "      <td>False</td>\n",
       "      <td>False</td>\n",
       "      <td>False</td>\n",
       "      <td>False</td>\n",
       "      <td>...</td>\n",
       "      <td>False</td>\n",
       "      <td>False</td>\n",
       "      <td>False</td>\n",
       "      <td>False</td>\n",
       "      <td>False</td>\n",
       "      <td>False</td>\n",
       "      <td>False</td>\n",
       "      <td>False</td>\n",
       "      <td>False</td>\n",
       "      <td>False</td>\n",
       "    </tr>\n",
       "    <tr>\n",
       "      <th>3</th>\n",
       "      <td>False</td>\n",
       "      <td>False</td>\n",
       "      <td>False</td>\n",
       "      <td>False</td>\n",
       "      <td>False</td>\n",
       "      <td>False</td>\n",
       "      <td>False</td>\n",
       "      <td>False</td>\n",
       "      <td>False</td>\n",
       "      <td>False</td>\n",
       "      <td>...</td>\n",
       "      <td>False</td>\n",
       "      <td>False</td>\n",
       "      <td>False</td>\n",
       "      <td>False</td>\n",
       "      <td>False</td>\n",
       "      <td>False</td>\n",
       "      <td>False</td>\n",
       "      <td>False</td>\n",
       "      <td>False</td>\n",
       "      <td>False</td>\n",
       "    </tr>\n",
       "    <tr>\n",
       "      <th>4</th>\n",
       "      <td>False</td>\n",
       "      <td>False</td>\n",
       "      <td>False</td>\n",
       "      <td>False</td>\n",
       "      <td>False</td>\n",
       "      <td>False</td>\n",
       "      <td>False</td>\n",
       "      <td>False</td>\n",
       "      <td>False</td>\n",
       "      <td>False</td>\n",
       "      <td>...</td>\n",
       "      <td>False</td>\n",
       "      <td>False</td>\n",
       "      <td>False</td>\n",
       "      <td>False</td>\n",
       "      <td>False</td>\n",
       "      <td>False</td>\n",
       "      <td>False</td>\n",
       "      <td>False</td>\n",
       "      <td>False</td>\n",
       "      <td>False</td>\n",
       "    </tr>\n",
       "    <tr>\n",
       "      <th>...</th>\n",
       "      <td>...</td>\n",
       "      <td>...</td>\n",
       "      <td>...</td>\n",
       "      <td>...</td>\n",
       "      <td>...</td>\n",
       "      <td>...</td>\n",
       "      <td>...</td>\n",
       "      <td>...</td>\n",
       "      <td>...</td>\n",
       "      <td>...</td>\n",
       "      <td>...</td>\n",
       "      <td>...</td>\n",
       "      <td>...</td>\n",
       "      <td>...</td>\n",
       "      <td>...</td>\n",
       "      <td>...</td>\n",
       "      <td>...</td>\n",
       "      <td>...</td>\n",
       "      <td>...</td>\n",
       "      <td>...</td>\n",
       "      <td>...</td>\n",
       "    </tr>\n",
       "    <tr>\n",
       "      <th>9995</th>\n",
       "      <td>False</td>\n",
       "      <td>False</td>\n",
       "      <td>False</td>\n",
       "      <td>False</td>\n",
       "      <td>False</td>\n",
       "      <td>False</td>\n",
       "      <td>False</td>\n",
       "      <td>False</td>\n",
       "      <td>False</td>\n",
       "      <td>False</td>\n",
       "      <td>...</td>\n",
       "      <td>False</td>\n",
       "      <td>False</td>\n",
       "      <td>False</td>\n",
       "      <td>False</td>\n",
       "      <td>False</td>\n",
       "      <td>False</td>\n",
       "      <td>False</td>\n",
       "      <td>False</td>\n",
       "      <td>False</td>\n",
       "      <td>False</td>\n",
       "    </tr>\n",
       "    <tr>\n",
       "      <th>9996</th>\n",
       "      <td>False</td>\n",
       "      <td>False</td>\n",
       "      <td>False</td>\n",
       "      <td>False</td>\n",
       "      <td>False</td>\n",
       "      <td>False</td>\n",
       "      <td>False</td>\n",
       "      <td>False</td>\n",
       "      <td>False</td>\n",
       "      <td>False</td>\n",
       "      <td>...</td>\n",
       "      <td>False</td>\n",
       "      <td>False</td>\n",
       "      <td>False</td>\n",
       "      <td>False</td>\n",
       "      <td>False</td>\n",
       "      <td>False</td>\n",
       "      <td>False</td>\n",
       "      <td>False</td>\n",
       "      <td>False</td>\n",
       "      <td>False</td>\n",
       "    </tr>\n",
       "    <tr>\n",
       "      <th>9997</th>\n",
       "      <td>False</td>\n",
       "      <td>False</td>\n",
       "      <td>False</td>\n",
       "      <td>False</td>\n",
       "      <td>False</td>\n",
       "      <td>False</td>\n",
       "      <td>False</td>\n",
       "      <td>False</td>\n",
       "      <td>False</td>\n",
       "      <td>False</td>\n",
       "      <td>...</td>\n",
       "      <td>False</td>\n",
       "      <td>False</td>\n",
       "      <td>False</td>\n",
       "      <td>False</td>\n",
       "      <td>False</td>\n",
       "      <td>False</td>\n",
       "      <td>False</td>\n",
       "      <td>False</td>\n",
       "      <td>False</td>\n",
       "      <td>False</td>\n",
       "    </tr>\n",
       "    <tr>\n",
       "      <th>9998</th>\n",
       "      <td>False</td>\n",
       "      <td>False</td>\n",
       "      <td>False</td>\n",
       "      <td>False</td>\n",
       "      <td>False</td>\n",
       "      <td>False</td>\n",
       "      <td>False</td>\n",
       "      <td>False</td>\n",
       "      <td>False</td>\n",
       "      <td>False</td>\n",
       "      <td>...</td>\n",
       "      <td>False</td>\n",
       "      <td>False</td>\n",
       "      <td>False</td>\n",
       "      <td>False</td>\n",
       "      <td>False</td>\n",
       "      <td>False</td>\n",
       "      <td>False</td>\n",
       "      <td>False</td>\n",
       "      <td>False</td>\n",
       "      <td>False</td>\n",
       "    </tr>\n",
       "    <tr>\n",
       "      <th>9999</th>\n",
       "      <td>False</td>\n",
       "      <td>False</td>\n",
       "      <td>False</td>\n",
       "      <td>False</td>\n",
       "      <td>False</td>\n",
       "      <td>False</td>\n",
       "      <td>False</td>\n",
       "      <td>False</td>\n",
       "      <td>False</td>\n",
       "      <td>False</td>\n",
       "      <td>...</td>\n",
       "      <td>False</td>\n",
       "      <td>False</td>\n",
       "      <td>False</td>\n",
       "      <td>False</td>\n",
       "      <td>False</td>\n",
       "      <td>False</td>\n",
       "      <td>False</td>\n",
       "      <td>False</td>\n",
       "      <td>False</td>\n",
       "      <td>False</td>\n",
       "    </tr>\n",
       "  </tbody>\n",
       "</table>\n",
       "<p>10000 rows × 47 columns</p>\n",
       "</div>"
      ],
      "text/plain": [
       "      Customer_id  Interaction   City  State  County  Population   Area  \\\n",
       "0           False        False  False  False   False       False  False   \n",
       "1           False        False  False  False   False       False  False   \n",
       "2           False        False  False  False   False       False  False   \n",
       "3           False        False  False  False   False       False  False   \n",
       "4           False        False  False  False   False       False  False   \n",
       "...           ...          ...    ...    ...     ...         ...    ...   \n",
       "9995        False        False  False  False   False       False  False   \n",
       "9996        False        False  False  False   False       False  False   \n",
       "9997        False        False  False  False   False       False  False   \n",
       "9998        False        False  False  False   False       False  False   \n",
       "9999        False        False  False  False   False       False  False   \n",
       "\n",
       "      Timezone    Job  Children  ...  MonthlyCharge  Bandwidth_GB_Year  \\\n",
       "0        False  False     False  ...          False              False   \n",
       "1        False  False     False  ...          False              False   \n",
       "2        False  False     False  ...          False              False   \n",
       "3        False  False     False  ...          False              False   \n",
       "4        False  False     False  ...          False              False   \n",
       "...        ...    ...       ...  ...            ...                ...   \n",
       "9995     False  False     False  ...          False              False   \n",
       "9996     False  False     False  ...          False              False   \n",
       "9997     False  False     False  ...          False              False   \n",
       "9998     False  False     False  ...          False              False   \n",
       "9999     False  False     False  ...          False              False   \n",
       "\n",
       "      Responses  Fixes  Replacements  Reliability  Options  Respectfulness  \\\n",
       "0         False  False         False        False    False           False   \n",
       "1         False  False         False        False    False           False   \n",
       "2         False  False         False        False    False           False   \n",
       "3         False  False         False        False    False           False   \n",
       "4         False  False         False        False    False           False   \n",
       "...         ...    ...           ...          ...      ...             ...   \n",
       "9995      False  False         False        False    False           False   \n",
       "9996      False  False         False        False    False           False   \n",
       "9997      False  False         False        False    False           False   \n",
       "9998      False  False         False        False    False           False   \n",
       "9999      False  False         False        False    False           False   \n",
       "\n",
       "      Courteous  Listening  \n",
       "0         False      False  \n",
       "1         False      False  \n",
       "2         False      False  \n",
       "3         False      False  \n",
       "4         False      False  \n",
       "...         ...        ...  \n",
       "9995      False      False  \n",
       "9996      False      False  \n",
       "9997      False      False  \n",
       "9998      False      False  \n",
       "9999      False      False  \n",
       "\n",
       "[10000 rows x 47 columns]"
      ]
     },
     "execution_count": 24,
     "metadata": {},
     "output_type": "execute_result"
    }
   ],
   "source": [
    "df.isnull()"
   ]
  },
  {
   "cell_type": "code",
   "execution_count": 25,
   "id": "559b6657",
   "metadata": {},
   "outputs": [
    {
     "data": {
      "text/plain": [
       "0       False\n",
       "1       False\n",
       "2       False\n",
       "3       False\n",
       "4       False\n",
       "        ...  \n",
       "9995     True\n",
       "9996     True\n",
       "9997    False\n",
       "9998    False\n",
       "9999     True\n",
       "Length: 10000, dtype: bool"
      ]
     },
     "execution_count": 25,
     "metadata": {},
     "output_type": "execute_result"
    }
   ],
   "source": [
    "df.isnull().any(axis=1)"
   ]
  },
  {
   "cell_type": "code",
   "execution_count": 26,
   "id": "c3877df6",
   "metadata": {},
   "outputs": [
    {
     "data": {
      "text/plain": [
       "Customer_id             False\n",
       "Interaction             False\n",
       "City                    False\n",
       "State                   False\n",
       "County                  False\n",
       "Population              False\n",
       "Area                    False\n",
       "Timezone                False\n",
       "Job                     False\n",
       "Children                False\n",
       "Age                     False\n",
       "Education               False\n",
       "Employment              False\n",
       "Income                  False\n",
       "Marital                 False\n",
       "Gender                  False\n",
       "Churn                   False\n",
       "Outage_sec_perweek      False\n",
       "Email                   False\n",
       "Contacts                False\n",
       "Yearly_equip_failure    False\n",
       "Techie                   True\n",
       "Contract                False\n",
       "Port_modem              False\n",
       "Tablet                  False\n",
       "InternetService         False\n",
       "Phone                    True\n",
       "Multiple                False\n",
       "OnlineSecurity          False\n",
       "OnlineBackup            False\n",
       "DeviceProtection        False\n",
       "TechSupport              True\n",
       "StreamingTV             False\n",
       "StreamingMovies         False\n",
       "PaperlessBilling        False\n",
       "PaymentMethod           False\n",
       "Tenure                  False\n",
       "MonthlyCharge           False\n",
       "Bandwidth_GB_Year       False\n",
       "Responses               False\n",
       "Fixes                   False\n",
       "Replacements            False\n",
       "Reliability             False\n",
       "Options                 False\n",
       "Respectfulness          False\n",
       "Courteous               False\n",
       "Listening               False\n",
       "dtype: bool"
      ]
     },
     "execution_count": 26,
     "metadata": {},
     "output_type": "execute_result"
    }
   ],
   "source": [
    "df.isna().any()"
   ]
  },
  {
   "cell_type": "code",
   "execution_count": 27,
   "id": "ad7dfab9",
   "metadata": {},
   "outputs": [],
   "source": [
    "data_nulls = df.isnull().sum()"
   ]
  },
  {
   "cell_type": "code",
   "execution_count": 28,
   "id": "9a0608eb",
   "metadata": {},
   "outputs": [
    {
     "name": "stdout",
     "output_type": "stream",
     "text": [
      "Customer_id                0\n",
      "Interaction                0\n",
      "City                       0\n",
      "State                      0\n",
      "County                     0\n",
      "Population                 0\n",
      "Area                       0\n",
      "Timezone                   0\n",
      "Job                        0\n",
      "Children                   0\n",
      "Age                        0\n",
      "Education                  0\n",
      "Employment                 0\n",
      "Income                     0\n",
      "Marital                    0\n",
      "Gender                     0\n",
      "Churn                      0\n",
      "Outage_sec_perweek         0\n",
      "Email                      0\n",
      "Contacts                   0\n",
      "Yearly_equip_failure       0\n",
      "Techie                  2477\n",
      "Contract                   0\n",
      "Port_modem                 0\n",
      "Tablet                     0\n",
      "InternetService            0\n",
      "Phone                   1026\n",
      "Multiple                   0\n",
      "OnlineSecurity             0\n",
      "OnlineBackup               0\n",
      "DeviceProtection           0\n",
      "TechSupport              991\n",
      "StreamingTV                0\n",
      "StreamingMovies            0\n",
      "PaperlessBilling           0\n",
      "PaymentMethod              0\n",
      "Tenure                     0\n",
      "MonthlyCharge              0\n",
      "Bandwidth_GB_Year          0\n",
      "Responses                  0\n",
      "Fixes                      0\n",
      "Replacements               0\n",
      "Reliability                0\n",
      "Options                    0\n",
      "Respectfulness             0\n",
      "Courteous                  0\n",
      "Listening                  0\n",
      "dtype: int64\n"
     ]
    }
   ],
   "source": [
    "print(data_nulls)"
   ]
  },
  {
   "cell_type": "code",
   "execution_count": 29,
   "id": "1d48da49",
   "metadata": {},
   "outputs": [],
   "source": [
    "rows_with_missing_values = df.isnull().any(axis=1)"
   ]
  },
  {
   "cell_type": "code",
   "execution_count": 30,
   "id": "df581e2b",
   "metadata": {},
   "outputs": [
    {
     "data": {
      "text/html": [
       "<div>\n",
       "<style scoped>\n",
       "    .dataframe tbody tr th:only-of-type {\n",
       "        vertical-align: middle;\n",
       "    }\n",
       "\n",
       "    .dataframe tbody tr th {\n",
       "        vertical-align: top;\n",
       "    }\n",
       "\n",
       "    .dataframe thead th {\n",
       "        text-align: right;\n",
       "    }\n",
       "</style>\n",
       "<table border=\"1\" class=\"dataframe\">\n",
       "  <thead>\n",
       "    <tr style=\"text-align: right;\">\n",
       "      <th></th>\n",
       "      <th>Customer_id</th>\n",
       "      <th>Interaction</th>\n",
       "      <th>City</th>\n",
       "      <th>State</th>\n",
       "      <th>County</th>\n",
       "      <th>Population</th>\n",
       "      <th>Area</th>\n",
       "      <th>Timezone</th>\n",
       "      <th>Job</th>\n",
       "      <th>Children</th>\n",
       "      <th>...</th>\n",
       "      <th>MonthlyCharge</th>\n",
       "      <th>Bandwidth_GB_Year</th>\n",
       "      <th>Responses</th>\n",
       "      <th>Fixes</th>\n",
       "      <th>Replacements</th>\n",
       "      <th>Reliability</th>\n",
       "      <th>Options</th>\n",
       "      <th>Respectfulness</th>\n",
       "      <th>Courteous</th>\n",
       "      <th>Listening</th>\n",
       "    </tr>\n",
       "  </thead>\n",
       "  <tbody>\n",
       "    <tr>\n",
       "      <th>8</th>\n",
       "      <td>M716771</td>\n",
       "      <td>05a49ee3-8fd5-453a-a5f3-82b6cd986856</td>\n",
       "      <td>Saint Cloud</td>\n",
       "      <td>FL</td>\n",
       "      <td>Osceola</td>\n",
       "      <td>17351</td>\n",
       "      <td>Suburban</td>\n",
       "      <td>America/New_York</td>\n",
       "      <td>Teaching laboratory technician</td>\n",
       "      <td>2.0</td>\n",
       "      <td>...</td>\n",
       "      <td>118.366844</td>\n",
       "      <td>1312.874964</td>\n",
       "      <td>5</td>\n",
       "      <td>4</td>\n",
       "      <td>4</td>\n",
       "      <td>3</td>\n",
       "      <td>4</td>\n",
       "      <td>3</td>\n",
       "      <td>4</td>\n",
       "      <td>4</td>\n",
       "    </tr>\n",
       "    <tr>\n",
       "      <th>9</th>\n",
       "      <td>I676080</td>\n",
       "      <td>86f17e4d-2c24-4b70-a6ec-dddf0609dbaa</td>\n",
       "      <td>Cincinnati</td>\n",
       "      <td>OH</td>\n",
       "      <td>Hamilton</td>\n",
       "      <td>20193</td>\n",
       "      <td>Rural</td>\n",
       "      <td>America/New_York</td>\n",
       "      <td>Museum education officer</td>\n",
       "      <td>1.0</td>\n",
       "      <td>...</td>\n",
       "      <td>163.005280</td>\n",
       "      <td>508.763791</td>\n",
       "      <td>2</td>\n",
       "      <td>2</td>\n",
       "      <td>2</td>\n",
       "      <td>2</td>\n",
       "      <td>5</td>\n",
       "      <td>2</td>\n",
       "      <td>3</td>\n",
       "      <td>3</td>\n",
       "    </tr>\n",
       "    <tr>\n",
       "      <th>20</th>\n",
       "      <td>X325271</td>\n",
       "      <td>ebf7fbd7-9f65-48d8-8f82-b7b7fd4f3412</td>\n",
       "      <td>Kaneville</td>\n",
       "      <td>IL</td>\n",
       "      <td>Kane</td>\n",
       "      <td>69</td>\n",
       "      <td>Rural</td>\n",
       "      <td>America/Chicago</td>\n",
       "      <td>Counsellor</td>\n",
       "      <td>4.0</td>\n",
       "      <td>...</td>\n",
       "      <td>185.096264</td>\n",
       "      <td>2330.319383</td>\n",
       "      <td>2</td>\n",
       "      <td>3</td>\n",
       "      <td>3</td>\n",
       "      <td>2</td>\n",
       "      <td>4</td>\n",
       "      <td>2</td>\n",
       "      <td>3</td>\n",
       "      <td>3</td>\n",
       "    </tr>\n",
       "    <tr>\n",
       "      <th>21</th>\n",
       "      <td>I282896</td>\n",
       "      <td>69fbc82f-1ea2-47a2-a056-d6f8d428b687</td>\n",
       "      <td>Columbus</td>\n",
       "      <td>OH</td>\n",
       "      <td>Franklin</td>\n",
       "      <td>14440</td>\n",
       "      <td>Suburban</td>\n",
       "      <td>America/New_York</td>\n",
       "      <td>Geophysical data processor</td>\n",
       "      <td>3.0</td>\n",
       "      <td>...</td>\n",
       "      <td>127.031777</td>\n",
       "      <td>594.105428</td>\n",
       "      <td>5</td>\n",
       "      <td>5</td>\n",
       "      <td>4</td>\n",
       "      <td>4</td>\n",
       "      <td>3</td>\n",
       "      <td>4</td>\n",
       "      <td>3</td>\n",
       "      <td>5</td>\n",
       "    </tr>\n",
       "    <tr>\n",
       "      <th>23</th>\n",
       "      <td>N37182</td>\n",
       "      <td>ab3bfaf3-94f1-4a14-b577-0e57178a7645</td>\n",
       "      <td>Baileyville</td>\n",
       "      <td>ME</td>\n",
       "      <td>Washington</td>\n",
       "      <td>2193</td>\n",
       "      <td>Urban</td>\n",
       "      <td>America/New_York</td>\n",
       "      <td>Event organiser</td>\n",
       "      <td>2.0</td>\n",
       "      <td>...</td>\n",
       "      <td>150.329512</td>\n",
       "      <td>945.380293</td>\n",
       "      <td>4</td>\n",
       "      <td>4</td>\n",
       "      <td>3</td>\n",
       "      <td>5</td>\n",
       "      <td>3</td>\n",
       "      <td>4</td>\n",
       "      <td>4</td>\n",
       "      <td>3</td>\n",
       "    </tr>\n",
       "    <tr>\n",
       "      <th>...</th>\n",
       "      <td>...</td>\n",
       "      <td>...</td>\n",
       "      <td>...</td>\n",
       "      <td>...</td>\n",
       "      <td>...</td>\n",
       "      <td>...</td>\n",
       "      <td>...</td>\n",
       "      <td>...</td>\n",
       "      <td>...</td>\n",
       "      <td>...</td>\n",
       "      <td>...</td>\n",
       "      <td>...</td>\n",
       "      <td>...</td>\n",
       "      <td>...</td>\n",
       "      <td>...</td>\n",
       "      <td>...</td>\n",
       "      <td>...</td>\n",
       "      <td>...</td>\n",
       "      <td>...</td>\n",
       "      <td>...</td>\n",
       "      <td>...</td>\n",
       "    </tr>\n",
       "    <tr>\n",
       "      <th>9986</th>\n",
       "      <td>J60514</td>\n",
       "      <td>1710afd3-43bd-4315-b925-2c8adeeb0a9a</td>\n",
       "      <td>Torrington</td>\n",
       "      <td>WY</td>\n",
       "      <td>Goshen</td>\n",
       "      <td>10489</td>\n",
       "      <td>Suburban</td>\n",
       "      <td>America/Denver</td>\n",
       "      <td>Minerals surveyor</td>\n",
       "      <td>2.0</td>\n",
       "      <td>...</td>\n",
       "      <td>205.472800</td>\n",
       "      <td>3382.424000</td>\n",
       "      <td>4</td>\n",
       "      <td>3</td>\n",
       "      <td>2</td>\n",
       "      <td>4</td>\n",
       "      <td>4</td>\n",
       "      <td>3</td>\n",
       "      <td>3</td>\n",
       "      <td>4</td>\n",
       "    </tr>\n",
       "    <tr>\n",
       "      <th>9990</th>\n",
       "      <td>N188089</td>\n",
       "      <td>89d0d064-307e-4f21-a5b4-6ec1137c8bfc</td>\n",
       "      <td>Gilmore City</td>\n",
       "      <td>IA</td>\n",
       "      <td>Humboldt</td>\n",
       "      <td>836</td>\n",
       "      <td>Rural</td>\n",
       "      <td>America/Chicago</td>\n",
       "      <td>Tax adviser</td>\n",
       "      <td>1.0</td>\n",
       "      <td>...</td>\n",
       "      <td>191.435800</td>\n",
       "      <td>5590.206000</td>\n",
       "      <td>1</td>\n",
       "      <td>1</td>\n",
       "      <td>1</td>\n",
       "      <td>3</td>\n",
       "      <td>4</td>\n",
       "      <td>2</td>\n",
       "      <td>3</td>\n",
       "      <td>1</td>\n",
       "    </tr>\n",
       "    <tr>\n",
       "      <th>9995</th>\n",
       "      <td>M324793</td>\n",
       "      <td>45deb5a2-ae04-4518-bf0b-c82db8dbe4a4</td>\n",
       "      <td>Mount Holly</td>\n",
       "      <td>VT</td>\n",
       "      <td>Rutland</td>\n",
       "      <td>640</td>\n",
       "      <td>Rural</td>\n",
       "      <td>America/New_York</td>\n",
       "      <td>Sport and exercise psychologist</td>\n",
       "      <td>3.0</td>\n",
       "      <td>...</td>\n",
       "      <td>159.828800</td>\n",
       "      <td>6511.253000</td>\n",
       "      <td>3</td>\n",
       "      <td>2</td>\n",
       "      <td>3</td>\n",
       "      <td>3</td>\n",
       "      <td>4</td>\n",
       "      <td>3</td>\n",
       "      <td>2</td>\n",
       "      <td>3</td>\n",
       "    </tr>\n",
       "    <tr>\n",
       "      <th>9996</th>\n",
       "      <td>D861732</td>\n",
       "      <td>6e96b921-0c09-4993-bbda-a1ac6411061a</td>\n",
       "      <td>Clarksville</td>\n",
       "      <td>TN</td>\n",
       "      <td>Montgomery</td>\n",
       "      <td>77168</td>\n",
       "      <td>Rural</td>\n",
       "      <td>America/Chicago</td>\n",
       "      <td>Consulting civil engineer</td>\n",
       "      <td>4.0</td>\n",
       "      <td>...</td>\n",
       "      <td>208.856400</td>\n",
       "      <td>5695.952000</td>\n",
       "      <td>4</td>\n",
       "      <td>5</td>\n",
       "      <td>5</td>\n",
       "      <td>4</td>\n",
       "      <td>4</td>\n",
       "      <td>5</td>\n",
       "      <td>2</td>\n",
       "      <td>5</td>\n",
       "    </tr>\n",
       "    <tr>\n",
       "      <th>9999</th>\n",
       "      <td>T38070</td>\n",
       "      <td>9de5fb6e-bd33-4995-aec8-f01d0172a499</td>\n",
       "      <td>Clarkesville</td>\n",
       "      <td>GA</td>\n",
       "      <td>Habersham</td>\n",
       "      <td>12230</td>\n",
       "      <td>Urban</td>\n",
       "      <td>America/New_York</td>\n",
       "      <td>Personal assistant</td>\n",
       "      <td>1.0</td>\n",
       "      <td>...</td>\n",
       "      <td>218.371000</td>\n",
       "      <td>5857.586000</td>\n",
       "      <td>2</td>\n",
       "      <td>2</td>\n",
       "      <td>3</td>\n",
       "      <td>3</td>\n",
       "      <td>3</td>\n",
       "      <td>3</td>\n",
       "      <td>4</td>\n",
       "      <td>1</td>\n",
       "    </tr>\n",
       "  </tbody>\n",
       "</table>\n",
       "<p>3922 rows × 47 columns</p>\n",
       "</div>"
      ],
      "text/plain": [
       "     Customer_id                           Interaction          City State  \\\n",
       "8        M716771  05a49ee3-8fd5-453a-a5f3-82b6cd986856   Saint Cloud    FL   \n",
       "9        I676080  86f17e4d-2c24-4b70-a6ec-dddf0609dbaa    Cincinnati    OH   \n",
       "20       X325271  ebf7fbd7-9f65-48d8-8f82-b7b7fd4f3412     Kaneville    IL   \n",
       "21       I282896  69fbc82f-1ea2-47a2-a056-d6f8d428b687      Columbus    OH   \n",
       "23        N37182  ab3bfaf3-94f1-4a14-b577-0e57178a7645   Baileyville    ME   \n",
       "...          ...                                   ...           ...   ...   \n",
       "9986      J60514  1710afd3-43bd-4315-b925-2c8adeeb0a9a    Torrington    WY   \n",
       "9990     N188089  89d0d064-307e-4f21-a5b4-6ec1137c8bfc  Gilmore City    IA   \n",
       "9995     M324793  45deb5a2-ae04-4518-bf0b-c82db8dbe4a4   Mount Holly    VT   \n",
       "9996     D861732  6e96b921-0c09-4993-bbda-a1ac6411061a   Clarksville    TN   \n",
       "9999      T38070  9de5fb6e-bd33-4995-aec8-f01d0172a499  Clarkesville    GA   \n",
       "\n",
       "          County  Population      Area          Timezone  \\\n",
       "8        Osceola       17351  Suburban  America/New_York   \n",
       "9       Hamilton       20193     Rural  America/New_York   \n",
       "20          Kane          69     Rural   America/Chicago   \n",
       "21      Franklin       14440  Suburban  America/New_York   \n",
       "23    Washington        2193     Urban  America/New_York   \n",
       "...          ...         ...       ...               ...   \n",
       "9986      Goshen       10489  Suburban    America/Denver   \n",
       "9990    Humboldt         836     Rural   America/Chicago   \n",
       "9995     Rutland         640     Rural  America/New_York   \n",
       "9996  Montgomery       77168     Rural   America/Chicago   \n",
       "9999   Habersham       12230     Urban  America/New_York   \n",
       "\n",
       "                                  Job  Children  ...  MonthlyCharge  \\\n",
       "8      Teaching laboratory technician       2.0  ...     118.366844   \n",
       "9            Museum education officer       1.0  ...     163.005280   \n",
       "20                         Counsellor       4.0  ...     185.096264   \n",
       "21         Geophysical data processor       3.0  ...     127.031777   \n",
       "23                    Event organiser       2.0  ...     150.329512   \n",
       "...                               ...       ...  ...            ...   \n",
       "9986                Minerals surveyor       2.0  ...     205.472800   \n",
       "9990                      Tax adviser       1.0  ...     191.435800   \n",
       "9995  Sport and exercise psychologist       3.0  ...     159.828800   \n",
       "9996        Consulting civil engineer       4.0  ...     208.856400   \n",
       "9999               Personal assistant       1.0  ...     218.371000   \n",
       "\n",
       "     Bandwidth_GB_Year Responses  Fixes Replacements Reliability Options  \\\n",
       "8          1312.874964         5      4            4           3       4   \n",
       "9           508.763791         2      2            2           2       5   \n",
       "20         2330.319383         2      3            3           2       4   \n",
       "21          594.105428         5      5            4           4       3   \n",
       "23          945.380293         4      4            3           5       3   \n",
       "...                ...       ...    ...          ...         ...     ...   \n",
       "9986       3382.424000         4      3            2           4       4   \n",
       "9990       5590.206000         1      1            1           3       4   \n",
       "9995       6511.253000         3      2            3           3       4   \n",
       "9996       5695.952000         4      5            5           4       4   \n",
       "9999       5857.586000         2      2            3           3       3   \n",
       "\n",
       "      Respectfulness  Courteous  Listening  \n",
       "8                  3          4          4  \n",
       "9                  2          3          3  \n",
       "20                 2          3          3  \n",
       "21                 4          3          5  \n",
       "23                 4          4          3  \n",
       "...              ...        ...        ...  \n",
       "9986               3          3          4  \n",
       "9990               2          3          1  \n",
       "9995               3          2          3  \n",
       "9996               5          2          5  \n",
       "9999               3          4          1  \n",
       "\n",
       "[3922 rows x 47 columns]"
      ]
     },
     "execution_count": 30,
     "metadata": {},
     "output_type": "execute_result"
    }
   ],
   "source": [
    "df[rows_with_missing_values]"
   ]
  },
  {
   "cell_type": "code",
   "execution_count": 31,
   "id": "6076938c",
   "metadata": {},
   "outputs": [
    {
     "data": {
      "text/plain": [
       "array(['Part Time', 'Retired', 'Student', 'Full Time', 'Unemployed'],\n",
       "      dtype=object)"
      ]
     },
     "execution_count": 31,
     "metadata": {},
     "output_type": "execute_result"
    }
   ],
   "source": [
    "df['Employment'].unique()"
   ]
  },
  {
   "cell_type": "code",
   "execution_count": 32,
   "id": "5f156d14",
   "metadata": {},
   "outputs": [
    {
     "data": {
      "text/plain": [
       "array(['Urban', 'Suburban', 'Rural'], dtype=object)"
      ]
     },
     "execution_count": 32,
     "metadata": {},
     "output_type": "execute_result"
    }
   ],
   "source": [
    "df['Area'].unique()"
   ]
  },
  {
   "cell_type": "code",
   "execution_count": 34,
   "id": "5cdd3e36",
   "metadata": {},
   "outputs": [
    {
     "data": {
      "text/plain": [
       "array(['America/Sitka', 'America/Detroit', 'America/Los_Angeles',\n",
       "       'America/Chicago', 'America/New_York', 'America/Puerto_Rico',\n",
       "       'America/Denver', 'America/Menominee', 'America/Phoenix',\n",
       "       'America/Indiana/Indianapolis', 'America/Boise',\n",
       "       'America/Kentucky/Louisville', 'Pacific/Honolulu',\n",
       "       'America/Indiana/Petersburg', 'America/Nome', 'America/Anchorage',\n",
       "       'America/Indiana/Knox', 'America/Juneau', 'America/Toronto',\n",
       "       'America/Indiana/Winamac', 'America/Indiana/Vincennes',\n",
       "       'America/North_Dakota/New_Salem', 'America/Indiana/Tell_City',\n",
       "       'America/Indiana/Marengo', 'America/Ojinaga'], dtype=object)"
      ]
     },
     "execution_count": 34,
     "metadata": {},
     "output_type": "execute_result"
    }
   ],
   "source": [
    "df['Timezone'].unique()"
   ]
  },
  {
   "cell_type": "code",
   "execution_count": 37,
   "id": "8fdcc397",
   "metadata": {},
   "outputs": [
    {
     "data": {
      "text/plain": [
       "639"
      ]
     },
     "execution_count": 37,
     "metadata": {},
     "output_type": "execute_result"
    }
   ],
   "source": [
    "len(df['Job'].unique())"
   ]
  },
  {
   "cell_type": "code",
   "execution_count": 38,
   "id": "ff2defbf",
   "metadata": {},
   "outputs": [
    {
     "data": {
      "text/plain": [
       "array([ 1.,  4.,  0.,  3.,  2.,  7.,  5.,  9.,  6., 10.,  8.])"
      ]
     },
     "execution_count": 38,
     "metadata": {},
     "output_type": "execute_result"
    }
   ],
   "source": [
    "df['Children'].unique()"
   ]
  },
  {
   "cell_type": "code",
   "execution_count": 39,
   "id": "0fce864b",
   "metadata": {},
   "outputs": [
    {
     "data": {
      "text/plain": [
       "array([68., 27., 50., 48., 83., 53., 49., 86., 23., 56., 30., 39., 63.,\n",
       "       60., 61., 52., 75., 77., 47., 70., 69., 45., 40., 82., 26., 25.,\n",
       "       66., 72., 41., 44., 43., 84., 59., 31., 51., 58., 73., 33., 42.,\n",
       "       81., 87., 54., 67., 46., 24., 20., 71., 32., 29., 80., 79., 65.,\n",
       "       35., 34., 74., 55., 76., 57., 38., 78., 19., 36., 88., 62., 37.,\n",
       "       28., 22., 85., 89., 18., 21., 64.])"
      ]
     },
     "execution_count": 39,
     "metadata": {},
     "output_type": "execute_result"
    }
   ],
   "source": [
    "df['Age'].unique()"
   ]
  },
  {
   "cell_type": "code",
   "execution_count": 40,
   "id": "a259130b",
   "metadata": {},
   "outputs": [],
   "source": [
    "age_range = df['Age'].unique()"
   ]
  },
  {
   "cell_type": "code",
   "execution_count": 41,
   "id": "9f9591c6",
   "metadata": {},
   "outputs": [
    {
     "name": "stdout",
     "output_type": "stream",
     "text": [
      "[18.0, 19.0, 20.0, 21.0, 22.0, 23.0, 24.0, 25.0, 26.0, 27.0, 28.0, 29.0, 30.0, 31.0, 32.0, 33.0, 34.0, 35.0, 36.0, 37.0, 38.0, 39.0, 40.0, 41.0, 42.0, 43.0, 44.0, 45.0, 46.0, 47.0, 48.0, 49.0, 50.0, 51.0, 52.0, 53.0, 54.0, 55.0, 56.0, 57.0, 58.0, 59.0, 60.0, 61.0, 62.0, 63.0, 64.0, 65.0, 66.0, 67.0, 68.0, 69.0, 70.0, 71.0, 72.0, 73.0, 74.0, 75.0, 76.0, 77.0, 78.0, 79.0, 80.0, 81.0, 82.0, 83.0, 84.0, 85.0, 86.0, 87.0, 88.0, 89.0]\n"
     ]
    }
   ],
   "source": [
    "print(sorted(age_range))"
   ]
  },
  {
   "cell_type": "code",
   "execution_count": 42,
   "id": "868513f4",
   "metadata": {},
   "outputs": [
    {
     "data": {
      "text/plain": [
       "array([\"Master's Degree\", 'Regular High School Diploma',\n",
       "       'Doctorate Degree', 'No Schooling Completed', \"Associate's Degree\",\n",
       "       \"Bachelor's Degree\", 'Some College, Less than 1 Year',\n",
       "       'GED or Alternative Credential',\n",
       "       'Some College, 1 or More Years, No Degree',\n",
       "       '9th Grade to 12th Grade, No Diploma',\n",
       "       'Nursery School to 8th Grade', 'Professional School Degree'],\n",
       "      dtype=object)"
      ]
     },
     "execution_count": 42,
     "metadata": {},
     "output_type": "execute_result"
    }
   ],
   "source": [
    "df['Education'].unique()"
   ]
  },
  {
   "cell_type": "code",
   "execution_count": 43,
   "id": "8a5029e8",
   "metadata": {},
   "outputs": [
    {
     "data": {
      "text/plain": [
       "array(['Part Time', 'Retired', 'Student', 'Full Time', 'Unemployed'],\n",
       "      dtype=object)"
      ]
     },
     "execution_count": 43,
     "metadata": {},
     "output_type": "execute_result"
    }
   ],
   "source": [
    "df['Employment'].unique()"
   ]
  },
  {
   "cell_type": "code",
   "execution_count": 44,
   "id": "2a81b4dd",
   "metadata": {},
   "outputs": [
    {
     "data": {
      "text/plain": [
       "array(['Widowed', 'Married', 'Separated', 'Never Married', 'Divorced'],\n",
       "      dtype=object)"
      ]
     },
     "execution_count": 44,
     "metadata": {},
     "output_type": "execute_result"
    }
   ],
   "source": [
    "df['Marital'].unique()"
   ]
  },
  {
   "cell_type": "code",
   "execution_count": 45,
   "id": "bf4bfe1a",
   "metadata": {},
   "outputs": [
    {
     "data": {
      "text/plain": [
       "array(['Male', 'Female', 'Prefer not to answer'], dtype=object)"
      ]
     },
     "execution_count": 45,
     "metadata": {},
     "output_type": "execute_result"
    }
   ],
   "source": [
    "df['Gender'].unique()"
   ]
  },
  {
   "cell_type": "code",
   "execution_count": 46,
   "id": "9b44238d",
   "metadata": {},
   "outputs": [
    {
     "data": {
      "text/plain": [
       "array(['One year', 'Month-to-month', 'Two Year'], dtype=object)"
      ]
     },
     "execution_count": 46,
     "metadata": {},
     "output_type": "execute_result"
    }
   ],
   "source": [
    "df['Contract'].unique()"
   ]
  },
  {
   "cell_type": "code",
   "execution_count": 47,
   "id": "7a8eb7bc",
   "metadata": {},
   "outputs": [
    {
     "data": {
      "text/plain": [
       "array(['Credit Card (automatic)', 'Bank Transfer(automatic)',\n",
       "       'Mailed Check', 'Electronic Check'], dtype=object)"
      ]
     },
     "execution_count": 47,
     "metadata": {},
     "output_type": "execute_result"
    }
   ],
   "source": [
    "df['PaymentMethod'].unique()"
   ]
  },
  {
   "cell_type": "code",
   "execution_count": 48,
   "id": "1ba1e0fc",
   "metadata": {},
   "outputs": [],
   "source": [
    "data_duplicates = df.loc[df.duplicated()]"
   ]
  },
  {
   "cell_type": "code",
   "execution_count": 49,
   "id": "9c2f2bdd",
   "metadata": {},
   "outputs": [
    {
     "name": "stdout",
     "output_type": "stream",
     "text": [
      "Empty DataFrame\n",
      "Columns: [Customer_id, Interaction, City, State, County, Population, Area, Timezone, Job, Children, Age, Education, Employment, Income, Marital, Gender, Churn, Outage_sec_perweek, Email, Contacts, Yearly_equip_failure, Techie, Contract, Port_modem, Tablet, InternetService, Phone, Multiple, OnlineSecurity, OnlineBackup, DeviceProtection, TechSupport, StreamingTV, StreamingMovies, PaperlessBilling, PaymentMethod, Tenure, MonthlyCharge, Bandwidth_GB_Year, Responses, Fixes, Replacements, Reliability, Options, Respectfulness, Courteous, Listening]\n",
      "Index: []\n",
      "\n",
      "[0 rows x 47 columns]\n"
     ]
    }
   ],
   "source": [
    "print(data_duplicates)"
   ]
  },
  {
   "cell_type": "code",
   "execution_count": 56,
   "id": "29118117",
   "metadata": {},
   "outputs": [],
   "source": [
    "import numpy as np"
   ]
  },
  {
   "cell_type": "code",
   "execution_count": 57,
   "id": "a1f9fddb",
   "metadata": {},
   "outputs": [],
   "source": [
    "import pandas as pd"
   ]
  },
  {
   "cell_type": "code",
   "execution_count": 58,
   "id": "50a4cd6a",
   "metadata": {},
   "outputs": [],
   "source": [
    "from pandas import DataFrame"
   ]
  },
  {
   "cell_type": "code",
   "execution_count": 59,
   "id": "95509d4e",
   "metadata": {},
   "outputs": [],
   "source": [
    "import scipy.stats as stats"
   ]
  },
  {
   "cell_type": "code",
   "execution_count": 68,
   "id": "7ed8a71e",
   "metadata": {},
   "outputs": [
    {
     "name": "stderr",
     "output_type": "stream",
     "text": [
      "C:\\Users\\JoyO'halloran\\AppData\\Local\\Temp\\ipykernel_29468\\3390915376.py:1: FutureWarning: Dropping of nuisance columns in DataFrame reductions (with 'numeric_only=None') is deprecated; in a future version this will raise TypeError.  Select only valid columns before calling the reduction.\n",
      "  df.std()\n"
     ]
    },
    {
     "data": {
      "text/plain": [
       "Population              14432.698671\n",
       "Children                    1.925971\n",
       "Age                        18.003457\n",
       "Income                  24747.872761\n",
       "Outage_sec_perweek          7.025921\n",
       "Email                       3.025898\n",
       "Contacts                    0.988466\n",
       "Yearly_equip_failure        0.635953\n",
       "Tenure                     25.182812\n",
       "MonthlyCharge              43.335473\n",
       "Bandwidth_GB_Year        2072.718575\n",
       "Responses                   1.037797\n",
       "Fixes                       1.034641\n",
       "Replacements                1.027977\n",
       "Reliability                 1.025816\n",
       "Options                     1.024819\n",
       "Respectfulness              1.033586\n",
       "Courteous                   1.028502\n",
       "Listening                   1.028633\n",
       "dtype: float64"
      ]
     },
     "execution_count": 68,
     "metadata": {},
     "output_type": "execute_result"
    }
   ],
   "source": [
    "df.std()"
   ]
  },
  {
   "cell_type": "code",
   "execution_count": 72,
   "id": "b9a5c588",
   "metadata": {},
   "outputs": [],
   "source": [
    "nulls = df.isnull().sum().to_frame()\n"
   ]
  },
  {
   "cell_type": "code",
   "execution_count": 73,
   "id": "76adad45",
   "metadata": {},
   "outputs": [
    {
     "name": "stdout",
     "output_type": "stream",
     "text": [
      "Customer_id                0\n",
      "Interaction                0\n",
      "City                       0\n",
      "State                      0\n",
      "County                     0\n",
      "Population                 0\n",
      "Area                       0\n",
      "Timezone                   0\n",
      "Job                        0\n",
      "Children                   0\n",
      "Age                        0\n",
      "Education                  0\n",
      "Employment                 0\n",
      "Income                     0\n",
      "Marital                    0\n",
      "Gender                     0\n",
      "Churn                      0\n",
      "Outage_sec_perweek         0\n",
      "Email                      0\n",
      "Contacts                   0\n",
      "Yearly_equip_failure       0\n",
      "Techie                  2477\n",
      "Contract                   0\n",
      "Port_modem                 0\n",
      "Tablet                     0\n",
      "InternetService            0\n",
      "Phone                   1026\n",
      "Multiple                   0\n",
      "OnlineSecurity             0\n",
      "OnlineBackup               0\n",
      "DeviceProtection           0\n",
      "TechSupport              991\n",
      "StreamingTV                0\n",
      "StreamingMovies            0\n",
      "PaperlessBilling           0\n",
      "PaymentMethod              0\n",
      "Tenure                     0\n",
      "MonthlyCharge              0\n",
      "Bandwidth_GB_Year          0\n",
      "Responses                  0\n",
      "Fixes                      0\n",
      "Replacements               0\n",
      "Reliability                0\n",
      "Options                    0\n",
      "Respectfulness             0\n",
      "Courteous                  0\n",
      "Listening                  0\n",
      "dtype: int64\n"
     ]
    }
   ],
   "source": [
    "print(data_nulls)"
   ]
  },
  {
   "cell_type": "code",
   "execution_count": 89,
   "id": "a5cccf7b",
   "metadata": {},
   "outputs": [
    {
     "name": "stdout",
     "output_type": "stream",
     "text": [
      "<class 'pandas.core.frame.DataFrame'>\n",
      "RangeIndex: 10000 entries, 0 to 9999\n",
      "Data columns (total 47 columns):\n",
      " #   Column                Non-Null Count  Dtype  \n",
      "---  ------                --------------  -----  \n",
      " 0   Customer_id           10000 non-null  object \n",
      " 1   Interaction           10000 non-null  object \n",
      " 2   City                  10000 non-null  object \n",
      " 3   State                 10000 non-null  object \n",
      " 4   County                10000 non-null  object \n",
      " 5   Population            10000 non-null  int64  \n",
      " 6   Area                  10000 non-null  object \n",
      " 7   Timezone              10000 non-null  object \n",
      " 8   Job                   10000 non-null  object \n",
      " 9   Children              10000 non-null  float64\n",
      " 10  Age                   10000 non-null  float64\n",
      " 11  Education             10000 non-null  object \n",
      " 12  Employment            10000 non-null  object \n",
      " 13  Income                10000 non-null  float64\n",
      " 14  Marital               10000 non-null  object \n",
      " 15  Gender                10000 non-null  object \n",
      " 16  Churn                 10000 non-null  object \n",
      " 17  Outage_sec_perweek    10000 non-null  float64\n",
      " 18  Email                 10000 non-null  int64  \n",
      " 19  Contacts              10000 non-null  int64  \n",
      " 20  Yearly_equip_failure  10000 non-null  int64  \n",
      " 21  Techie                7523 non-null   object \n",
      " 22  Contract              10000 non-null  object \n",
      " 23  Port_modem            10000 non-null  object \n",
      " 24  Tablet                10000 non-null  object \n",
      " 25  InternetService       10000 non-null  object \n",
      " 26  Phone                 8974 non-null   object \n",
      " 27  Multiple              10000 non-null  object \n",
      " 28  OnlineSecurity        10000 non-null  object \n",
      " 29  OnlineBackup          10000 non-null  object \n",
      " 30  DeviceProtection      10000 non-null  object \n",
      " 31  TechSupport           9009 non-null   object \n",
      " 32  StreamingTV           10000 non-null  object \n",
      " 33  StreamingMovies       10000 non-null  object \n",
      " 34  PaperlessBilling      10000 non-null  object \n",
      " 35  PaymentMethod         10000 non-null  object \n",
      " 36  Tenure                10000 non-null  float64\n",
      " 37  MonthlyCharge         10000 non-null  float64\n",
      " 38  Bandwidth_GB_Year     10000 non-null  float64\n",
      " 39  Responses             10000 non-null  int64  \n",
      " 40  Fixes                 10000 non-null  int64  \n",
      " 41  Replacements          10000 non-null  int64  \n",
      " 42  Reliability           10000 non-null  int64  \n",
      " 43  Options               10000 non-null  int64  \n",
      " 44  Respectfulness        10000 non-null  int64  \n",
      " 45  Courteous             10000 non-null  int64  \n",
      " 46  Listening             10000 non-null  int64  \n",
      "dtypes: float64(7), int64(12), object(28)\n",
      "memory usage: 3.6+ MB\n"
     ]
    }
   ],
   "source": [
    "df.info()"
   ]
  },
  {
   "cell_type": "code",
   "execution_count": 90,
   "id": "0626a93f",
   "metadata": {},
   "outputs": [
    {
     "data": {
      "text/plain": [
       "0       False\n",
       "1       False\n",
       "2       False\n",
       "3       False\n",
       "4       False\n",
       "        ...  \n",
       "9995    False\n",
       "9996    False\n",
       "9997    False\n",
       "9998    False\n",
       "9999    False\n",
       "Length: 10000, dtype: bool"
      ]
     },
     "execution_count": 90,
     "metadata": {},
     "output_type": "execute_result"
    }
   ],
   "source": [
    "df.duplicated()"
   ]
  },
  {
   "cell_type": "code",
   "execution_count": 91,
   "id": "de3c819f",
   "metadata": {},
   "outputs": [
    {
     "name": "stdout",
     "output_type": "stream",
     "text": [
      "False    10000\n",
      "dtype: int64\n"
     ]
    }
   ],
   "source": [
    "print(df.duplicated().value_counts())"
   ]
  },
  {
   "cell_type": "code",
   "execution_count": 92,
   "id": "a1654e58",
   "metadata": {},
   "outputs": [
    {
     "data": {
      "text/html": [
       "<div>\n",
       "<style scoped>\n",
       "    .dataframe tbody tr th:only-of-type {\n",
       "        vertical-align: middle;\n",
       "    }\n",
       "\n",
       "    .dataframe tbody tr th {\n",
       "        vertical-align: top;\n",
       "    }\n",
       "\n",
       "    .dataframe thead th {\n",
       "        text-align: right;\n",
       "    }\n",
       "</style>\n",
       "<table border=\"1\" class=\"dataframe\">\n",
       "  <thead>\n",
       "    <tr style=\"text-align: right;\">\n",
       "      <th></th>\n",
       "      <th>Customer_id</th>\n",
       "      <th>Interaction</th>\n",
       "      <th>City</th>\n",
       "      <th>State</th>\n",
       "      <th>County</th>\n",
       "      <th>Population</th>\n",
       "      <th>Area</th>\n",
       "      <th>Timezone</th>\n",
       "      <th>Job</th>\n",
       "      <th>Children</th>\n",
       "      <th>...</th>\n",
       "      <th>MonthlyCharge</th>\n",
       "      <th>Bandwidth_GB_Year</th>\n",
       "      <th>Responses</th>\n",
       "      <th>Fixes</th>\n",
       "      <th>Replacements</th>\n",
       "      <th>Reliability</th>\n",
       "      <th>Options</th>\n",
       "      <th>Respectfulness</th>\n",
       "      <th>Courteous</th>\n",
       "      <th>Listening</th>\n",
       "    </tr>\n",
       "  </thead>\n",
       "  <tbody>\n",
       "    <tr>\n",
       "      <th>0</th>\n",
       "      <td>K409198</td>\n",
       "      <td>aa90260b-4141-4a24-8e36-b04ce1f4f77b</td>\n",
       "      <td>Point Baker</td>\n",
       "      <td>AK</td>\n",
       "      <td>Prince of Wales-Hyder</td>\n",
       "      <td>38</td>\n",
       "      <td>Urban</td>\n",
       "      <td>America/Sitka</td>\n",
       "      <td>Environmental health practitioner</td>\n",
       "      <td>1.0</td>\n",
       "      <td>...</td>\n",
       "      <td>171.449762</td>\n",
       "      <td>904.536110</td>\n",
       "      <td>5</td>\n",
       "      <td>5</td>\n",
       "      <td>5</td>\n",
       "      <td>3</td>\n",
       "      <td>4</td>\n",
       "      <td>4</td>\n",
       "      <td>3</td>\n",
       "      <td>4</td>\n",
       "    </tr>\n",
       "    <tr>\n",
       "      <th>1</th>\n",
       "      <td>S120509</td>\n",
       "      <td>fb76459f-c047-4a9d-8af9-e0f7d4ac2524</td>\n",
       "      <td>West Branch</td>\n",
       "      <td>MI</td>\n",
       "      <td>Ogemaw</td>\n",
       "      <td>10446</td>\n",
       "      <td>Urban</td>\n",
       "      <td>America/Detroit</td>\n",
       "      <td>Programmer, multimedia</td>\n",
       "      <td>1.0</td>\n",
       "      <td>...</td>\n",
       "      <td>242.948015</td>\n",
       "      <td>800.982766</td>\n",
       "      <td>3</td>\n",
       "      <td>4</td>\n",
       "      <td>3</td>\n",
       "      <td>3</td>\n",
       "      <td>4</td>\n",
       "      <td>3</td>\n",
       "      <td>4</td>\n",
       "      <td>4</td>\n",
       "    </tr>\n",
       "    <tr>\n",
       "      <th>2</th>\n",
       "      <td>K191035</td>\n",
       "      <td>344d114c-3736-4be5-98f7-c72c281e2d35</td>\n",
       "      <td>Yamhill</td>\n",
       "      <td>OR</td>\n",
       "      <td>Yamhill</td>\n",
       "      <td>3735</td>\n",
       "      <td>Urban</td>\n",
       "      <td>America/Los_Angeles</td>\n",
       "      <td>Chief Financial Officer</td>\n",
       "      <td>4.0</td>\n",
       "      <td>...</td>\n",
       "      <td>159.440398</td>\n",
       "      <td>2054.706961</td>\n",
       "      <td>4</td>\n",
       "      <td>4</td>\n",
       "      <td>2</td>\n",
       "      <td>4</td>\n",
       "      <td>4</td>\n",
       "      <td>3</td>\n",
       "      <td>3</td>\n",
       "      <td>3</td>\n",
       "    </tr>\n",
       "    <tr>\n",
       "      <th>3</th>\n",
       "      <td>D90850</td>\n",
       "      <td>abfa2b40-2d43-4994-b15a-989b8c79e311</td>\n",
       "      <td>Del Mar</td>\n",
       "      <td>CA</td>\n",
       "      <td>San Diego</td>\n",
       "      <td>13863</td>\n",
       "      <td>Suburban</td>\n",
       "      <td>America/Los_Angeles</td>\n",
       "      <td>Solicitor</td>\n",
       "      <td>1.0</td>\n",
       "      <td>...</td>\n",
       "      <td>120.249493</td>\n",
       "      <td>2164.579412</td>\n",
       "      <td>4</td>\n",
       "      <td>4</td>\n",
       "      <td>4</td>\n",
       "      <td>2</td>\n",
       "      <td>5</td>\n",
       "      <td>4</td>\n",
       "      <td>3</td>\n",
       "      <td>3</td>\n",
       "    </tr>\n",
       "    <tr>\n",
       "      <th>4</th>\n",
       "      <td>K662701</td>\n",
       "      <td>68a861fd-0d20-4e51-a587-8a90407ee574</td>\n",
       "      <td>Needville</td>\n",
       "      <td>TX</td>\n",
       "      <td>Fort Bend</td>\n",
       "      <td>11352</td>\n",
       "      <td>Suburban</td>\n",
       "      <td>America/Chicago</td>\n",
       "      <td>Medical illustrator</td>\n",
       "      <td>0.0</td>\n",
       "      <td>...</td>\n",
       "      <td>150.761216</td>\n",
       "      <td>271.493436</td>\n",
       "      <td>4</td>\n",
       "      <td>4</td>\n",
       "      <td>4</td>\n",
       "      <td>3</td>\n",
       "      <td>4</td>\n",
       "      <td>4</td>\n",
       "      <td>4</td>\n",
       "      <td>5</td>\n",
       "    </tr>\n",
       "    <tr>\n",
       "      <th>...</th>\n",
       "      <td>...</td>\n",
       "      <td>...</td>\n",
       "      <td>...</td>\n",
       "      <td>...</td>\n",
       "      <td>...</td>\n",
       "      <td>...</td>\n",
       "      <td>...</td>\n",
       "      <td>...</td>\n",
       "      <td>...</td>\n",
       "      <td>...</td>\n",
       "      <td>...</td>\n",
       "      <td>...</td>\n",
       "      <td>...</td>\n",
       "      <td>...</td>\n",
       "      <td>...</td>\n",
       "      <td>...</td>\n",
       "      <td>...</td>\n",
       "      <td>...</td>\n",
       "      <td>...</td>\n",
       "      <td>...</td>\n",
       "      <td>...</td>\n",
       "    </tr>\n",
       "    <tr>\n",
       "      <th>9995</th>\n",
       "      <td>M324793</td>\n",
       "      <td>45deb5a2-ae04-4518-bf0b-c82db8dbe4a4</td>\n",
       "      <td>Mount Holly</td>\n",
       "      <td>VT</td>\n",
       "      <td>Rutland</td>\n",
       "      <td>640</td>\n",
       "      <td>Rural</td>\n",
       "      <td>America/New_York</td>\n",
       "      <td>Sport and exercise psychologist</td>\n",
       "      <td>3.0</td>\n",
       "      <td>...</td>\n",
       "      <td>159.828800</td>\n",
       "      <td>6511.253000</td>\n",
       "      <td>3</td>\n",
       "      <td>2</td>\n",
       "      <td>3</td>\n",
       "      <td>3</td>\n",
       "      <td>4</td>\n",
       "      <td>3</td>\n",
       "      <td>2</td>\n",
       "      <td>3</td>\n",
       "    </tr>\n",
       "    <tr>\n",
       "      <th>9996</th>\n",
       "      <td>D861732</td>\n",
       "      <td>6e96b921-0c09-4993-bbda-a1ac6411061a</td>\n",
       "      <td>Clarksville</td>\n",
       "      <td>TN</td>\n",
       "      <td>Montgomery</td>\n",
       "      <td>77168</td>\n",
       "      <td>Rural</td>\n",
       "      <td>America/Chicago</td>\n",
       "      <td>Consulting civil engineer</td>\n",
       "      <td>4.0</td>\n",
       "      <td>...</td>\n",
       "      <td>208.856400</td>\n",
       "      <td>5695.952000</td>\n",
       "      <td>4</td>\n",
       "      <td>5</td>\n",
       "      <td>5</td>\n",
       "      <td>4</td>\n",
       "      <td>4</td>\n",
       "      <td>5</td>\n",
       "      <td>2</td>\n",
       "      <td>5</td>\n",
       "    </tr>\n",
       "    <tr>\n",
       "      <th>9997</th>\n",
       "      <td>I243405</td>\n",
       "      <td>e8307ddf-9a01-4fff-bc59-4742e03fd24f</td>\n",
       "      <td>Mobeetie</td>\n",
       "      <td>TX</td>\n",
       "      <td>Wheeler</td>\n",
       "      <td>406</td>\n",
       "      <td>Rural</td>\n",
       "      <td>America/Chicago</td>\n",
       "      <td>IT technical support officer</td>\n",
       "      <td>1.0</td>\n",
       "      <td>...</td>\n",
       "      <td>168.220900</td>\n",
       "      <td>4159.306000</td>\n",
       "      <td>4</td>\n",
       "      <td>4</td>\n",
       "      <td>4</td>\n",
       "      <td>4</td>\n",
       "      <td>4</td>\n",
       "      <td>4</td>\n",
       "      <td>4</td>\n",
       "      <td>5</td>\n",
       "    </tr>\n",
       "    <tr>\n",
       "      <th>9998</th>\n",
       "      <td>I641617</td>\n",
       "      <td>3775ccfc-0052-4107-81ae-9657f81ecdf3</td>\n",
       "      <td>Carrollton</td>\n",
       "      <td>GA</td>\n",
       "      <td>Carroll</td>\n",
       "      <td>35575</td>\n",
       "      <td>Urban</td>\n",
       "      <td>America/New_York</td>\n",
       "      <td>Water engineer</td>\n",
       "      <td>1.0</td>\n",
       "      <td>...</td>\n",
       "      <td>252.628600</td>\n",
       "      <td>6468.457000</td>\n",
       "      <td>4</td>\n",
       "      <td>4</td>\n",
       "      <td>6</td>\n",
       "      <td>4</td>\n",
       "      <td>3</td>\n",
       "      <td>3</td>\n",
       "      <td>5</td>\n",
       "      <td>4</td>\n",
       "    </tr>\n",
       "    <tr>\n",
       "      <th>9999</th>\n",
       "      <td>T38070</td>\n",
       "      <td>9de5fb6e-bd33-4995-aec8-f01d0172a499</td>\n",
       "      <td>Clarkesville</td>\n",
       "      <td>GA</td>\n",
       "      <td>Habersham</td>\n",
       "      <td>12230</td>\n",
       "      <td>Urban</td>\n",
       "      <td>America/New_York</td>\n",
       "      <td>Personal assistant</td>\n",
       "      <td>1.0</td>\n",
       "      <td>...</td>\n",
       "      <td>218.371000</td>\n",
       "      <td>5857.586000</td>\n",
       "      <td>2</td>\n",
       "      <td>2</td>\n",
       "      <td>3</td>\n",
       "      <td>3</td>\n",
       "      <td>3</td>\n",
       "      <td>3</td>\n",
       "      <td>4</td>\n",
       "      <td>1</td>\n",
       "    </tr>\n",
       "  </tbody>\n",
       "</table>\n",
       "<p>10000 rows × 47 columns</p>\n",
       "</div>"
      ],
      "text/plain": [
       "     Customer_id                           Interaction          City State  \\\n",
       "0        K409198  aa90260b-4141-4a24-8e36-b04ce1f4f77b   Point Baker    AK   \n",
       "1        S120509  fb76459f-c047-4a9d-8af9-e0f7d4ac2524   West Branch    MI   \n",
       "2        K191035  344d114c-3736-4be5-98f7-c72c281e2d35       Yamhill    OR   \n",
       "3         D90850  abfa2b40-2d43-4994-b15a-989b8c79e311       Del Mar    CA   \n",
       "4        K662701  68a861fd-0d20-4e51-a587-8a90407ee574     Needville    TX   \n",
       "...          ...                                   ...           ...   ...   \n",
       "9995     M324793  45deb5a2-ae04-4518-bf0b-c82db8dbe4a4   Mount Holly    VT   \n",
       "9996     D861732  6e96b921-0c09-4993-bbda-a1ac6411061a   Clarksville    TN   \n",
       "9997     I243405  e8307ddf-9a01-4fff-bc59-4742e03fd24f      Mobeetie    TX   \n",
       "9998     I641617  3775ccfc-0052-4107-81ae-9657f81ecdf3    Carrollton    GA   \n",
       "9999      T38070  9de5fb6e-bd33-4995-aec8-f01d0172a499  Clarkesville    GA   \n",
       "\n",
       "                     County  Population      Area             Timezone  \\\n",
       "0     Prince of Wales-Hyder          38     Urban        America/Sitka   \n",
       "1                    Ogemaw       10446     Urban      America/Detroit   \n",
       "2                   Yamhill        3735     Urban  America/Los_Angeles   \n",
       "3                 San Diego       13863  Suburban  America/Los_Angeles   \n",
       "4                 Fort Bend       11352  Suburban      America/Chicago   \n",
       "...                     ...         ...       ...                  ...   \n",
       "9995                Rutland         640     Rural     America/New_York   \n",
       "9996             Montgomery       77168     Rural      America/Chicago   \n",
       "9997                Wheeler         406     Rural      America/Chicago   \n",
       "9998                Carroll       35575     Urban     America/New_York   \n",
       "9999              Habersham       12230     Urban     America/New_York   \n",
       "\n",
       "                                    Job  Children  ...  MonthlyCharge  \\\n",
       "0     Environmental health practitioner       1.0  ...     171.449762   \n",
       "1                Programmer, multimedia       1.0  ...     242.948015   \n",
       "2               Chief Financial Officer       4.0  ...     159.440398   \n",
       "3                             Solicitor       1.0  ...     120.249493   \n",
       "4                   Medical illustrator       0.0  ...     150.761216   \n",
       "...                                 ...       ...  ...            ...   \n",
       "9995    Sport and exercise psychologist       3.0  ...     159.828800   \n",
       "9996          Consulting civil engineer       4.0  ...     208.856400   \n",
       "9997       IT technical support officer       1.0  ...     168.220900   \n",
       "9998                     Water engineer       1.0  ...     252.628600   \n",
       "9999                 Personal assistant       1.0  ...     218.371000   \n",
       "\n",
       "     Bandwidth_GB_Year Responses  Fixes Replacements Reliability Options  \\\n",
       "0           904.536110         5      5            5           3       4   \n",
       "1           800.982766         3      4            3           3       4   \n",
       "2          2054.706961         4      4            2           4       4   \n",
       "3          2164.579412         4      4            4           2       5   \n",
       "4           271.493436         4      4            4           3       4   \n",
       "...                ...       ...    ...          ...         ...     ...   \n",
       "9995       6511.253000         3      2            3           3       4   \n",
       "9996       5695.952000         4      5            5           4       4   \n",
       "9997       4159.306000         4      4            4           4       4   \n",
       "9998       6468.457000         4      4            6           4       3   \n",
       "9999       5857.586000         2      2            3           3       3   \n",
       "\n",
       "      Respectfulness  Courteous  Listening  \n",
       "0                  4          3          4  \n",
       "1                  3          4          4  \n",
       "2                  3          3          3  \n",
       "3                  4          3          3  \n",
       "4                  4          4          5  \n",
       "...              ...        ...        ...  \n",
       "9995               3          2          3  \n",
       "9996               5          2          5  \n",
       "9997               4          4          5  \n",
       "9998               3          5          4  \n",
       "9999               3          4          1  \n",
       "\n",
       "[10000 rows x 47 columns]"
      ]
     },
     "execution_count": 92,
     "metadata": {},
     "output_type": "execute_result"
    }
   ],
   "source": [
    "df.drop_duplicates()"
   ]
  },
  {
   "cell_type": "code",
   "execution_count": 93,
   "id": "a0426024",
   "metadata": {},
   "outputs": [],
   "source": [
    "df=df.drop_duplicates()"
   ]
  },
  {
   "cell_type": "code",
   "execution_count": 95,
   "id": "0e7a5802",
   "metadata": {},
   "outputs": [
    {
     "name": "stdout",
     "output_type": "stream",
     "text": [
      "False    10000\n",
      "dtype: int64\n"
     ]
    }
   ],
   "source": [
    "print(df.duplicated().value_counts())"
   ]
  },
  {
   "cell_type": "code",
   "execution_count": 108,
   "id": "6ff679b4",
   "metadata": {},
   "outputs": [
    {
     "data": {
      "text/plain": [
       "(array([1919., 4369., 1100., 1096.,  769.,  161.,  135.,  149.,  158.,\n",
       "         144.]),\n",
       " array([ 0.,  1.,  2.,  3.,  4.,  5.,  6.,  7.,  8.,  9., 10.]),\n",
       " <BarContainer object of 10 artists>)"
      ]
     },
     "execution_count": 108,
     "metadata": {},
     "output_type": "execute_result"
    },
    {
     "data": {
      "image/png": "[encoded data removed]",
      "text/plain": [
       "<Figure size 640x480 with 1 Axes>"
      ]
     },
     "metadata": {},
     "output_type": "display_data"
    }
   ],
   "source": [
    "plt.hist(df['Children'])"
   ]
  },
  {
   "cell_type": "code",
   "execution_count": 114,
   "id": "47e05eb1",
   "metadata": {},
   "outputs": [],
   "source": [
    "df['Children'].fillna(df['Children'].median(), inplace=True)"
   ]
  },
  {
   "cell_type": "code",
   "execution_count": 121,
   "id": "c7843274",
   "metadata": {},
   "outputs": [],
   "source": [
    "df['Children'].fillna(df['Children'].median(), inplace=True)\n"
   ]
  },
  {
   "cell_type": "code",
   "execution_count": 122,
   "id": "c34076ac",
   "metadata": {},
   "outputs": [],
   "source": [
    "data_frame = pd.read_csv('churn_raw_data.csv')"
   ]
  },
  {
   "cell_type": "code",
   "execution_count": 125,
   "id": "ca72be9a",
   "metadata": {},
   "outputs": [],
   "source": [
    "data_frame_index = pd.read_csv('churn_raw_data.csv', usecols = ['Customer_id'])"
   ]
  },
  {
   "cell_type": "code",
   "execution_count": 126,
   "id": "277b279b",
   "metadata": {},
   "outputs": [
    {
     "name": "stdout",
     "output_type": "stream",
     "text": [
      "     Customer_id\n",
      "0        K409198\n",
      "1        S120509\n",
      "2        K191035\n",
      "3         D90850\n",
      "4        K662701\n",
      "...          ...\n",
      "9995     M324793\n",
      "9996     D861732\n",
      "9997     I243405\n",
      "9998     I641617\n",
      "9999      T38070\n",
      "\n",
      "[10000 rows x 1 columns]\n"
     ]
    }
   ],
   "source": [
    "print(data_frame_index)"
   ]
  },
  {
   "cell_type": "code",
   "execution_count": 127,
   "id": "7cee2c0a",
   "metadata": {},
   "outputs": [
    {
     "data": {
      "text/plain": [
       "Unnamed: 0                 0\n",
       "Customer_id                0\n",
       "Interaction                0\n",
       "City                       0\n",
       "State                      0\n",
       "County                     0\n",
       "Population                 0\n",
       "Area                       0\n",
       "Timezone                   0\n",
       "Job                        0\n",
       "Children                   0\n",
       "Age                        0\n",
       "Education                  0\n",
       "Employment                 0\n",
       "Income                     0\n",
       "Marital                    0\n",
       "Gender                     0\n",
       "Churn                      0\n",
       "Outage_sec_perweek         0\n",
       "Email                      0\n",
       "Contacts                   0\n",
       "Yearly_equip_failure       0\n",
       "Techie                  2477\n",
       "Contract                   0\n",
       "Port_modem                 0\n",
       "Tablet                     0\n",
       "InternetService            0\n",
       "Phone                   1026\n",
       "Multiple                   0\n",
       "OnlineSecurity             0\n",
       "OnlineBackup               0\n",
       "DeviceProtection           0\n",
       "TechSupport              991\n",
       "StreamingTV                0\n",
       "StreamingMovies            0\n",
       "PaperlessBilling           0\n",
       "PaymentMethod              0\n",
       "Tenure                     0\n",
       "MonthlyCharge              0\n",
       "Bandwidth_GB_Year          0\n",
       "Responses                  0\n",
       "Fixes                      0\n",
       "Replacements               0\n",
       "Reliability                0\n",
       "Options                    0\n",
       "Respectfulness             0\n",
       "Courteous                  0\n",
       "Listening                  0\n",
       "dtype: int64"
      ]
     },
     "execution_count": 127,
     "metadata": {},
     "output_type": "execute_result"
    }
   ],
   "source": [
    "data_frame.isna().sum()"
   ]
  },
  {
   "cell_type": "code",
   "execution_count": 128,
   "id": "79d010cc",
   "metadata": {},
   "outputs": [],
   "source": [
    "data_frame[\"Children\"].fillna(data_frame[\"Children\"].mean(), inplace = True)"
   ]
  },
  {
   "cell_type": "code",
   "execution_count": 129,
   "id": "45fda4bc",
   "metadata": {},
   "outputs": [],
   "source": [
    "data_frame[\"Age\"].fillna(data_frame[\"Age\"].mean(), inplace = True)"
   ]
  },
  {
   "cell_type": "code",
   "execution_count": 130,
   "id": "82ce68d4",
   "metadata": {},
   "outputs": [],
   "source": [
    "data_frame[\"Tenure\"].fillna(data_frame[\"Tenure\"].mean(), inplace = True)"
   ]
  },
  {
   "cell_type": "code",
   "execution_count": 131,
   "id": "01a3d600",
   "metadata": {},
   "outputs": [],
   "source": [
    "data_frame[\"Income\"].fillna(data_frame[\"Income\"].mean(), inplace = True)\n"
   ]
  },
  {
   "cell_type": "code",
   "execution_count": 132,
   "id": "9e543684",
   "metadata": {},
   "outputs": [],
   "source": [
    "data_frame[\"Bandwidth_GB_Year\"].fillna(data_frame[\"Bandwidth_GB_Year\"].mean(), inplace =True)"
   ]
  },
  {
   "cell_type": "code",
   "execution_count": 133,
   "id": "58d313cc",
   "metadata": {},
   "outputs": [],
   "source": [
    "data_frame[\"Techie\"].fillna(data_frame[\"Techie\"].mode(), inplace = True)"
   ]
  },
  {
   "cell_type": "code",
   "execution_count": 134,
   "id": "00ade4d3",
   "metadata": {},
   "outputs": [],
   "source": [
    "data_frame['Techie'] = data_frame['Techie'].fillna(data_frame['Techie'].mode()[0])"
   ]
  },
  {
   "cell_type": "code",
   "execution_count": 135,
   "id": "d09118ff",
   "metadata": {},
   "outputs": [],
   "source": [
    "data_frame['Phone'] = data_frame['Phone'].fillna(data_frame['Phone'].mode()[0])"
   ]
  },
  {
   "cell_type": "code",
   "execution_count": 136,
   "id": "8549fa7e",
   "metadata": {},
   "outputs": [],
   "source": [
    "data_frame['TechSupport'] = data_frame['TechSupport'].fillna(data_frame['TechSupport'].mode()[0])"
   ]
  },
  {
   "cell_type": "code",
   "execution_count": 137,
   "id": "0fe4729e",
   "metadata": {},
   "outputs": [
    {
     "data": {
      "text/plain": [
       "Unnamed: 0              0\n",
       "Customer_id             0\n",
       "Interaction             0\n",
       "City                    0\n",
       "State                   0\n",
       "County                  0\n",
       "Population              0\n",
       "Area                    0\n",
       "Timezone                0\n",
       "Job                     0\n",
       "Children                0\n",
       "Age                     0\n",
       "Education               0\n",
       "Employment              0\n",
       "Income                  0\n",
       "Marital                 0\n",
       "Gender                  0\n",
       "Churn                   0\n",
       "Outage_sec_perweek      0\n",
       "Email                   0\n",
       "Contacts                0\n",
       "Yearly_equip_failure    0\n",
       "Techie                  0\n",
       "Contract                0\n",
       "Port_modem              0\n",
       "Tablet                  0\n",
       "InternetService         0\n",
       "Phone                   0\n",
       "Multiple                0\n",
       "OnlineSecurity          0\n",
       "OnlineBackup            0\n",
       "DeviceProtection        0\n",
       "TechSupport             0\n",
       "StreamingTV             0\n",
       "StreamingMovies         0\n",
       "PaperlessBilling        0\n",
       "PaymentMethod           0\n",
       "Tenure                  0\n",
       "MonthlyCharge           0\n",
       "Bandwidth_GB_Year       0\n",
       "Responses               0\n",
       "Fixes                   0\n",
       "Replacements            0\n",
       "Reliability             0\n",
       "Options                 0\n",
       "Respectfulness          0\n",
       "Courteous               0\n",
       "Listening               0\n",
       "dtype: int64"
      ]
     },
     "execution_count": 137,
     "metadata": {},
     "output_type": "execute_result"
    }
   ],
   "source": [
    "data_frame.isna().sum()"
   ]
  },
  {
   "cell_type": "code",
   "execution_count": 138,
   "id": "55029ce8",
   "metadata": {},
   "outputs": [
    {
     "data": {
      "text/html": [
       "<div>\n",
       "<style scoped>\n",
       "    .dataframe tbody tr th:only-of-type {\n",
       "        vertical-align: middle;\n",
       "    }\n",
       "\n",
       "    .dataframe tbody tr th {\n",
       "        vertical-align: top;\n",
       "    }\n",
       "\n",
       "    .dataframe thead th {\n",
       "        text-align: right;\n",
       "    }\n",
       "</style>\n",
       "<table border=\"1\" class=\"dataframe\">\n",
       "  <thead>\n",
       "    <tr style=\"text-align: right;\">\n",
       "      <th></th>\n",
       "      <th>Unnamed: 0</th>\n",
       "      <th>Customer_id</th>\n",
       "      <th>Interaction</th>\n",
       "      <th>City</th>\n",
       "      <th>State</th>\n",
       "      <th>County</th>\n",
       "      <th>Population</th>\n",
       "      <th>Area</th>\n",
       "      <th>Timezone</th>\n",
       "      <th>Job</th>\n",
       "      <th>...</th>\n",
       "      <th>MonthlyCharge</th>\n",
       "      <th>Bandwidth_GB_Year</th>\n",
       "      <th>Responses</th>\n",
       "      <th>Fixes</th>\n",
       "      <th>Replacements</th>\n",
       "      <th>Reliability</th>\n",
       "      <th>Options</th>\n",
       "      <th>Respectfulness</th>\n",
       "      <th>Courteous</th>\n",
       "      <th>Listening</th>\n",
       "    </tr>\n",
       "  </thead>\n",
       "  <tbody>\n",
       "    <tr>\n",
       "      <th>0</th>\n",
       "      <td>0</td>\n",
       "      <td>K409198</td>\n",
       "      <td>aa90260b-4141-4a24-8e36-b04ce1f4f77b</td>\n",
       "      <td>Point Baker</td>\n",
       "      <td>AK</td>\n",
       "      <td>Prince of Wales-Hyder</td>\n",
       "      <td>38</td>\n",
       "      <td>Urban</td>\n",
       "      <td>America/Sitka</td>\n",
       "      <td>Environmental health practitioner</td>\n",
       "      <td>...</td>\n",
       "      <td>171.449762</td>\n",
       "      <td>904.536110</td>\n",
       "      <td>5</td>\n",
       "      <td>5</td>\n",
       "      <td>5</td>\n",
       "      <td>3</td>\n",
       "      <td>4</td>\n",
       "      <td>4</td>\n",
       "      <td>3</td>\n",
       "      <td>4</td>\n",
       "    </tr>\n",
       "    <tr>\n",
       "      <th>1</th>\n",
       "      <td>1</td>\n",
       "      <td>S120509</td>\n",
       "      <td>fb76459f-c047-4a9d-8af9-e0f7d4ac2524</td>\n",
       "      <td>West Branch</td>\n",
       "      <td>MI</td>\n",
       "      <td>Ogemaw</td>\n",
       "      <td>10446</td>\n",
       "      <td>Urban</td>\n",
       "      <td>America/Detroit</td>\n",
       "      <td>Programmer, multimedia</td>\n",
       "      <td>...</td>\n",
       "      <td>242.948015</td>\n",
       "      <td>800.982766</td>\n",
       "      <td>3</td>\n",
       "      <td>4</td>\n",
       "      <td>3</td>\n",
       "      <td>3</td>\n",
       "      <td>4</td>\n",
       "      <td>3</td>\n",
       "      <td>4</td>\n",
       "      <td>4</td>\n",
       "    </tr>\n",
       "    <tr>\n",
       "      <th>2</th>\n",
       "      <td>2</td>\n",
       "      <td>K191035</td>\n",
       "      <td>344d114c-3736-4be5-98f7-c72c281e2d35</td>\n",
       "      <td>Yamhill</td>\n",
       "      <td>OR</td>\n",
       "      <td>Yamhill</td>\n",
       "      <td>3735</td>\n",
       "      <td>Urban</td>\n",
       "      <td>America/Los_Angeles</td>\n",
       "      <td>Chief Financial Officer</td>\n",
       "      <td>...</td>\n",
       "      <td>159.440398</td>\n",
       "      <td>2054.706961</td>\n",
       "      <td>4</td>\n",
       "      <td>4</td>\n",
       "      <td>2</td>\n",
       "      <td>4</td>\n",
       "      <td>4</td>\n",
       "      <td>3</td>\n",
       "      <td>3</td>\n",
       "      <td>3</td>\n",
       "    </tr>\n",
       "    <tr>\n",
       "      <th>3</th>\n",
       "      <td>3</td>\n",
       "      <td>D90850</td>\n",
       "      <td>abfa2b40-2d43-4994-b15a-989b8c79e311</td>\n",
       "      <td>Del Mar</td>\n",
       "      <td>CA</td>\n",
       "      <td>San Diego</td>\n",
       "      <td>13863</td>\n",
       "      <td>Suburban</td>\n",
       "      <td>America/Los_Angeles</td>\n",
       "      <td>Solicitor</td>\n",
       "      <td>...</td>\n",
       "      <td>120.249493</td>\n",
       "      <td>2164.579412</td>\n",
       "      <td>4</td>\n",
       "      <td>4</td>\n",
       "      <td>4</td>\n",
       "      <td>2</td>\n",
       "      <td>5</td>\n",
       "      <td>4</td>\n",
       "      <td>3</td>\n",
       "      <td>3</td>\n",
       "    </tr>\n",
       "    <tr>\n",
       "      <th>4</th>\n",
       "      <td>4</td>\n",
       "      <td>K662701</td>\n",
       "      <td>68a861fd-0d20-4e51-a587-8a90407ee574</td>\n",
       "      <td>Needville</td>\n",
       "      <td>TX</td>\n",
       "      <td>Fort Bend</td>\n",
       "      <td>11352</td>\n",
       "      <td>Suburban</td>\n",
       "      <td>America/Chicago</td>\n",
       "      <td>Medical illustrator</td>\n",
       "      <td>...</td>\n",
       "      <td>150.761216</td>\n",
       "      <td>271.493436</td>\n",
       "      <td>4</td>\n",
       "      <td>4</td>\n",
       "      <td>4</td>\n",
       "      <td>3</td>\n",
       "      <td>4</td>\n",
       "      <td>4</td>\n",
       "      <td>4</td>\n",
       "      <td>5</td>\n",
       "    </tr>\n",
       "  </tbody>\n",
       "</table>\n",
       "<p>5 rows × 48 columns</p>\n",
       "</div>"
      ],
      "text/plain": [
       "   Unnamed: 0 Customer_id                           Interaction         City  \\\n",
       "0           0     K409198  aa90260b-4141-4a24-8e36-b04ce1f4f77b  Point Baker   \n",
       "1           1     S120509  fb76459f-c047-4a9d-8af9-e0f7d4ac2524  West Branch   \n",
       "2           2     K191035  344d114c-3736-4be5-98f7-c72c281e2d35      Yamhill   \n",
       "3           3      D90850  abfa2b40-2d43-4994-b15a-989b8c79e311      Del Mar   \n",
       "4           4     K662701  68a861fd-0d20-4e51-a587-8a90407ee574    Needville   \n",
       "\n",
       "  State                 County  Population      Area             Timezone  \\\n",
       "0    AK  Prince of Wales-Hyder          38     Urban        America/Sitka   \n",
       "1    MI                 Ogemaw       10446     Urban      America/Detroit   \n",
       "2    OR                Yamhill        3735     Urban  America/Los_Angeles   \n",
       "3    CA              San Diego       13863  Suburban  America/Los_Angeles   \n",
       "4    TX              Fort Bend       11352  Suburban      America/Chicago   \n",
       "\n",
       "                                 Job  ...  MonthlyCharge  Bandwidth_GB_Year  \\\n",
       "0  Environmental health practitioner  ...     171.449762         904.536110   \n",
       "1             Programmer, multimedia  ...     242.948015         800.982766   \n",
       "2            Chief Financial Officer  ...     159.440398        2054.706961   \n",
       "3                          Solicitor  ...     120.249493        2164.579412   \n",
       "4                Medical illustrator  ...     150.761216         271.493436   \n",
       "\n",
       "  Responses Fixes  Replacements Reliability Options Respectfulness  Courteous  \\\n",
       "0         5     5             5           3       4              4          3   \n",
       "1         3     4             3           3       4              3          4   \n",
       "2         4     4             2           4       4              3          3   \n",
       "3         4     4             4           2       5              4          3   \n",
       "4         4     4             4           3       4              4          4   \n",
       "\n",
       "   Listening  \n",
       "0          4  \n",
       "1          4  \n",
       "2          3  \n",
       "3          3  \n",
       "4          5  \n",
       "\n",
       "[5 rows x 48 columns]"
      ]
     },
     "execution_count": 138,
     "metadata": {},
     "output_type": "execute_result"
    }
   ],
   "source": [
    "data_frame.head()"
   ]
  },
  {
   "cell_type": "code",
   "execution_count": 145,
   "id": "cdf14de3",
   "metadata": {},
   "outputs": [
    {
     "data": {
      "image/png": "[encoded data removed]",
      "text/plain": [
       "<Figure size 640x480 with 1 Axes>"
      ]
     },
     "metadata": {},
     "output_type": "display_data"
    }
   ],
   "source": [
    "plt.hist(df['Children'])\n",
    "plt.show()"
   ]
  },
  {
   "cell_type": "code",
   "execution_count": 146,
   "id": "1f171f53",
   "metadata": {},
   "outputs": [
    {
     "data": {
      "image/png": "[encoded data removed]",
      "text/plain": [
       "<Figure size 640x480 with 1 Axes>"
      ]
     },
     "metadata": {},
     "output_type": "display_data"
    }
   ],
   "source": [
    "plt.hist(df['Age'])\n",
    "plt.show()"
   ]
  },
  {
   "cell_type": "code",
   "execution_count": 151,
   "id": "4222206d",
   "metadata": {},
   "outputs": [
    {
     "data": {
      "image/png": "[encoded data removed]",
      "text/plain": [
       "<Figure size 640x480 with 1 Axes>"
      ]
     },
     "metadata": {},
     "output_type": "display_data"
    }
   ],
   "source": [
    "plt.hist(df['Income'])\n",
    "plt.show()"
   ]
  },
  {
   "cell_type": "code",
   "execution_count": 152,
   "id": "46a09370",
   "metadata": {},
   "outputs": [
    {
     "data": {
      "image/png": "[encoded data removed]",
      "text/plain": [
       "<Figure size 640x480 with 1 Axes>"
      ]
     },
     "metadata": {},
     "output_type": "display_data"
    }
   ],
   "source": [
    "plt.hist(df['Tenure'])\n",
    "plt.show()"
   ]
  },
  {
   "cell_type": "code",
   "execution_count": 153,
   "id": "621d80de",
   "metadata": {},
   "outputs": [
    {
     "data": {
      "image/png": "[encoded data removed]",
      "text/plain": [
       "<Figure size 640x480 with 1 Axes>"
      ]
     },
     "metadata": {},
     "output_type": "display_data"
    }
   ],
   "source": [
    "plt.hist(df['MonthlyCharge'])\n",
    "plt.show()"
   ]
  },
  {
   "cell_type": "code",
   "execution_count": 154,
   "id": "57ed4cb5",
   "metadata": {
    "scrolled": true
   },
   "outputs": [
    {
     "data": {
      "image/png": "[encoded data removed]",
      "text/plain": [
       "<Figure size 640x480 with 1 Axes>"
      ]
     },
     "metadata": {},
     "output_type": "display_data"
    }
   ],
   "source": [
    "plt.hist(df['Bandwidth_GB_Year'])\n",
    "plt.show()"
   ]
  },
  {
   "cell_type": "code",
   "execution_count": 179,
   "id": "654716f5",
   "metadata": {},
   "outputs": [],
   "source": [
    "df['Children_Z_Scores']=stats.zscore(df['Children'])\n"
   ]
  },
  {
   "cell_type": "code",
   "execution_count": 181,
   "id": "fa6d4dc6",
   "metadata": {},
   "outputs": [],
   "source": [
    "df['Age_Z_Scores']=stats.zscore(df['Age'])\n"
   ]
  },
  {
   "cell_type": "code",
   "execution_count": 182,
   "id": "01e6dca1",
   "metadata": {},
   "outputs": [],
   "source": [
    "df['Income_Z_Scores']=stats.zscore(df['Income'])\n"
   ]
  },
  {
   "cell_type": "code",
   "execution_count": 183,
   "id": "7dd7da0b",
   "metadata": {},
   "outputs": [],
   "source": [
    "df['Tenure_Z_Scores']=stats.zscore(df['Tenure'])\n"
   ]
  },
  {
   "cell_type": "code",
   "execution_count": 184,
   "id": "a7b6b2f2",
   "metadata": {},
   "outputs": [],
   "source": [
    "df['MonthlyCharge_Z_Scores']=stats.zscore(df['MonthlyCharge'])\n"
   ]
  },
  {
   "cell_type": "code",
   "execution_count": 185,
   "id": "a9802f48",
   "metadata": {},
   "outputs": [],
   "source": [
    "df['Bandwidth_GB_Year_Z_Scores']=stats.zscore(df['Bandwidth_GB_Year'])\n"
   ]
  },
  {
   "cell_type": "code",
   "execution_count": 167,
   "id": "2c2cd340",
   "metadata": {},
   "outputs": [],
   "source": [
    "import numpy as np"
   ]
  },
  {
   "cell_type": "code",
   "execution_count": 168,
   "id": "ac61dda9",
   "metadata": {},
   "outputs": [],
   "source": [
    "import pandas as pd"
   ]
  },
  {
   "cell_type": "code",
   "execution_count": 169,
   "id": "a93f7b99",
   "metadata": {},
   "outputs": [],
   "source": [
    "from pandas import DataFrame"
   ]
  },
  {
   "cell_type": "code",
   "execution_count": 170,
   "id": "861e376a",
   "metadata": {},
   "outputs": [],
   "source": [
    "import scipy.stats as stats"
   ]
  },
  {
   "cell_type": "code",
   "execution_count": 180,
   "id": "80a0212f",
   "metadata": {},
   "outputs": [
    {
     "data": {
      "text/plain": [
       "<bound method NDFrame.head of       Children  Children_Z_Scores\n",
       "0          1.0          -0.427079\n",
       "1          1.0          -0.427079\n",
       "2          4.0           1.130655\n",
       "3          1.0          -0.427079\n",
       "4          0.0          -0.946323\n",
       "...        ...                ...\n",
       "9995       3.0           0.611410\n",
       "9996       4.0           1.130655\n",
       "9997       1.0          -0.427079\n",
       "9998       1.0          -0.427079\n",
       "9999       1.0          -0.427079\n",
       "\n",
       "[10000 rows x 2 columns]>"
      ]
     },
     "execution_count": 180,
     "metadata": {},
     "output_type": "execute_result"
    }
   ],
   "source": [
    "df[['Children','Children_Z_Scores']].head\n",
    "\n"
   ]
  },
  {
   "cell_type": "code",
   "execution_count": 187,
   "id": "ff92dc0d",
   "metadata": {},
   "outputs": [
    {
     "data": {
      "text/plain": [
       "<bound method NDFrame.head of          Income  Income_Z_Scores\n",
       "0     28561.990        -0.391731\n",
       "1     21704.770        -0.668828\n",
       "2     33186.785        -0.204845\n",
       "3     18925.230        -0.781148\n",
       "4     40074.190         0.073471\n",
       "...         ...              ...\n",
       "9995  55723.740         0.705863\n",
       "9996  33186.785        -0.204845\n",
       "9997  33186.785        -0.204845\n",
       "9998  16667.580        -0.872379\n",
       "9999  33186.785        -0.204845\n",
       "\n",
       "[10000 rows x 2 columns]>"
      ]
     },
     "execution_count": 187,
     "metadata": {},
     "output_type": "execute_result"
    }
   ],
   "source": [
    "df[['Income','Income_Z_Scores']].head\n"
   ]
  },
  {
   "cell_type": "code",
   "execution_count": 188,
   "id": "5ef45a72",
   "metadata": {},
   "outputs": [
    {
     "data": {
      "text/plain": [
       "<bound method NDFrame.head of        Age  Age_Z_Scores\n",
       "0     68.0      0.821689\n",
       "1     27.0     -1.455765\n",
       "2     50.0     -0.178169\n",
       "3     48.0     -0.289264\n",
       "4     83.0      1.654904\n",
       "...    ...           ...\n",
       "9995  53.0     -0.011526\n",
       "9996  48.0     -0.289264\n",
       "9997  53.0     -0.011526\n",
       "9998  39.0     -0.789193\n",
       "9999  28.0     -1.400218\n",
       "\n",
       "[10000 rows x 2 columns]>"
      ]
     },
     "execution_count": 188,
     "metadata": {},
     "output_type": "execute_result"
    }
   ],
   "source": [
    "df[['Age','Age_Z_Scores']].head\n"
   ]
  },
  {
   "cell_type": "code",
   "execution_count": 189,
   "id": "45757545",
   "metadata": {},
   "outputs": [
    {
     "data": {
      "text/plain": [
       "<bound method NDFrame.head of          Tenure  Tenure_Z_Scores\n",
       "0      6.795513        -1.106419\n",
       "1      1.156681        -1.330346\n",
       "2     15.754144        -0.750657\n",
       "3     17.087227        -0.697719\n",
       "4      1.670972        -1.309923\n",
       "...         ...              ...\n",
       "9995  68.197130         1.331938\n",
       "9996  61.040370         1.047731\n",
       "9997  36.196030         0.061123\n",
       "9998  71.095600         1.447041\n",
       "9999  63.350860         1.139485\n",
       "\n",
       "[10000 rows x 2 columns]>"
      ]
     },
     "execution_count": 189,
     "metadata": {},
     "output_type": "execute_result"
    }
   ],
   "source": [
    "df[['Tenure','Tenure_Z_Scores']].head\n"
   ]
  },
  {
   "cell_type": "code",
   "execution_count": 190,
   "id": "062b3cf9",
   "metadata": {},
   "outputs": [
    {
     "data": {
      "text/plain": [
       "<bound method NDFrame.head of       MonthlyCharge  MonthlyCharge_Z_Scores\n",
       "0        171.449762               -0.060613\n",
       "1        242.948015                1.589348\n",
       "2        159.440398               -0.337752\n",
       "3        120.249493               -1.242158\n",
       "4        150.761216               -0.538041\n",
       "...             ...                     ...\n",
       "9995     159.828800               -0.328789\n",
       "9996     208.856400                0.802618\n",
       "9997     168.220900               -0.135125\n",
       "9998     252.628600                1.812746\n",
       "9999     218.371000                1.022186\n",
       "\n",
       "[10000 rows x 2 columns]>"
      ]
     },
     "execution_count": 190,
     "metadata": {},
     "output_type": "execute_result"
    }
   ],
   "source": [
    "df[['MonthlyCharge','MonthlyCharge_Z_Scores']].head\n"
   ]
  },
  {
   "cell_type": "code",
   "execution_count": 191,
   "id": "4c56b50f",
   "metadata": {},
   "outputs": [
    {
     "data": {
      "text/plain": [
       "<bound method NDFrame.head of       Bandwidth_GB_Year  Bandwidth_GB_Year_Z_Scores\n",
       "0            904.536110                   -1.202650\n",
       "1            800.982766                   -1.252613\n",
       "2           2054.706961                   -0.647713\n",
       "3           2164.579412                   -0.594701\n",
       "4            271.493436                   -1.508082\n",
       "...                 ...                         ...\n",
       "9995        6511.253000                    1.502492\n",
       "9996        5695.952000                    1.109123\n",
       "9997        4159.306000                    0.367719\n",
       "9998        6468.457000                    1.481843\n",
       "9999        5857.586000                    1.187109\n",
       "\n",
       "[10000 rows x 2 columns]>"
      ]
     },
     "execution_count": 191,
     "metadata": {},
     "output_type": "execute_result"
    }
   ],
   "source": [
    "df[['Bandwidth_GB_Year','Bandwidth_GB_Year_Z_Scores']].head\n"
   ]
  },
  {
   "cell_type": "code",
   "execution_count": 192,
   "id": "22436c3d",
   "metadata": {},
   "outputs": [
    {
     "data": {
      "text/plain": [
       "(array([1919., 4369., 1100., 1096.,  769.,  161.,  135.,  149.,  158.,\n",
       "         144.]),\n",
       " array([-0.9463232 , -0.42707864,  0.09216591,  0.61141046,  1.13065501,\n",
       "         1.64989957,  2.16914412,  2.68838867,  3.20763323,  3.72687778,\n",
       "         4.24612233]),\n",
       " <BarContainer object of 10 artists>)"
      ]
     },
     "execution_count": 192,
     "metadata": {},
     "output_type": "execute_result"
    },
    {
     "data": {
      "image/png": "[encoded data removed]",
      "text/plain": [
       "<Figure size 640x480 with 1 Axes>"
      ]
     },
     "metadata": {},
     "output_type": "display_data"
    }
   ],
   "source": [
    "plt.hist(df['Children_Z_Scores'])"
   ]
  },
  {
   "cell_type": "code",
   "execution_count": 193,
   "id": "376ffc96",
   "metadata": {},
   "outputs": [
    {
     "data": {
      "text/plain": [
       "(array([ 853.,  756.,  714.,  739., 3183.,  739.,  728.,  728.,  761.,\n",
       "         799.]),\n",
       " array([-1.95569445, -1.56130602, -1.16691759, -0.77252916, -0.37814074,\n",
       "         0.01624769,  0.41063612,  0.80502455,  1.19941298,  1.59380141,\n",
       "         1.98818983]),\n",
       " <BarContainer object of 10 artists>)"
      ]
     },
     "execution_count": 193,
     "metadata": {},
     "output_type": "execute_result"
    },
    {
     "data": {
      "image/png": "[encoded data removed]",
      "text/plain": [
       "<Figure size 640x480 with 1 Axes>"
      ]
     },
     "metadata": {},
     "output_type": "display_data"
    }
   ],
   "source": [
    "plt.hist(df['Age_Z_Scores'])"
   ]
  },
  {
   "cell_type": "code",
   "execution_count": 194,
   "id": "9634fe74",
   "metadata": {},
   "outputs": [
    {
     "data": {
      "text/plain": [
       "(array([2.912e+03, 5.132e+03, 1.193e+03, 5.080e+02, 1.670e+02, 6.000e+01,\n",
       "        2.100e+01, 4.000e+00, 1.000e+00, 2.000e+00]),\n",
       " array([-1.51597813, -0.47276544,  0.57044725,  1.61365994,  2.65687263,\n",
       "         3.70008532,  4.74329801,  5.7865107 ,  6.82972339,  7.87293608,\n",
       "         8.91614877]),\n",
       " <BarContainer object of 10 artists>)"
      ]
     },
     "execution_count": 194,
     "metadata": {},
     "output_type": "execute_result"
    },
    {
     "data": {
      "image/png": "[encoded data removed]",
      "text/plain": [
       "<Figure size 640x480 with 1 Axes>"
      ]
     },
     "metadata": {},
     "output_type": "display_data"
    }
   ],
   "source": [
    "plt.hist(df['Income_Z_Scores'])"
   ]
  },
  {
   "cell_type": "code",
   "execution_count": 195,
   "id": "55e9a14c",
   "metadata": {},
   "outputs": [
    {
     "data": {
      "text/plain": [
       "(array([2337., 1473.,  568.,  132.,  961.,  221.,  540.,  870., 1330.,\n",
       "        1568.]),\n",
       " array([-1.33655797, -1.05460943, -0.77266089, -0.49071235, -0.20876381,\n",
       "         0.07318474,  0.35513328,  0.63708182,  0.91903036,  1.2009789 ,\n",
       "         1.48292744]),\n",
       " <BarContainer object of 10 artists>)"
      ]
     },
     "execution_count": 195,
     "metadata": {},
     "output_type": "execute_result"
    },
    {
     "data": {
      "image/png": "[encoded data removed]",
      "text/plain": [
       "<Figure size 640x480 with 1 Axes>"
      ]
     },
     "metadata": {},
     "output_type": "display_data"
    }
   ],
   "source": [
    "plt.hist(df['Tenure_Z_Scores'])"
   ]
  },
  {
   "cell_type": "code",
   "execution_count": 196,
   "id": "00aa29be",
   "metadata": {},
   "outputs": [
    {
     "data": {
      "text/plain": [
       "(array([ 219.,  947., 1917., 2272., 1809., 1151.,  968.,  520.,  187.,\n",
       "          10.]),\n",
       " array([-2.22856466, -1.67847193, -1.12837919, -0.57828646, -0.02819372,\n",
       "         0.52189901,  1.07199175,  1.62208448,  2.17217722,  2.72226995,\n",
       "         3.27236269]),\n",
       " <BarContainer object of 10 artists>)"
      ]
     },
     "execution_count": 196,
     "metadata": {},
     "output_type": "execute_result"
    },
    {
     "data": {
      "image/png": "[encoded data removed]",
      "text/plain": [
       "<Figure size 640x480 with 1 Axes>"
      ]
     },
     "metadata": {},
     "output_type": "display_data"
    }
   ],
   "source": [
    "plt.hist(df['MonthlyCharge_Z_Scores'])"
   ]
  },
  {
   "cell_type": "code",
   "execution_count": 197,
   "id": "a06f6fb0",
   "metadata": {
    "scrolled": true
   },
   "outputs": [
    {
     "data": {
      "text/plain": [
       "(array([1031., 2062., 1087.,  255., 1119.,  370.,  844., 1399., 1484.,\n",
       "         349.]),\n",
       " array([-1.56404339, -1.22613811, -0.88823283, -0.55032755, -0.21242227,\n",
       "         0.12548301,  0.46338829,  0.80129357,  1.13919885,  1.47710413,\n",
       "         1.81500941]),\n",
       " <BarContainer object of 10 artists>)"
      ]
     },
     "execution_count": 197,
     "metadata": {},
     "output_type": "execute_result"
    },
    {
     "data": {
      "image/png": "[encoded data removed]",
      "text/plain": [
       "<Figure size 640x480 with 1 Axes>"
      ]
     },
     "metadata": {},
     "output_type": "display_data"
    }
   ],
   "source": [
    "plt.hist(df['Bandwidth_GB_Year_Z_Scores'])"
   ]
  },
  {
   "cell_type": "code",
   "execution_count": 198,
   "id": "d3aeba9e",
   "metadata": {},
   "outputs": [],
   "source": [
    "import seaborn"
   ]
  },
  {
   "cell_type": "code",
   "execution_count": 200,
   "id": "510ccc74",
   "metadata": {},
   "outputs": [
    {
     "data": {
      "image/png": "[encoded data removed]",
      "text/plain": [
       "<Figure size 640x480 with 1 Axes>"
      ]
     },
     "metadata": {},
     "output_type": "display_data"
    }
   ],
   "source": [
    "boxplot=seaborn.boxplot(x='Children_Z_Scores',data=df)\n"
   ]
  },
  {
   "cell_type": "code",
   "execution_count": 201,
   "id": "baec51fb",
   "metadata": {},
   "outputs": [
    {
     "data": {
      "image/png": "[encoded data removed]",
      "text/plain": [
       "<Figure size 640x480 with 1 Axes>"
      ]
     },
     "metadata": {},
     "output_type": "display_data"
    }
   ],
   "source": [
    "boxplot=seaborn.boxplot(x='Age_Z_Scores',data=df)\n"
   ]
  },
  {
   "cell_type": "code",
   "execution_count": 202,
   "id": "1738a3f8",
   "metadata": {},
   "outputs": [
    {
     "data": {
      "image/png": "[encoded data removed]",
      "text/plain": [
       "<Figure size 640x480 with 1 Axes>"
      ]
     },
     "metadata": {},
     "output_type": "display_data"
    }
   ],
   "source": [
    "boxplot=seaborn.boxplot(x='Income_Z_Scores',data=df)\n"
   ]
  },
  {
   "cell_type": "code",
   "execution_count": 203,
   "id": "fbc49dc4",
   "metadata": {},
   "outputs": [
    {
     "data": {
      "image/png": "[encoded data removed]",
      "text/plain": [
       "<Figure size 640x480 with 1 Axes>"
      ]
     },
     "metadata": {},
     "output_type": "display_data"
    }
   ],
   "source": [
    "boxplot=seaborn.boxplot(x='Tenure_Z_Scores',data=df)\n"
   ]
  },
  {
   "cell_type": "code",
   "execution_count": 204,
   "id": "d7128cd3",
   "metadata": {},
   "outputs": [
    {
     "data": {
      "image/png": "[encoded data removed]",
      "text/plain": [
       "<Figure size 640x480 with 1 Axes>"
      ]
     },
     "metadata": {},
     "output_type": "display_data"
    }
   ],
   "source": [
    "boxplot=seaborn.boxplot(x='MonthlyCharge_Z_Scores',data=df)\n"
   ]
  },
  {
   "cell_type": "code",
   "execution_count": 206,
   "id": "77644815",
   "metadata": {},
   "outputs": [
    {
     "data": {
      "image/png": "[encoded data removed]",
      "text/plain": [
       "<Figure size 640x480 with 1 Axes>"
      ]
     },
     "metadata": {},
     "output_type": "display_data"
    }
   ],
   "source": [
    "boxplot=seaborn.boxplot(x='Bandwidth_GB_Year_Z_Scores',data=df)\n"
   ]
  },
  {
   "cell_type": "code",
   "execution_count": 219,
   "id": "00c0959c",
   "metadata": {},
   "outputs": [],
   "source": [
    "# Zscores are all within -3 and 3, and therefore I will retain them as this is within a reasonable range and there are no errors. "
   ]
  },
  {
   "cell_type": "code",
   "execution_count": 220,
   "id": "3c03b727",
   "metadata": {},
   "outputs": [],
   "source": [
    "import pandas as pd"
   ]
  },
  {
   "cell_type": "code",
   "execution_count": 221,
   "id": "be60de3c",
   "metadata": {},
   "outputs": [],
   "source": [
    "import numpy as np"
   ]
  },
  {
   "cell_type": "code",
   "execution_count": 223,
   "id": "c06c6db8",
   "metadata": {},
   "outputs": [],
   "source": [
    "import matplotlib.pyplot as plt"
   ]
  },
  {
   "cell_type": "code",
   "execution_count": 224,
   "id": "d96d8455",
   "metadata": {},
   "outputs": [],
   "source": [
    "from sklearn.decomposition import PCA\n"
   ]
  },
  {
   "cell_type": "code",
   "execution_count": 227,
   "id": "edb2028d",
   "metadata": {},
   "outputs": [],
   "source": [
    "import seaborn as sns"
   ]
  },
  {
   "cell_type": "code",
   "execution_count": 230,
   "id": "14ee5b55",
   "metadata": {},
   "outputs": [],
   "source": [
    "from sklearn.decomposition import PCA"
   ]
  },
  {
   "cell_type": "code",
   "execution_count": 232,
   "id": "69ffd13a",
   "metadata": {},
   "outputs": [],
   "source": [
    "test_pca = data_frame[['Age', 'Children', 'Income']]"
   ]
  },
  {
   "cell_type": "code",
   "execution_count": 235,
   "id": "f2c580ee",
   "metadata": {},
   "outputs": [],
   "source": [
    "test_pca_normalized=test_pca-test_pca.mean()/test_pca.std()"
   ]
  },
  {
   "cell_type": "code",
   "execution_count": 236,
   "id": "bfc44dfb",
   "metadata": {},
   "outputs": [],
   "source": [
    "pca = PCA(n_components=test_pca.shape[1])"
   ]
  },
  {
   "cell_type": "code",
   "execution_count": 237,
   "id": "2b52277f",
   "metadata": {},
   "outputs": [
    {
     "data": {
      "text/plain": [
       "PCA(n_components=3)"
      ]
     },
     "execution_count": 237,
     "metadata": {},
     "output_type": "execute_result"
    }
   ],
   "source": [
    "pca.fit(test_pca_normalized)"
   ]
  },
  {
   "cell_type": "code",
   "execution_count": 238,
   "id": "e5aca505",
   "metadata": {},
   "outputs": [],
   "source": [
    "test_pca2 = pd.DataFrame(pca.transform(test_pca_normalized),columns=['PC1', 'PC2', 'PC3'])"
   ]
  },
  {
   "cell_type": "code",
   "execution_count": 239,
   "id": "9eb38eff",
   "metadata": {},
   "outputs": [
    {
     "data": {
      "text/html": [
       "<div>\n",
       "<style scoped>\n",
       "    .dataframe tbody tr th:only-of-type {\n",
       "        vertical-align: middle;\n",
       "    }\n",
       "\n",
       "    .dataframe tbody tr th {\n",
       "        vertical-align: top;\n",
       "    }\n",
       "\n",
       "    .dataframe thead th {\n",
       "        text-align: right;\n",
       "    }\n",
       "</style>\n",
       "<table border=\"1\" class=\"dataframe\">\n",
       "  <thead>\n",
       "    <tr style=\"text-align: right;\">\n",
       "      <th></th>\n",
       "      <th>PC1</th>\n",
       "      <th>PC2</th>\n",
       "      <th>PC3</th>\n",
       "    </tr>\n",
       "  </thead>\n",
       "  <tbody>\n",
       "    <tr>\n",
       "      <th>Age</th>\n",
       "      <td>1.854782e-07</td>\n",
       "      <td>9.999979e-01</td>\n",
       "      <td>0.002064</td>\n",
       "    </tr>\n",
       "    <tr>\n",
       "      <th>Children</th>\n",
       "      <td>1.003498e-06</td>\n",
       "      <td>-2.063709e-03</td>\n",
       "      <td>0.999998</td>\n",
       "    </tr>\n",
       "    <tr>\n",
       "      <th>Income</th>\n",
       "      <td>1.000000e+00</td>\n",
       "      <td>-1.834069e-07</td>\n",
       "      <td>-0.000001</td>\n",
       "    </tr>\n",
       "  </tbody>\n",
       "</table>\n",
       "</div>"
      ],
      "text/plain": [
       "                   PC1           PC2       PC3\n",
       "Age       1.854782e-07  9.999979e-01  0.002064\n",
       "Children  1.003498e-06 -2.063709e-03  0.999998\n",
       "Income    1.000000e+00 -1.834069e-07 -0.000001"
      ]
     },
     "execution_count": 239,
     "metadata": {},
     "output_type": "execute_result"
    }
   ],
   "source": [
    "loadings = pd.DataFrame(pca.components_.T,\n",
    "                       columns=['PC1', 'PC2', 'PC3'],\n",
    "                        index=test_pca_normalized.columns)\n",
    "loadings"
   ]
  },
  {
   "cell_type": "code",
   "execution_count": 243,
   "id": "51d1438a",
   "metadata": {},
   "outputs": [],
   "source": [
    "cov_matrix = np.dot(test_pca_normalized.T, test_pca_normalized) / test_pca.shape[0]\n",
    "eigenvalues = [np.dot(eigenvector.T, np.dot(cov_matrix, eigenvector)) for eigenvector in pca.components_]"
   ]
  },
  {
   "cell_type": "code",
   "execution_count": 244,
   "id": "8deb44a1",
   "metadata": {
    "scrolled": true
   },
   "outputs": [
    {
     "data": {
      "image/png": "[encoded data removed]",
      "text/plain": [
       "<Figure size 640x480 with 1 Axes>"
      ]
     },
     "metadata": {},
     "output_type": "display_data"
    }
   ],
   "source": [
    "plt.plot (eigenvalues)\n",
    "plt.xlabel('number of components')\n",
    "plt.ylabel('eigenvalues')\n",
    "plt.axhline(y=1, color=\"red\")\n",
    "plt.show()"
   ]
  },
  {
   "cell_type": "code",
   "execution_count": 287,
   "id": "0eea1339",
   "metadata": {},
   "outputs": [],
   "source": [
    "df.to_csv(r\"C:\\Users\\JoyO'halloran\\Documents\\D206.csv\")\n"
   ]
  },
  {
   "cell_type": "code",
   "execution_count": null,
   "id": "8f90c190",
   "metadata": {},
   "outputs": [],
   "source": []
  }
 ],
 "metadata": {
  "kernelspec": {
   "display_name": "Python 3 (ipykernel)",
   "language": "python",
   "name": "python3"
  },
  "language_info": {
   "codemirror_mode": {
    "name": "ipython",
    "version": 3
   },
   "file_extension": ".py",
   "mimetype": "text/x-python",
   "name": "python",
   "nbconvert_exporter": "python",
   "pygments_lexer": "ipython3",
   "version": "3.9.13"
  }
 },
 "nbformat": 4,
 "nbformat_minor": 5
}
